{
 "cells": [
  {
   "cell_type": "code",
   "execution_count": 6,
   "id": "b821eee2",
   "metadata": {},
   "outputs": [],
   "source": [
    "import numpy as np\n",
    "import matplotlib.pyplot as plt\n",
    "from nanonets import Simulation\n",
    "\n",
    "import scienceplots\n",
    "plt.style.use([\"science\",\"bright\",\"grid\"])"
   ]
  },
  {
   "cell_type": "code",
   "execution_count": 7,
   "id": "26f0e6fa",
   "metadata": {},
   "outputs": [],
   "source": [
    "# Topology\n",
    "N_x, N_y            = 5,5\n",
    "N_particles         = N_x*N_y\n",
    "topology_parameter  = {\n",
    "    \"Nx\"                : N_x,\n",
    "    \"Ny\"                : N_y,\n",
    "    \"e_pos\"             : [[0,0],[N_x-1,N_y-1]],\n",
    "    \"electrode_type\"    : ['constant','constant']\n",
    "}\n",
    "\n",
    "# Voltages\n",
    "N_voltages  = 51\n",
    "N_electrode = len(topology_parameter[\"e_pos\"])\n",
    "input_volt  = np.linspace(-0.1,0.1,51)\n",
    "volt        = np.zeros(shape=(N_voltages,N_electrode+1))\n",
    "volt[:,0]   = input_volt"
   ]
  },
  {
   "cell_type": "code",
   "execution_count": 8,
   "id": "eda6af7e",
   "metadata": {},
   "outputs": [],
   "source": [
    "# Run static simulation\n",
    "sim_class = Simulation(topology_parameter)\n",
    "sim_class.run_static_voltages(voltages=volt, target_electrode=(N_electrode-1))"
   ]
  },
  {
   "cell_type": "code",
   "execution_count": 5,
   "id": "b6ae714e",
   "metadata": {},
   "outputs": [],
   "source": [
    "y       = sim_class.get_observable_storage()\n",
    "y_e     = sim_class.get_observable_error_storage()\n",
    "pot     = sim_class.get_potential_storage()\n",
    "i_net   = sim_class.get_network_current_storage()"
   ]
  },
  {
   "cell_type": "code",
   "execution_count": 6,
   "id": "65ed7f07",
   "metadata": {},
   "outputs": [
    {
     "data": {
      "text/plain": [
       "array([-5.61611882e+08, -5.53717274e+08, -5.11081213e+08, -4.77067786e+08,\n",
       "       -4.23713477e+08, -4.07752442e+08, -3.74129058e+08, -3.44122792e+08,\n",
       "       -3.13806975e+08, -2.85911945e+08, -2.61327544e+08, -2.26677471e+08,\n",
       "       -2.04231640e+08, -1.80275528e+08, -1.53072932e+08, -1.32274534e+08,\n",
       "       -1.08075553e+08, -8.86910096e+07, -7.58307554e+07, -5.88620333e+07,\n",
       "       -4.25253734e+07, -3.13289348e+07, -2.15541409e+07, -7.45116637e+06,\n",
       "       -6.94184073e+05,  8.09682287e+01,  6.66282816e+05,  7.70467882e+06,\n",
       "        2.28726318e+07,  3.07944154e+07,  4.22846534e+07,  5.75819382e+07,\n",
       "        7.93417422e+07,  8.89160302e+07,  1.07304798e+08,  1.30136428e+08,\n",
       "        1.54244241e+08,  1.77978445e+08,  2.03542031e+08,  2.26640220e+08,\n",
       "        2.60498047e+08,  2.75144956e+08,  3.13063476e+08,  3.41864813e+08,\n",
       "        3.75026641e+08,  4.02347224e+08,  4.24145289e+08,  4.75791875e+08,\n",
       "        4.89918202e+08,  5.26798820e+08,  5.68302466e+08])"
      ]
     },
     "execution_count": 6,
     "metadata": {},
     "output_type": "execute_result"
    }
   ],
   "source": [
    "y"
   ]
  }
 ],
 "metadata": {
  "kernelspec": {
   "display_name": "Python 3",
   "language": "python",
   "name": "python3"
  },
  "language_info": {
   "codemirror_mode": {
    "name": "ipython",
    "version": 3
   },
   "file_extension": ".py",
   "mimetype": "text/x-python",
   "name": "python",
   "nbconvert_exporter": "python",
   "pygments_lexer": "ipython3",
   "version": "3.10.12"
  }
 },
 "nbformat": 4,
 "nbformat_minor": 5
}
