{
 "cells": [
  {
   "cell_type": "code",
   "execution_count": 1,
   "metadata": {},
   "outputs": [],
   "source": [
    "# Libraries\n",
    "import numpy as np\n",
    "import pandas as pd\n",
    "import matplotlib.pyplot as plt\n",
    "import matplotlib.animation as animation\n",
    "from tqdm import tqdm\n",
    "%matplotlib inline\n",
    "\n",
    "# Extend PATH Variable\n",
    "import sys\n",
    "sys.path.append(\"src/\")\n",
    "\n",
    "# NanoNets Simulation Tool\n",
    "import nanonets\n",
    "import nanonets_utils\n",
    "\n",
    "# Plot Colors\n",
    "blue_color  = '#348ABD'\n",
    "red_color   = '#A60628'"
   ]
  },
  {
   "cell_type": "markdown",
   "metadata": {},
   "source": [
    "## Step 1:\n",
    "### Init Network Topology and Electrostatic Properties:\n",
    "- Network Topology either `\"cubic\"` or `\"random\"`\n",
    "- `topology_parameter` defines network parameter via the following keys\n",
    "- if `\"cubic\"`\n",
    "    - `\"Nx\"`    :   Number of Nanoparticles in x-direction\n",
    "    - `\"Ny\"`    :   Number of Nanoparticles in y-direction\n",
    "    - `\"Nz\"`    :   Number of Nanoparticles in z-direction\n",
    "    - `\"e_pos\"` :   Electrode positions as list of lists. Each element corresponds to nanoparticle position `[x,y,z]` which is attached to an electrode\n",
    "\n",
    "- if `\"random\"`\n",
    "    - `$N_{NP}$`    :   Number of Nanoparticles\n",
    "    - `$N_{J}$`     :   Number of Junctions per Nanoparticle\n",
    "    - `\"e_pos\"`     :   Electrode positions as list of lists. Each element corresponds to cartesian coordinates `[x,y]` of the specific electrode. Closest nanoparticle to this electrode will be attached to it\n",
    "\n",
    "- `np_info` defines electrostatic properies via nanoparticle properties\n",
    "    - `\"eps_r\"`         : relative permittivity of the insulating molecule\n",
    "    - `\"eps_s\"`         : relative permittivity of the insulating SiO2 layer\n",
    "    - `\"mean_radius\"`   : average nanoparticle radius [nm]\n",
    "    - `\"std_radius\"`    : standard deviation nanopartcile radius [nm]  \n",
    "    - `\"np_distance\"`   : spacing in between nanoparticles"
   ]
  },
  {
   "cell_type": "code",
   "execution_count": 2,
   "metadata": {},
   "outputs": [],
   "source": [
    "# Example: Cubic Network\n",
    "network_topology = \"cubic\"\n",
    "\n",
    "# Network Parameter\n",
    "topology_parameter = {\n",
    "    \"Nx\"    : 7,\n",
    "    \"Ny\"    : 7,\n",
    "    \"Nz\"    : 1,\n",
    "    \"e_pos\" : [[0,0,0],[3,0,0],[6,0,0],[0,3,0],[0,6,0],[6,3,0],[3,6,0],[6,6,0]]\n",
    "}\n",
    "\n",
    "# Nanoparticle Parameter\n",
    "np_info = {\n",
    "    \"eps_r\"         : 2.6,\n",
    "    \"eps_s\"         : 3.9,\n",
    "    \"mean_radius\"   : 10.0,\n",
    "    \"std_radius\"    : 0.0,\n",
    "    \"np_distance\"   : 1.0\n",
    "}\n",
    "\n",
    "# Nanoparticle Resistances\n",
    "res_info = {\n",
    "    \"mean_R\"    : 25.0,\n",
    "    \"std_R\"     : 0.0    \n",
    "}\n",
    "\n",
    "# Save Folder\n",
    "folder  = \"\"\n",
    "\n",
    "# Network Class Object\n",
    "np_network_cubic = nanonets.simulation(network_topology=network_topology, topology_parameter=topology_parameter, folder=folder, np_info=np_info, res_info=res_info)"
   ]
  },
  {
   "cell_type": "code",
   "execution_count": 3,
   "metadata": {},
   "outputs": [
    {
     "data": {
      "image/png": "[encoded data removed]",
      "text/plain": [
       "<Figure size 350x262.5 with 1 Axes>"
      ]
     },
     "metadata": {},
     "output_type": "display_data"
    }
   ],
   "source": [
    "# Plot Network (blue : NP - red : Electrode)\n",
    "fig, ax = nanonets_utils.display_network(np_network_sim=np_network_cubic, node_size=150)"
   ]
  },
  {
   "cell_type": "code",
   "execution_count": 16,
   "metadata": {},
   "outputs": [
    {
     "ename": "KeyboardInterrupt",
     "evalue": "",
     "output_type": "error",
     "traceback": [
      "\u001b[0;31m---------------------------------------------------------------------------\u001b[0m",
      "\u001b[0;31mKeyboardInterrupt\u001b[0m                         Traceback (most recent call last)",
      "Cell \u001b[0;32mIn [16], line 5\u001b[0m\n\u001b[1;32m      2\u001b[0m np_network_cubic \u001b[38;5;241m=\u001b[39m nanonets\u001b[38;5;241m.\u001b[39msimulation(network_topology\u001b[38;5;241m=\u001b[39mnetwork_topology, topology_parameter\u001b[38;5;241m=\u001b[39mtopology_parameter, folder\u001b[38;5;241m=\u001b[39mfolder, np_info\u001b[38;5;241m=\u001b[39mnp_info, res_info\u001b[38;5;241m=\u001b[39mres_info)\n\u001b[1;32m      4\u001b[0m \u001b[38;5;28;01mfor\u001b[39;00m V_val \u001b[38;5;129;01min\u001b[39;00m V_vals:\n\u001b[0;32m----> 5\u001b[0m     \u001b[43mnp_network_cubic\u001b[49m\u001b[38;5;241;43m.\u001b[39;49m\u001b[43mrun_const_voltages\u001b[49m\u001b[43m(\u001b[49m\u001b[43mnp\u001b[49m\u001b[38;5;241;43m.\u001b[39;49m\u001b[43marray\u001b[49m\u001b[43m(\u001b[49m\u001b[43m[\u001b[49m\u001b[43m[\u001b[49m\u001b[43mV_val\u001b[49m\u001b[43m,\u001b[49m\u001b[43m \u001b[49m\u001b[43mV_val\u001b[49m\u001b[43m,\u001b[49m\u001b[43m \u001b[49m\u001b[43mV_val\u001b[49m\u001b[43m,\u001b[49m\u001b[43m \u001b[49m\u001b[43mV_val\u001b[49m\u001b[43m,\u001b[49m\u001b[43m \u001b[49m\u001b[43mV_val\u001b[49m\u001b[43m,\u001b[49m\u001b[43m \u001b[49m\u001b[43mV_val\u001b[49m\u001b[43m,\u001b[49m\u001b[43m \u001b[49m\u001b[43mV_val\u001b[49m\u001b[43m,\u001b[49m\u001b[43m \u001b[49m\u001b[38;5;241;43m0.0\u001b[39;49m\u001b[43m,\u001b[49m\u001b[43m \u001b[49m\u001b[38;5;241;43m0.0\u001b[39;49m\u001b[43m]\u001b[49m\u001b[43m]\u001b[49m\u001b[43m)\u001b[49m\u001b[43m,\u001b[49m\u001b[38;5;241;43m7\u001b[39;49m\u001b[43m)\u001b[49m\n",
      "File \u001b[0;32m~/phd/NanoNets/src/nanonets.py:1175\u001b[0m, in \u001b[0;36msimulation.run_const_voltages\u001b[0;34m(self, voltages, target_electrode, T_val, sim_dic, save_th, tunnel_order, jumps_per_stat, output_potential)\u001b[0m\n\u001b[1;32m   1169\u001b[0m model \u001b[38;5;241m=\u001b[39m model_class(charge_vector, potential_vector, inv_capacitance_matrix, const_capacitance_values, const_capacitance_values_co1, const_capacitance_values_co2,\n\u001b[1;32m   1170\u001b[0m                         temperatures, temperatures_co, resistances, resistances_co1, resistances_co2, adv_index_rows, adv_index_cols, co_adv_index1, co_adv_index2,\n\u001b[1;32m   1171\u001b[0m                         co_adv_index3, N_electrodes, N_particles, C_np_target, C_np_self)\n\u001b[1;32m   1173\u001b[0m \u001b[38;5;66;03m# Eqilibrate Potential Landscape\u001b[39;00m\n\u001b[1;32m   1174\u001b[0m \u001b[38;5;66;03m# eq_jumps = model.reach_equilibrium()\u001b[39;00m\n\u001b[0;32m-> 1175\u001b[0m eq_jumps \u001b[38;5;241m=\u001b[39m \u001b[43mmodel\u001b[49m\u001b[38;5;241;43m.\u001b[39;49m\u001b[43mrun_equilibration_steps\u001b[49m\u001b[43m(\u001b[49m\u001b[43meq_steps\u001b[49m\u001b[43m)\u001b[49m\n\u001b[1;32m   1177\u001b[0m \u001b[38;5;66;03m# Production Run until Current at target electrode is less than error_th or max_jumps was passed\u001b[39;00m\n\u001b[1;32m   1178\u001b[0m \u001b[38;5;66;03m# model.kmc_simulation(target_electrode, error_th, max_jumps)\u001b[39;00m\n\u001b[1;32m   1179\u001b[0m \u001b[38;5;28;01mif\u001b[39;00m output_potential:\n",
      "File \u001b[0;32m~/.local/lib/python3.10/site-packages/numba/experimental/jitclass/boxing.py:61\u001b[0m, in \u001b[0;36m_generate_method.<locals>.wrapper\u001b[0;34m(*args, **kwargs)\u001b[0m\n\u001b[1;32m     59\u001b[0m \u001b[38;5;129m@wraps\u001b[39m(func)\n\u001b[1;32m     60\u001b[0m \u001b[38;5;28;01mdef\u001b[39;00m \u001b[38;5;21mwrapper\u001b[39m(\u001b[38;5;241m*\u001b[39margs, \u001b[38;5;241m*\u001b[39m\u001b[38;5;241m*\u001b[39mkwargs):\n\u001b[0;32m---> 61\u001b[0m     \u001b[38;5;28;01mreturn\u001b[39;00m \u001b[43mmethod\u001b[49m\u001b[43m(\u001b[49m\u001b[38;5;241;43m*\u001b[39;49m\u001b[43margs\u001b[49m\u001b[43m,\u001b[49m\u001b[43m \u001b[49m\u001b[38;5;241;43m*\u001b[39;49m\u001b[38;5;241;43m*\u001b[39;49m\u001b[43mkwargs\u001b[49m\u001b[43m)\u001b[49m\n",
      "\u001b[0;31mKeyboardInterrupt\u001b[0m: "
     ]
    }
   ],
   "source": [
    "V_vals = np.linspace(-0.1,0.1, 200, endpoint=True)\n",
    "np_network_cubic = nanonets.simulation(network_topology=network_topology, topology_parameter=topology_parameter, folder=folder, np_info=np_info, res_info=res_info)\n",
    "\n",
    "for V_val in V_vals:\n",
    "    np_network_cubic.run_const_voltages(np.array([[V_val, V_val, V_val, V_val, V_val, V_val, V_val, 0.0, 0.0]]),7)"
   ]
  },
  {
   "cell_type": "code",
   "execution_count": null,
   "metadata": {},
   "outputs": [],
   "source": [
    "I_mean  = np_network_cubic.return_output_values()[:,2]\n",
    "I_u     = np_network_cubic.return_output_values()[:,3]"
   ]
  },
  {
   "cell_type": "code",
   "execution_count": null,
   "metadata": {},
   "outputs": [],
   "source": [
    "plt.errorbar(V_vals, I_mean, I_u)"
   ]
  },
  {
   "cell_type": "code",
   "execution_count": null,
   "metadata": {},
   "outputs": [],
   "source": [
    "# Example: Random Network\n",
    "network_topology = \"random\"\n",
    "\n",
    "# Network Parameter\n",
    "topology_parameter  = {\n",
    "    \"Np\"    : 50,\n",
    "    \"Nj\"    : 4,\n",
    "    \"e_pos\" : [[-1,-1],[-1,1],[1,-1],[1,1]]\n",
    "}\n",
    "\n",
    "# Nanoparticle Parameter\n",
    "np_info = {\n",
    "    \"eps_r\"         : 2.6,\n",
    "    \"eps_s\"         : 3.9,\n",
    "    \"mean_radius\"   : 10.0,\n",
    "    \"std_radius\"    : 5.0,\n",
    "    \"np_distance\"   : 1.0\n",
    "}\n",
    "\n",
    "# Nanoparticle Resistances\n",
    "res_info = {\n",
    "    \"mean_R\"    : 25.0,\n",
    "    \"std_R\"     : 5.0    \n",
    "}\n",
    "\n",
    "# Save Folder\n",
    "folder  = \"\"\n",
    "\n",
    "# Network Class Object\n",
    "np_network_random = nanonets.simulation(network_topology=network_topology, topology_parameter=topology_parameter, folder=folder, np_info=np_info, res_info=res_info)"
   ]
  },
  {
   "cell_type": "code",
   "execution_count": null,
   "metadata": {},
   "outputs": [],
   "source": [
    "# Plot Network (blue : NP - red : Electrode)\n",
    "fig, ax = nanonets_utils.display_network(np_network_sim=np_network_random, node_size=150)"
   ]
  },
  {
   "cell_type": "markdown",
   "metadata": {},
   "source": [
    "## Step 2:\n",
    "### Define Electrode Voltages\n",
    "- Voltages are either constant in time or not\n",
    "- In either case we need as many electrode voltages as there are electrodes connected to the network, otherwise --> Error\n",
    "- Voltages are defined via an array\n",
    "    - with columns corresponding to the electrode. First Column == First Electrode at position `topology_parameter['epos'][0]`\n",
    "    - the last column corresponds to the gate electrode, which is electrostatic coupled to all nanopartciles, i.e. there **have to be** `N_electrodes + 1` in the voltage numpy array \n",
    "    - rows correspond either to the set of constant electrode voltages or to the voltage time series (first row = t0, second row = t1, ...)\n",
    "    - most of the time there is an electrode referred as *output* which is generally grounded, i.e. $U = 0 V$\n",
    "- In case of time dependent voltages one must also define a time scale as a simple 1D array"
   ]
  },
  {
   "cell_type": "code",
   "execution_count": null,
   "metadata": {},
   "outputs": [],
   "source": [
    "# Example: Constant Voltages\n",
    "N_voltages      = 100\n",
    "V_abs           = 0.1\n",
    "voltages_const  = np.zeros(shape=(N_voltages, np_network_cubic.N_electrodes + 1))\n",
    "\n",
    "# Electrode Voltages\n",
    "voltages_const[:,0] = np.linspace(-0.1,0.1,N_voltages)\n",
    "voltages_const[:,1] = np.repeat(0.05,N_voltages)\n",
    "voltages_const[:,2] = np.repeat(-0.02,N_voltages)\n",
    "\n",
    "print(voltages_const)"
   ]
  },
  {
   "cell_type": "code",
   "execution_count": null,
   "metadata": {},
   "outputs": [],
   "source": [
    "with plt.style.context(\"bmh\"):\n",
    "    \n",
    "    plt.plot(voltages_const, '.-')\n",
    "    plt.xlabel(\"Run\")\n",
    "    plt.ylabel(\"$U$ [V]\")\n",
    "    plt.legend(['$U_0$','$U_1$','$U_2$','$U_3$','$U_G$'])\n",
    "    plt.show()"
   ]
  },
  {
   "cell_type": "code",
   "execution_count": null,
   "metadata": {},
   "outputs": [],
   "source": [
    "# Time Scale\n",
    "step_size   = 1e-8\n",
    "N_voltages  = 1000\n",
    "time        = step_size*np.arange(N_voltages)\n",
    "\n",
    "# Example: Time dependent Voltages\n",
    "off_state       = 0.05\n",
    "on_state        = 0.1\n",
    "on_t1           = 0\n",
    "on_t2           = int(N_voltages/4)\n",
    "on_t3           = int(N_voltages/2)\n",
    "on_t4           = int(3*N_voltages/4)\n",
    "voltages_time   = np.zeros(shape=(N_voltages,np_network_random.N_electrodes+1))\n",
    "\n",
    "# Input Electrode\n",
    "voltages_time[:,0]              = np.repeat(off_state, N_voltages)\n",
    "voltages_time[on_t1:on_t2,0]    = on_state\n",
    "voltages_time[on_t3:on_t4,0]    = on_state\n",
    "voltages_time[:,1]              = -0.04\n",
    "voltages_time[:,2]              = 0.02\n",
    "\n",
    "print(voltages_time)"
   ]
  },
  {
   "cell_type": "code",
   "execution_count": null,
   "metadata": {},
   "outputs": [],
   "source": [
    "with plt.style.context(\"bmh\"):\n",
    "    \n",
    "    plt.plot(time*10**6, voltages_time[:,0], '.-', label='$U_0$')\n",
    "    plt.plot(time*10**6, voltages_time[:,1], '.-', label='$U_1$')\n",
    "    plt.plot(time*10**6, voltages_time[:,2], '.-', label='$U_2$')\n",
    "    plt.xlabel(\"$t$ [$\\mu s$]\")\n",
    "    plt.ylabel(\"$U_I$ [V]\")\n",
    "    plt.legend()\n",
    "    plt.show()"
   ]
  },
  {
   "cell_type": "markdown",
   "metadata": {},
   "source": [
    "## Step 3:\n",
    "### Run Simulation\n",
    "- For const voltages `run_const_voltages()` and time dependent voltages `run_var_voltages()`\n",
    "- `run_const_voltages()` arguments:\n",
    "    - voltages          :   s.o\n",
    "    - target_electrode  :   index of output electrode most of the time `N_electrodes - 1`\n",
    "    - T_val             : Temperature\n",
    "    - sim_dic           : dictonary containing information for simulation with keys\n",
    "        - error_th  : desired relative error\n",
    "        - max_jumps : maximum number of MC steps\n",
    "        - eq_steps  : number of equilibration steps before production run\n",
    "    - save_th   :   save results at each save_th step. If values should not be stored just choose save_th < 1\n",
    "- `run_var_voltages()` arguments:\n",
    "    - voltages          : s.o\n",
    "    - time_steps        : s.o\n",
    "    - target_electrode  : index of output electrode most of the time `N_electrodes - 1`\n",
    "    - eq_steps          : number of equilibration steps before time starts\n",
    "    - T_val             : Temperature\n",
    "    - save_th           : save results at each save_th step.  If values should not be stored just choose save_th < 1\n",
    "    - store_per_it_min  : at this time start to store all potential/charge distributions\n",
    "    - store_per_it_max  : at this time stop to store all potential/charge distributions\n",
    "    - init              : initialize the system or move on from current state"
   ]
  },
  {
   "cell_type": "code",
   "execution_count": null,
   "metadata": {},
   "outputs": [],
   "source": [
    "# Example: Const Voltage Simulation\n",
    "target_electrode    = np_network_cubic.N_electrodes - 1\n",
    "sim_dic             = {\n",
    "    \"error_th\"    : 0.05,\n",
    "    \"max_jumps\"   : 10000000,\n",
    "    \"eq_steps\"    : 100000\n",
    "} \n",
    "\n",
    "np_network_cubic.clear_outputs()\n",
    "np_network_cubic.run_const_voltages(voltages=voltages_const, target_electrode=target_electrode, sim_dic=sim_dic, save_th=0.1)"
   ]
  },
  {
   "cell_type": "code",
   "execution_count": null,
   "metadata": {},
   "outputs": [],
   "source": [
    "const_outputs           =  pd.DataFrame(np.hstack([voltages_const,np_network_cubic.return_output_values()]))\n",
    "const_outputs.columns   = [f\"U_{i}\" for i in range(np_network_cubic.N_electrodes)] + [\"U_G\", \"eq_steps\", \"product_steps\", \"I\", \"u_I\"]\n",
    "const_outputs"
   ]
  },
  {
   "cell_type": "code",
   "execution_count": null,
   "metadata": {},
   "outputs": [],
   "source": [
    "with plt.style.context(\"bmh\"):\n",
    "\n",
    "    fig = plt.figure()\n",
    "    ax  = fig.add_subplot()\n",
    "    ax.errorbar(const_outputs['U_0'], const_outputs['I'], const_outputs['u_I'])\n",
    "    ax.set_ylabel(\"$I$ $[pA]$\")\n",
    "    ax.set_xlabel(\"$U_0$ $[V]$\")"
   ]
  },
  {
   "cell_type": "code",
   "execution_count": null,
   "metadata": {},
   "outputs": [],
   "source": [
    "# Example: Time dependent Voltage Simulation\n",
    "target_electrode    = np_network_random.N_electrodes - 1\n",
    "outputs             = []\n",
    "stat_size           = 10\n",
    "\n",
    "for _ in tqdm(range(stat_size)):\n",
    "    \n",
    "    np_network_random.clear_outputs()\n",
    "    np_network_random.run_var_voltages(voltages=voltages_time, time_steps=time, target_electrode=target_electrode, save_th=0.1, eq_steps=10000)\n",
    "    outputs.append(np_network_random.return_output_values())"
   ]
  },
  {
   "cell_type": "code",
   "execution_count": null,
   "metadata": {},
   "outputs": [],
   "source": [
    "time_outpus         = pd.DataFrame(np.hstack([voltages_time[:-1,:],np.mean(outputs,axis=0)]))\n",
    "time_outpus.columns = [f\"U_{i}\" for i in range(np_network_random.N_electrodes)] + [\"U_G\", \"eq_steps\", \"product_steps\", \"I\", \"u_I\"]\n",
    "time_outpus['u_I']  = np.std(outputs, axis=0)[:,-2]/np.sqrt(stat_size)\n",
    "time_outpus"
   ]
  },
  {
   "cell_type": "code",
   "execution_count": null,
   "metadata": {},
   "outputs": [],
   "source": [
    "with plt.style.context(\"bmh\"):\n",
    "\n",
    "    fig = plt.figure()\n",
    "    ax  = fig.add_subplot(2,1,1)\n",
    "    ax.errorbar(time[1:]*10**6, time_outpus['I'], time_outpus['u_I'])\n",
    "    ax.set_ylabel(\"$I$ $[pA]$\")\n",
    "    \n",
    "    ax  = fig.add_subplot(2,1,2)\n",
    "    ax.plot(time[1:]*10**6, time_outpus['U_0'], label='$U_0$')\n",
    "    ax.plot(time[1:]*10**6, time_outpus['U_1'], label='$U_1$')\n",
    "    ax.plot(time[1:]*10**6, time_outpus['U_2'], label='$U_2$')\n",
    "    ax.set_xlabel(\"$t$ $[\\mu s]$\")\n",
    "    ax.set_ylabel(\"$U$ $[V]$\")\n",
    "    ax.legend()"
   ]
  },
  {
   "cell_type": "code",
   "execution_count": null,
   "metadata": {},
   "outputs": [],
   "source": [
    "plt.plot(np_network_random.return_potential_landscape()[:,25])"
   ]
  },
  {
   "cell_type": "code",
   "execution_count": null,
   "metadata": {},
   "outputs": [],
   "source": [
    "store_per_it_min    = 12e-6\n",
    "store_per_it_max    = 14e-6\n",
    "simulation_outputs  = run_simulation(voltages=voltages, time_steps=time_steps, target_electrode=N_electrodes-1,\n",
    "                    network_topology=network_topology, topology_parameter=topology_parameter,\n",
    "                    R=25.0, Rstd=5.0, store_per_it_min=store_per_it_min, store_per_it_max=store_per_it_max, start_val=start_val)"
   ]
  },
  {
   "cell_type": "code",
   "execution_count": null,
   "metadata": {},
   "outputs": [],
   "source": [
    "output_values               = pd.concat([pd.DataFrame(np.mean(simulation_outputs['output'],axis=0)),pd.DataFrame(np.std(simulation_outputs['output'],axis=0))/np.sqrt(len(simulation_outputs['output']))],axis=1)\n",
    "output_values.columns       = [\"Jumps\",\"Current\",\"Jumps_Error\",\"Current_Error\"] \n",
    "microstate                  = pd.DataFrame(np.mean(simulation_outputs[\"microstate\"],axis=0))\n",
    "microstate_error            = pd.DataFrame(np.std(simulation_outputs[\"microstate\"],axis=0))/np.sqrt(len(simulation_outputs[\"microstate\"]))\n",
    "landscape                   = 1000*pd.DataFrame(np.mean(simulation_outputs[\"landscape\"],axis=0))\n",
    "landscape_error             = 1000*pd.DataFrame(np.std(simulation_outputs[\"landscape\"],axis=0))/np.sqrt(len(simulation_outputs[\"landscape\"]))\n",
    "net_currents                = pd.DataFrame(np.mean(simulation_outputs[\"net_currents\"],axis=0))\n",
    "net_currents.columns        = simulation_outputs[\"net_currents\"][0].columns\n",
    "net_currents_error          = pd.DataFrame(np.std(simulation_outputs[\"net_currents\"],axis=0))/np.sqrt(len(simulation_outputs[\"net_currents\"]))\n",
    "net_currents_error.columns  = simulation_outputs[\"net_currents\"][0].columns"
   ]
  },
  {
   "cell_type": "code",
   "execution_count": null,
   "metadata": {},
   "outputs": [],
   "source": [
    "print(f\"Average Jumps per Step: {np.round(output_values['Jumps'].mean(),2)}\")"
   ]
  },
  {
   "cell_type": "markdown",
   "metadata": {},
   "source": [
    "### Output electric Current"
   ]
  },
  {
   "cell_type": "code",
   "execution_count": null,
   "metadata": {},
   "outputs": [],
   "source": [
    "normed_input    = (inputs - np.min(inputs))/(np.max(inputs)-np.min(inputs))\n",
    "normed_output   = (output_values['Current'] - np.min(output_values['Current']))/(np.max(output_values['Current'])-np.min(output_values['Current']))\n",
    "\n",
    "with plt.style.context(\"bmh\"):\n",
    "\n",
    "    fig = plt.figure()\n",
    "    fig.set_figwidth(fig.get_figwidth()*3)\n",
    "    fig.set_figheight(fig.get_figheight())\n",
    "    ax  = fig.add_subplot()\n",
    "    ax.plot(time, normed_input, '.-', label=\"Input\")\n",
    "    ax.plot(time, normed_output, '.-', label=\"Output\")\n",
    "    # ax.fill_between(x=time, y1=(output_values['Current']-output_values['Current_Error']), y2=(output_values['Current']+output_values['Current_Error']), alpha=0.8)\n",
    "    # ax.plot(time, inputs, '.-', label=\"Input\")\n",
    "    ax.set_xlabel(\"$t$ [$\\mu s$]\")\n",
    "    ax.set_ylabel(\"Signal\")\n",
    "    ax.legend()\n",
    "    ax.set_xlim(6,9)\n",
    "    \n",
    "plt.show()"
   ]
  },
  {
   "cell_type": "code",
   "execution_count": null,
   "metadata": {},
   "outputs": [],
   "source": [
    "with plt.style.context(\"bmh\"):\n",
    "\n",
    "    fig = plt.figure()\n",
    "    ax  = fig.add_subplot()\n",
    "    ax.plot(inputs, output_values['Current'], '.', label=\"Output\")\n",
    "    # ax.plot(time, inputs, '.-', label=\"Input\")\n",
    "    ax.set_xlabel(\"$U_{I}$ $[mV]$\")\n",
    "    ax.set_ylabel(\"$I_O$ $[nA]$\")\n",
    "    ax.legend()\n"
   ]
  },
  {
   "cell_type": "code",
   "execution_count": null,
   "metadata": {},
   "outputs": [],
   "source": [
    "plt.rcParams[\"animation.html\"] = \"jshtml\"\n",
    "from IPython.display import HTML"
   ]
  },
  {
   "cell_type": "code",
   "execution_count": null,
   "metadata": {},
   "outputs": [],
   "source": [
    "output_values['Current']"
   ]
  },
  {
   "cell_type": "code",
   "execution_count": null,
   "metadata": {},
   "outputs": [],
   "source": [
    "with plt.style.context(\"bmh\"):\n",
    "\n",
    "    fig, ax = plt.subplots()\n",
    "    ax.set_xlim(-300,300)\n",
    "    ax.set_ylim(-10,10)\n",
    "\n",
    "    scat = ax.scatter(inputs[0],output_values['Current'][0])\n",
    "\n",
    "    def animate(i):\n",
    "        scat.set_offsets((inputs[i],output_values['Current'][i]))\n",
    "        return scat,\n",
    "\n",
    "    ani = animation.FuncAnimation(fig, animate, repeat=True,\n",
    "                                        frames=1000, interval=1)\n",
    "\n",
    "ani.save(\"test.gif\")"
   ]
  },
  {
   "cell_type": "markdown",
   "metadata": {},
   "source": [
    "#### Micro State"
   ]
  },
  {
   "cell_type": "code",
   "execution_count": null,
   "metadata": {},
   "outputs": [],
   "source": [
    "np_index = 24\n",
    "\n",
    "with plt.style.context(\"bmh\"):\n",
    "\n",
    "    fig = plt.figure()\n",
    "    ax  = fig.add_subplot()\n",
    "    ax.plot(time, microstate[np_index], '.-')\n",
    "    ax.fill_between(x=time, y1=(microstate[np_index]-microstate_error[np_index]), y2=(microstate[np_index]+microstate_error[np_index]), alpha=0.8)\n",
    "    ax.set_xlabel(\"$t$ [$\\mu s$]\")\n",
    "    ax.set_ylabel(\"$n_{\"+f\"{np_index}\"+\"}$ [e]\")\n",
    "    # ax.set_xscale('log')\n",
    "    plt.show()"
   ]
  },
  {
   "cell_type": "markdown",
   "metadata": {},
   "source": [
    "### Estimate electric Potential at Output Electrode"
   ]
  },
  {
   "cell_type": "code",
   "execution_count": 1,
   "metadata": {},
   "outputs": [],
   "source": [
    "# Libraries\n",
    "import numpy as np\n",
    "import pandas as pd\n",
    "import matplotlib.pyplot as plt\n",
    "import matplotlib.animation as animation\n",
    "from tqdm import tqdm\n",
    "%matplotlib inline\n",
    "\n",
    "# Extend PATH Variable\n",
    "import sys\n",
    "sys.path.append(\"src/\")\n",
    "\n",
    "# NanoNets Simulation Tool\n",
    "import nanonets\n",
    "import nanonets_utils\n",
    "\n",
    "# Plot Colors\n",
    "blue_color  = '#348ABD'\n",
    "red_color   = '#A60628'"
   ]
  },
  {
   "cell_type": "code",
   "execution_count": 2,
   "metadata": {},
   "outputs": [
    {
     "data": {
      "text/plain": [
       "(<Figure size 350x262.5 with 1 Axes>, <AxesSubplot: >)"
      ]
     },
     "execution_count": 2,
     "metadata": {},
     "output_type": "execute_result"
    },
    {
     "data": {
      "image/png": "[encoded data removed]",
      "text/plain": [
       "<Figure size 350x262.5 with 1 Axes>"
      ]
     },
     "metadata": {},
     "output_type": "display_data"
    }
   ],
   "source": [
    "# Example: Cubic Network\n",
    "network_topology = \"cubic\"\n",
    "\n",
    "# Network Parameter\n",
    "topology_parameter = {\n",
    "    \"Nx\"    : 3,\n",
    "    \"Ny\"    : 1,\n",
    "    \"Nz\"    : 1,\n",
    "    \"e_pos\" : [[0,0,0],[2,0,0]]\n",
    "}\n",
    "\n",
    "# Network Class Object\n",
    "np_network_cubic = nanonets.simulation(network_topology=network_topology, topology_parameter=topology_parameter)\n",
    "nanonets_utils.display_network(np_network_cubic)"
   ]
  },
  {
   "cell_type": "code",
   "execution_count": 3,
   "metadata": {},
   "outputs": [
    {
     "name": "stdout",
     "output_type": "stream",
     "text": [
      "-1\n",
      "-1\n",
      "-1\n",
      "-1\n",
      "-1\n",
      "-1\n",
      "-1\n",
      "-1\n",
      "-1\n",
      "-1\n",
      "-1\n",
      "-1\n",
      "-1\n",
      "-1\n",
      "-1\n",
      "-1\n",
      "-1\n",
      "-1\n",
      "-1\n",
      "-1\n",
      "-1\n",
      "-1\n",
      "-1\n",
      "-1\n",
      "-1\n",
      "-1\n",
      "-1\n",
      "-1\n",
      "-1\n",
      "-1\n",
      "-1\n",
      "-1\n",
      "-1\n",
      "-1\n",
      "-1\n",
      "-1\n",
      "-1\n",
      "-1\n",
      "-1\n",
      "-1\n",
      "-1\n",
      "-1\n",
      "-1\n",
      "-1\n",
      "-1\n",
      "-1\n",
      "-1\n",
      "-1\n",
      "-1\n",
      "-1\n",
      "-1\n",
      "-1\n",
      "-1\n",
      "-1\n",
      "-1\n",
      "-1\n",
      "-1\n",
      "-1\n",
      "-1\n",
      "-1\n",
      "-1\n",
      "-1\n",
      "-1\n",
      "-1\n",
      "-1\n",
      "-1\n",
      "-1\n",
      "-1\n",
      "-1\n",
      "-1\n",
      "-1\n",
      "-1\n",
      "-1\n",
      "-1\n",
      "-1\n",
      "-1\n",
      "-1\n",
      "-1\n",
      "-1\n",
      "-1\n",
      "-1\n",
      "-1\n",
      "-1\n"
     ]
    },
    {
     "ename": "KeyboardInterrupt",
     "evalue": "",
     "output_type": "error",
     "traceback": [
      "\u001b[0;31m---------------------------------------------------------------------------\u001b[0m",
      "\u001b[0;31mKeyboardInterrupt\u001b[0m                         Traceback (most recent call last)",
      "Cell \u001b[0;32mIn [3], line 6\u001b[0m\n\u001b[1;32m      3\u001b[0m voltages[:,\u001b[38;5;241m0\u001b[39m]   \u001b[38;5;241m=\u001b[39m np\u001b[38;5;241m.\u001b[39mlinspace(\u001b[38;5;241m-\u001b[39m\u001b[38;5;241m0.1\u001b[39m,\u001b[38;5;241m0.1\u001b[39m,N_voltages,endpoint\u001b[38;5;241m=\u001b[39m\u001b[38;5;28;01mTrue\u001b[39;00m)\n\u001b[1;32m      5\u001b[0m np_network_cubic \u001b[38;5;241m=\u001b[39m nanonets\u001b[38;5;241m.\u001b[39msimulation(network_topology\u001b[38;5;241m=\u001b[39mnetwork_topology, topology_parameter\u001b[38;5;241m=\u001b[39mtopology_parameter)\n\u001b[0;32m----> 6\u001b[0m \u001b[43mnp_network_cubic\u001b[49m\u001b[38;5;241;43m.\u001b[39;49m\u001b[43mrun_const_voltages\u001b[49m\u001b[43m(\u001b[49m\u001b[43mvoltages\u001b[49m\u001b[38;5;241;43m=\u001b[39;49m\u001b[43mvoltages\u001b[49m\u001b[43m,\u001b[49m\u001b[43m \u001b[49m\u001b[43mtarget_electrode\u001b[49m\u001b[38;5;241;43m=\u001b[39;49m\u001b[38;5;241;43m1\u001b[39;49m\u001b[43m,\u001b[49m\u001b[43m \u001b[49m\u001b[43msave_th\u001b[49m\u001b[38;5;241;43m=\u001b[39;49m\u001b[38;5;241;43m0.1\u001b[39;49m\u001b[43m,\u001b[49m\u001b[43m \u001b[49m\u001b[43mjumps_per_stat\u001b[49m\u001b[38;5;241;43m=\u001b[39;49m\u001b[38;5;241;43m100\u001b[39;49m\u001b[43m,\u001b[49m\u001b[43m \u001b[49m\u001b[43moutput_potential\u001b[49m\u001b[38;5;241;43m=\u001b[39;49m\u001b[38;5;28;43;01mTrue\u001b[39;49;00m\u001b[43m)\u001b[49m\n\u001b[1;32m      8\u001b[0m df \u001b[38;5;241m=\u001b[39m pd\u001b[38;5;241m.\u001b[39mDataFrame(np\u001b[38;5;241m.\u001b[39mhstack((voltages,np_network_cubic\u001b[38;5;241m.\u001b[39mreturn_output_values())))\n\u001b[1;32m      9\u001b[0m df\u001b[38;5;241m.\u001b[39mplot(\u001b[38;5;241m0\u001b[39m,\u001b[38;5;241m5\u001b[39m)\n",
      "File \u001b[0;32m~/phd/NanoNets/src/nanonets.py:1175\u001b[0m, in \u001b[0;36msimulation.run_const_voltages\u001b[0;34m(self, voltages, target_electrode, T_val, sim_dic, save_th, tunnel_order, jumps_per_stat, output_potential)\u001b[0m\n\u001b[1;32m   1169\u001b[0m model \u001b[38;5;241m=\u001b[39m model_class(charge_vector, potential_vector, inv_capacitance_matrix, const_capacitance_values, const_capacitance_values_co1, const_capacitance_values_co2,\n\u001b[1;32m   1170\u001b[0m                         temperatures, temperatures_co, resistances, resistances_co1, resistances_co2, adv_index_rows, adv_index_cols, co_adv_index1, co_adv_index2,\n\u001b[1;32m   1171\u001b[0m                         co_adv_index3, N_electrodes, N_particles, C_np_target, C_np_self)\n\u001b[1;32m   1173\u001b[0m \u001b[38;5;66;03m# Eqilibrate Potential Landscape\u001b[39;00m\n\u001b[1;32m   1174\u001b[0m \u001b[38;5;66;03m# eq_jumps = model.reach_equilibrium()\u001b[39;00m\n\u001b[0;32m-> 1175\u001b[0m eq_jumps \u001b[38;5;241m=\u001b[39m \u001b[43mmodel\u001b[49m\u001b[38;5;241;43m.\u001b[39;49m\u001b[43mrun_equilibration_steps\u001b[49m\u001b[43m(\u001b[49m\u001b[43meq_steps\u001b[49m\u001b[43m)\u001b[49m\n\u001b[1;32m   1177\u001b[0m \u001b[38;5;66;03m# Production Run until Current at target electrode is less than error_th or max_jumps was passed\u001b[39;00m\n\u001b[1;32m   1178\u001b[0m \u001b[38;5;66;03m# model.kmc_simulation(target_electrode, error_th, max_jumps)\u001b[39;00m\n\u001b[1;32m   1179\u001b[0m \u001b[38;5;28;01mif\u001b[39;00m output_potential:\n",
      "File \u001b[0;32m~/.local/lib/python3.10/site-packages/numba/experimental/jitclass/boxing.py:61\u001b[0m, in \u001b[0;36m_generate_method.<locals>.wrapper\u001b[0;34m(*args, **kwargs)\u001b[0m\n\u001b[1;32m     59\u001b[0m \u001b[38;5;129m@wraps\u001b[39m(func)\n\u001b[1;32m     60\u001b[0m \u001b[38;5;28;01mdef\u001b[39;00m \u001b[38;5;21mwrapper\u001b[39m(\u001b[38;5;241m*\u001b[39margs, \u001b[38;5;241m*\u001b[39m\u001b[38;5;241m*\u001b[39mkwargs):\n\u001b[0;32m---> 61\u001b[0m     \u001b[38;5;28;01mreturn\u001b[39;00m \u001b[43mmethod\u001b[49m\u001b[43m(\u001b[49m\u001b[38;5;241;43m*\u001b[39;49m\u001b[43margs\u001b[49m\u001b[43m,\u001b[49m\u001b[43m \u001b[49m\u001b[38;5;241;43m*\u001b[39;49m\u001b[38;5;241;43m*\u001b[39;49m\u001b[43mkwargs\u001b[49m\u001b[43m)\u001b[49m\n",
      "\u001b[0;31mKeyboardInterrupt\u001b[0m: "
     ]
    }
   ],
   "source": [
    "N_voltages      = 101\n",
    "voltages        = np.zeros(shape=(N_voltages,3))\n",
    "voltages[:,0]   = np.linspace(-0.1,0.1,N_voltages,endpoint=True)\n",
    "\n",
    "np_network_cubic = nanonets.simulation(network_topology=network_topology, topology_parameter=topology_parameter)\n",
    "np_network_cubic.run_const_voltages(voltages=voltages, target_electrode=1, save_th=0.1, jumps_per_stat=100, output_potential=True)\n",
    "\n",
    "df = pd.DataFrame(np.hstack((voltages,np_network_cubic.return_output_values())))\n",
    "df.plot(0,5)"
   ]
  },
  {
   "cell_type": "code",
   "execution_count": null,
   "metadata": {},
   "outputs": [
    {
     "data": {
      "text/plain": [
       "<AxesSubplot: xlabel='0'>"
      ]
     },
     "execution_count": 6,
     "metadata": {},
     "output_type": "execute_result"
    },
    {
     "data": {
      "image/png": "[encoded data removed]",
      "text/plain": [
       "<Figure size 640x480 with 1 Axes>"
      ]
     },
     "metadata": {},
     "output_type": "display_data"
    }
   ],
   "source": [
    "df = pd.DataFrame(np_network_cubic.return_potential_landscape())\n",
    "df.plot(x=0, y=1)"
   ]
  },
  {
   "cell_type": "code",
   "execution_count": null,
   "metadata": {},
   "outputs": [
    {
     "data": {
      "text/plain": [
       "<AxesSubplot: xlabel='0'>"
      ]
     },
     "execution_count": 9,
     "metadata": {},
     "output_type": "execute_result"
    },
    {
     "data": {
      "image/png": "[encoded data removed]",
      "text/plain": [
       "<Figure size 640x480 with 1 Axes>"
      ]
     },
     "metadata": {},
     "output_type": "display_data"
    }
   ],
   "source": [
    "df = pd.DataFrame(np.hstack((voltages,np_network_cubic.return_output_values())))\n",
    "df.plot(0,5)"
   ]
  },
  {
   "cell_type": "markdown",
   "metadata": {},
   "source": [
    "#### NP Potential"
   ]
  },
  {
   "cell_type": "code",
   "execution_count": null,
   "metadata": {},
   "outputs": [],
   "source": [
    "np_index = 24\n",
    "\n",
    "with plt.style.context(\"bmh\"):\n",
    "\n",
    "    fig = plt.figure()\n",
    "    ax  = fig.add_subplot()\n",
    "    ax.plot(time, landscape[np_index], '.-')\n",
    "    ax.fill_between(x=time, y1=(landscape[np_index]-landscape_error[np_index]), y2=(landscape[np_index]+landscape_error[np_index]), alpha=0.8)\n",
    "    ax.set_xlabel(\"$t$ [$\\mu s$]\")\n",
    "    ax.set_ylabel(\"$U_{\"+f\"{np_index}\"+\"}$ [mV]\")\n",
    "    # ax.set_xscale('log')\n",
    "    plt.show()"
   ]
  },
  {
   "cell_type": "markdown",
   "metadata": {},
   "source": [
    "### Potential and Jumps Evolution"
   ]
  },
  {
   "cell_type": "code",
   "execution_count": null,
   "metadata": {},
   "outputs": [],
   "source": [
    "def return_auto_corr(time, arr, n_lags=20):\n",
    "\n",
    "    time    = time - np.min(time)\n",
    "    time    = time[:n_lags]\n",
    "    a_c     = [1. if t==0 else np.corrcoef(arr[:-t],arr[t:])[0,1] for t in range(n_lags)]\n",
    "\n",
    "    return time, a_c\n",
    "\n",
    "def collect_auto_corr(time_evo, arr, t_range, n_stats=50, n_lags=20):\n",
    "\n",
    "    corr    = pd.DataFrame()\n",
    "\n",
    "    for i in range(n_stats):\n",
    "\n",
    "        try:\n",
    "            t, a_c  = return_auto_corr(time_evo[i], arr[i], n_lags=n_lags)\n",
    "            func    = interp1d(t, a_c)\n",
    "\n",
    "            corr[i] = func(t_range)\n",
    "        except:\n",
    "            pass\n",
    "    \n",
    "    return corr"
   ]
  },
  {
   "cell_type": "code",
   "execution_count": null,
   "metadata": {},
   "outputs": [],
   "source": [
    "np_index        = 24\n",
    "n_run           = 0\n",
    "stored_indices  = np.where((time_steps >= store_per_it_min) & (time_steps < store_per_it_max))[0]\n",
    "potential_evo   = [simulation_outputs[\"network_classes\"][n_run].return_pot_per_it()[i][1:,np_index] for i in stored_indices]\n",
    "time_evo        = [simulation_outputs[\"network_classes\"][n_run].return_time_vals()[i][1:]*10**9 for i in stored_indices]"
   ]
  },
  {
   "cell_type": "code",
   "execution_count": null,
   "metadata": {},
   "outputs": [],
   "source": [
    "def jump_diff(np_index, connected_nps):\n",
    "\n",
    "    abgänge = []\n",
    "\n",
    "    for i_np in connected_nps:\n",
    "\n",
    "        jump_index      = np.where(net_currents.columns == (np_index,i_np))[0][0]\n",
    "        jumps_evo       = [simulation_outputs[\"network_classes\"][n_run].return_jumps_per_it()[i][1:,jump_index] for i in stored_indices]\n",
    "        jumps_evo       = [np.insert((jumps_evo[i][1:] - jumps_evo[i][0:-1]),0,0) for i in range(len(stored_indices))]\n",
    "        abgänge.append(jumps_evo)\n",
    "\n",
    "    zugänge = []\n",
    "\n",
    "    for i_np in connected_nps:\n",
    "\n",
    "        jump_index      = np.where(net_currents.columns == (i_np,np_index))[0][0]\n",
    "        jumps_evo       = [simulation_outputs[\"network_classes\"][n_run].return_jumps_per_it()[i][1:,jump_index] for i in stored_indices]\n",
    "        jumps_evo       = [np.insert((jumps_evo[i][1:] - jumps_evo[i][0:-1]),0,0) for i in range(len(stored_indices))]\n",
    "        zugänge.append(jumps_evo)\n",
    "    \n",
    "    return np.sum(zugänge,axis=0) - np.sum(abgänge,axis=0)\n",
    "\n",
    "jump_zu_ab = jump_diff(26, [1,21,25])"
   ]
  },
  {
   "cell_type": "code",
   "execution_count": null,
   "metadata": {},
   "outputs": [],
   "source": [
    "t_range_pot     = np.linspace(0,0.15,100)\n",
    "t_range_jump    = np.linspace(0,0.15,100)\n",
    "pot_auto_corr   = collect_auto_corr(time_evo, potential_evo, t_range_pot)\n",
    "jump_auto_corr  = collect_auto_corr(time_evo, jump_zu_ab, t_range_jump)"
   ]
  },
  {
   "cell_type": "code",
   "execution_count": null,
   "metadata": {},
   "outputs": [],
   "source": [
    "y_pot   = pot_auto_corr.mean(axis=1)\n",
    "y_jump  = jump_auto_corr.mean(axis=1)\n",
    "\n",
    "y1_pot  = y_pot - pot_auto_corr.std(axis=1)/np.sqrt(len(pot_auto_corr.columns))\n",
    "y2_pot  = y_pot + pot_auto_corr.std(axis=1)/np.sqrt(len(pot_auto_corr.columns))\n",
    "\n",
    "y1_jump = y_jump - jump_auto_corr.std(axis=1)/np.sqrt(len(jump_auto_corr.columns))\n",
    "y2_jump = y_jump + jump_auto_corr.std(axis=1)/np.sqrt(len(jump_auto_corr.columns))\n",
    "\n",
    "with plt.style.context(\"bmh\"):\n",
    "    \n",
    "    fig = plt.figure()\n",
    "    ax  = fig.add_subplot()\n",
    "\n",
    "    for i in range(20):\n",
    "\n",
    "        ax.plot(t_range_pot, y_pot, '.-', c=blue_color, label='$U_{NP}$')\n",
    "        ax.fill_between(t_range_pot, y1_pot, y2_pot, color=blue_color, alpha=0.01)\n",
    "\n",
    "        ax.plot(t_range_jump, y_jump, '.-', c=red_color, label='$J_{+}-J_{-}$')\n",
    "        ax.fill_between(t_range_jump, y1_jump, y2_jump, color=red_color, alpha=0.01)\n",
    "\n",
    "        if i == 0:\n",
    "            ax.legend()\n",
    "\n",
    "    ax.set_ylabel(\"$corr[y(t),y(t-1)]$\")\n",
    "    ax.set_xlabel(\"$t$ $[ns]$\")\n",
    "\n",
    "plt.show()"
   ]
  }
 ],
 "metadata": {
  "kernelspec": {
   "display_name": "Python 3",
   "language": "python",
   "name": "python3"
  },
  "language_info": {
   "codemirror_mode": {
    "name": "ipython",
    "version": 3
   },
   "file_extension": ".py",
   "mimetype": "text/x-python",
   "name": "python",
   "nbconvert_exporter": "python",
   "pygments_lexer": "ipython3",
   "version": "3.11.10"
  }
 },
 "nbformat": 4,
 "nbformat_minor": 2
}
