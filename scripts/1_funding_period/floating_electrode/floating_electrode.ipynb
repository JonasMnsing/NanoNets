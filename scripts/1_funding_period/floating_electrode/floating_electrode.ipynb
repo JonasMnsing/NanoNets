{
 "cells": [
  {
   "cell_type": "code",
   "execution_count": 1,
   "metadata": {},
   "outputs": [],
   "source": [
    "import numpy as np\n",
    "import matplotlib.pyplot as plt\n",
    "import scienceplots\n",
    "import sys\n",
    "sys.path.append(\"../../../src/\")\n",
    "%matplotlib inline\n",
    "\n",
    "import nanonets\n",
    "import nanonets_utils"
   ]
  },
  {
   "cell_type": "code",
   "execution_count": 2,
   "metadata": {},
   "outputs": [],
   "source": [
    "def return_string_topology(N):\n",
    "    topology = {\n",
    "        \"Nx\"                : N,\n",
    "        \"Ny\"                : 1,\n",
    "        \"Nz\"                : 1,\n",
    "        \"e_pos\"             : [[0,0,0],[N-1,0,0]],\n",
    "        \"electrode_type\"    : ['constant','floating']\n",
    "    }\n",
    "    return topology\n",
    "\n",
    "def return_network_topology(N):\n",
    "    topology = {\n",
    "        \"Nx\"                : N,\n",
    "        \"Ny\"                : N,\n",
    "        \"Nz\"                : 1,\n",
    "        \"e_pos\"             :  [[0,0,0], [int((N-1)/2),0,0], [N-1,0,0], [0,int((N-1)/2),0], [0,N-1,0], [int((N-1)/2),N-1,0],[N-1,int((N-1)/2),0],[N-1,N-1,0]],\n",
    "        \"electrode_type\"    : ['constant','floating','floating','floating','floating','floating','floating','constant']\n",
    "    }\n",
    "    return topology"
   ]
  },
  {
   "cell_type": "markdown",
   "metadata": {},
   "source": [
    "# String of Nanoparticles"
   ]
  },
  {
   "cell_type": "code",
   "execution_count": 3,
   "metadata": {},
   "outputs": [
    {
     "ename": "KeyboardInterrupt",
     "evalue": "",
     "output_type": "error",
     "traceback": [
      "\u001b[0;31m---------------------------------------------------------------------------\u001b[0m",
      "\u001b[0;31mKeyboardInterrupt\u001b[0m                         Traceback (most recent call last)",
      "Cell \u001b[0;32mIn[3], line 10\u001b[0m\n\u001b[1;32m      8\u001b[0m topology    \u001b[38;5;241m=\u001b[39m return_string_topology(N)\n\u001b[1;32m      9\u001b[0m sim_class   \u001b[38;5;241m=\u001b[39m nanonets\u001b[38;5;241m.\u001b[39msimulation(network_topology\u001b[38;5;241m=\u001b[39m\u001b[38;5;124m'\u001b[39m\u001b[38;5;124mcubic\u001b[39m\u001b[38;5;124m'\u001b[39m, topology_parameter\u001b[38;5;241m=\u001b[39mtopology)\n\u001b[0;32m---> 10\u001b[0m \u001b[43msim_class\u001b[49m\u001b[38;5;241;43m.\u001b[39;49m\u001b[43mrun_const_voltages\u001b[49m\u001b[43m(\u001b[49m\u001b[43mvoltages\u001b[49m\u001b[38;5;241;43m=\u001b[39;49m\u001b[43mvoltages\u001b[49m\u001b[43m,\u001b[49m\u001b[43m \u001b[49m\u001b[43mtarget_electrode\u001b[49m\u001b[38;5;241;43m=\u001b[39;49m\u001b[38;5;241;43m1\u001b[39;49m\u001b[43m,\u001b[49m\u001b[43m \u001b[49m\u001b[43moutput_potential\u001b[49m\u001b[38;5;241;43m=\u001b[39;49m\u001b[38;5;28;43;01mTrue\u001b[39;49;00m\u001b[43m,\u001b[49m\u001b[43m \u001b[49m\u001b[43msave_th\u001b[49m\u001b[38;5;241;43m=\u001b[39;49m\u001b[38;5;241;43m0.1\u001b[39;49m\u001b[43m)\u001b[49m\n\u001b[1;32m     11\u001b[0m data[N]     \u001b[38;5;241m=\u001b[39m sim_class\u001b[38;5;241m.\u001b[39mreturn_output_values()\n",
      "File \u001b[0;32m~/phd/NanoNets/scripts/1_funding_period/floating_electrode/../../../src/nanonets.py:1689\u001b[0m, in \u001b[0;36msimulation.run_const_voltages\u001b[0;34m(self, voltages, target_electrode, T_val, sim_dic, save_th, output_potential, verbose)\u001b[0m\n\u001b[1;32m   1683\u001b[0m     model\u001b[38;5;241m.\u001b[39mkmc_simulation_var_resistance(target_electrode, error_th, max_jumps, jumps_per_batch, \n\u001b[1;32m   1684\u001b[0m                                         slope, shift, tau_0, R_max, R_min, kmc_counting, verbose)\n\u001b[1;32m   1686\u001b[0m \u001b[38;5;28;01melse\u001b[39;00m:\n\u001b[1;32m   1687\u001b[0m \n\u001b[1;32m   1688\u001b[0m     \u001b[38;5;66;03m# Eqilibrate Potential Landscape\u001b[39;00m\n\u001b[0;32m-> 1689\u001b[0m     eq_jumps \u001b[38;5;241m=\u001b[39m \u001b[43mmodel\u001b[49m\u001b[38;5;241;43m.\u001b[39;49m\u001b[43mrun_equilibration_steps\u001b[49m\u001b[43m(\u001b[49m\u001b[43meq_steps\u001b[49m\u001b[43m)\u001b[49m\n\u001b[1;32m   1691\u001b[0m     \u001b[38;5;66;03m# Production Run until Current or Potential at target electrode is less than error_th or max_jumps was passed\u001b[39;00m\n\u001b[1;32m   1692\u001b[0m     model\u001b[38;5;241m.\u001b[39mkmc_simulation(target_electrode, error_th, max_jumps, jumps_per_batch, output_potential, kmc_counting, min_batches, verbose)\n",
      "File \u001b[0;32m~/phd/NanoNets/scripts/1_funding_period/floating_electrode/../../../src/nanonets.py:534\u001b[0m, in \u001b[0;36mmodel_class.run_equilibration_steps\u001b[0;34m(self, n_jumps)\u001b[0m\n\u001b[1;32m    532\u001b[0m     \u001b[38;5;28;01melse\u001b[39;00m:\n\u001b[1;32m    533\u001b[0m         \u001b[38;5;28mself\u001b[39m\u001b[38;5;241m.\u001b[39mcalc_tunnel_rates_zero_T()\n\u001b[0;32m--> 534\u001b[0m     \u001b[38;5;28;43mself\u001b[39;49m\u001b[38;5;241;43m.\u001b[39;49m\u001b[43mselect_event\u001b[49m\u001b[43m(\u001b[49m\u001b[43mrandom_number1\u001b[49m\u001b[43m,\u001b[49m\u001b[43m \u001b[49m\u001b[43mrandom_number2\u001b[49m\u001b[43m)\u001b[49m\n\u001b[1;32m    535\u001b[0m \u001b[38;5;28;01melse\u001b[39;00m:\n\u001b[1;32m    536\u001b[0m     \u001b[38;5;28;01mif\u001b[39;00m \u001b[38;5;129;01mnot\u001b[39;00m(\u001b[38;5;28mself\u001b[39m\u001b[38;5;241m.\u001b[39mzero_T):\n",
      "File \u001b[0;32m~/phd/NanoNets/scripts/1_funding_period/floating_electrode/../../../src/nanonets.py:362\u001b[0m, in \u001b[0;36mmodel_class.select_event\u001b[0;34m(self, random_number1, random_number2)\u001b[0m\n\u001b[1;32m    351\u001b[0m \u001b[38;5;250m\u001b[39m\u001b[38;5;124;03m\"\"\"Select next charge hopping event and update time by kinetic monte carlo apporach.\u001b[39;00m\n\u001b[1;32m    352\u001b[0m \u001b[38;5;124;03m\u001b[39;00m\n\u001b[1;32m    353\u001b[0m \u001b[38;5;124;03mParameters\u001b[39;00m\n\u001b[0;32m   (...)\u001b[0m\n\u001b[1;32m    358\u001b[0m \u001b[38;5;124;03m    Second random number\u001b[39;00m\n\u001b[1;32m    359\u001b[0m \u001b[38;5;124;03m\"\"\"\u001b[39;00m\n\u001b[1;32m    361\u001b[0m \u001b[38;5;66;03m# Get CUMSUM of Tunnel Rates\u001b[39;00m\n\u001b[0;32m--> 362\u001b[0m kmc_cum_sum \u001b[38;5;241m=\u001b[39m \u001b[43mnp\u001b[49m\u001b[38;5;241;43m.\u001b[39;49m\u001b[43mcumsum\u001b[49m\u001b[43m(\u001b[49m\u001b[38;5;28;43mself\u001b[39;49m\u001b[38;5;241;43m.\u001b[39;49m\u001b[43mtunnel_rates\u001b[49m\u001b[43m)\u001b[49m\n\u001b[1;32m    363\u001b[0m k_tot       \u001b[38;5;241m=\u001b[39m kmc_cum_sum[\u001b[38;5;241m-\u001b[39m\u001b[38;5;241m1\u001b[39m]\n\u001b[1;32m    364\u001b[0m event       \u001b[38;5;241m=\u001b[39m random_number1 \u001b[38;5;241m*\u001b[39m k_tot\n",
      "File \u001b[0;32m~/.local/lib/python3.11/site-packages/numpy/_core/fromnumeric.py:2682\u001b[0m, in \u001b[0;36mcumsum\u001b[0;34m(a, axis, dtype, out)\u001b[0m\n\u001b[1;32m   2609\u001b[0m \u001b[38;5;129m@array_function_dispatch\u001b[39m(_cumsum_dispatcher)\n\u001b[1;32m   2610\u001b[0m \u001b[38;5;28;01mdef\u001b[39;00m \u001b[38;5;21mcumsum\u001b[39m(a, axis\u001b[38;5;241m=\u001b[39m\u001b[38;5;28;01mNone\u001b[39;00m, dtype\u001b[38;5;241m=\u001b[39m\u001b[38;5;28;01mNone\u001b[39;00m, out\u001b[38;5;241m=\u001b[39m\u001b[38;5;28;01mNone\u001b[39;00m):\n\u001b[1;32m   2611\u001b[0m \u001b[38;5;250m    \u001b[39m\u001b[38;5;124;03m\"\"\"\u001b[39;00m\n\u001b[1;32m   2612\u001b[0m \u001b[38;5;124;03m    Return the cumulative sum of the elements along a given axis.\u001b[39;00m\n\u001b[1;32m   2613\u001b[0m \n\u001b[0;32m   (...)\u001b[0m\n\u001b[1;32m   2680\u001b[0m \n\u001b[1;32m   2681\u001b[0m \u001b[38;5;124;03m    \"\"\"\u001b[39;00m\n\u001b[0;32m-> 2682\u001b[0m     \u001b[38;5;28;01mreturn\u001b[39;00m \u001b[43m_wrapfunc\u001b[49m\u001b[43m(\u001b[49m\u001b[43ma\u001b[49m\u001b[43m,\u001b[49m\u001b[43m \u001b[49m\u001b[38;5;124;43m'\u001b[39;49m\u001b[38;5;124;43mcumsum\u001b[39;49m\u001b[38;5;124;43m'\u001b[39;49m\u001b[43m,\u001b[49m\u001b[43m \u001b[49m\u001b[43maxis\u001b[49m\u001b[38;5;241;43m=\u001b[39;49m\u001b[43maxis\u001b[49m\u001b[43m,\u001b[49m\u001b[43m \u001b[49m\u001b[43mdtype\u001b[49m\u001b[38;5;241;43m=\u001b[39;49m\u001b[43mdtype\u001b[49m\u001b[43m,\u001b[49m\u001b[43m \u001b[49m\u001b[43mout\u001b[49m\u001b[38;5;241;43m=\u001b[39;49m\u001b[43mout\u001b[49m\u001b[43m)\u001b[49m\n",
      "File \u001b[0;32m~/.local/lib/python3.11/site-packages/numpy/_core/fromnumeric.py:51\u001b[0m, in \u001b[0;36m_wrapfunc\u001b[0;34m(obj, method, *args, **kwds)\u001b[0m\n\u001b[1;32m     46\u001b[0m     result \u001b[38;5;241m=\u001b[39m \u001b[38;5;28mgetattr\u001b[39m(arr, method)(\u001b[38;5;241m*\u001b[39margs, \u001b[38;5;241m*\u001b[39m\u001b[38;5;241m*\u001b[39mkwds)\n\u001b[1;32m     48\u001b[0m     \u001b[38;5;28;01mreturn\u001b[39;00m conv\u001b[38;5;241m.\u001b[39mwrap(result, to_scalar\u001b[38;5;241m=\u001b[39m\u001b[38;5;28;01mFalse\u001b[39;00m)\n\u001b[0;32m---> 51\u001b[0m \u001b[38;5;28;01mdef\u001b[39;00m \u001b[38;5;21m_wrapfunc\u001b[39m(obj, method, \u001b[38;5;241m*\u001b[39margs, \u001b[38;5;241m*\u001b[39m\u001b[38;5;241m*\u001b[39mkwds):\n\u001b[1;32m     52\u001b[0m     bound \u001b[38;5;241m=\u001b[39m \u001b[38;5;28mgetattr\u001b[39m(obj, method, \u001b[38;5;28;01mNone\u001b[39;00m)\n\u001b[1;32m     53\u001b[0m     \u001b[38;5;28;01mif\u001b[39;00m bound \u001b[38;5;129;01mis\u001b[39;00m \u001b[38;5;28;01mNone\u001b[39;00m:\n",
      "\u001b[0;31mKeyboardInterrupt\u001b[0m: "
     ]
    }
   ],
   "source": [
    "N_voltages      = 201\n",
    "voltages        = np.zeros((N_voltages,3))\n",
    "voltages[:,0]   = np.linspace(-0.2,0.2,N_voltages)\n",
    "data            = {}\n",
    "\n",
    "for N in [4]:#np.arange(2,20,2):\n",
    "\n",
    "    topology    = return_string_topology(N)\n",
    "    sim_class   = nanonets.simulation(network_topology='cubic', topology_parameter=topology)\n",
    "    sim_class.run_const_voltages(voltages=voltages, target_electrode=1, output_potential=True, save_th=0.1)\n",
    "    data[N]     = sim_class.return_output_values()"
   ]
  },
  {
   "cell_type": "code",
   "execution_count": 4,
   "metadata": {},
   "outputs": [
    {
     "data": {
      "text/plain": [
       "[<matplotlib.lines.Line2D at 0x7fc38f71b2d0>]"
      ]
     },
     "execution_count": 4,
     "metadata": {},
     "output_type": "execute_result"
    },
    {
     "data": {
      "image/png": "[encoded data removed]",
      "text/plain": [
       "<Figure size 640x480 with 1 Axes>"
      ]
     },
     "metadata": {},
     "output_type": "display_data"
    }
   ],
   "source": [
    "plt.plot(np.array(sim_class.output_values)[:,2])"
   ]
  },
  {
   "cell_type": "code",
   "execution_count": 8,
   "metadata": {},
   "outputs": [
    {
     "ename": "TypeError",
     "evalue": "list indices must be integers or slices, not tuple",
     "output_type": "error",
     "traceback": [
      "\u001b[0;31m---------------------------------------------------------------------------\u001b[0m",
      "\u001b[0;31mTypeError\u001b[0m                                 Traceback (most recent call last)",
      "Cell \u001b[0;32mIn[8], line 1\u001b[0m\n\u001b[0;32m----> 1\u001b[0m plt\u001b[38;5;241m.\u001b[39mplot(\u001b[43msim_class\u001b[49m\u001b[38;5;241;43m.\u001b[39;49m\u001b[43moutput_values\u001b[49m\u001b[43m[\u001b[49m\u001b[43m:\u001b[49m\u001b[43m,\u001b[49m\u001b[38;5;241;43m2\u001b[39;49m\u001b[43m]\u001b[49m)\n",
      "\u001b[0;31mTypeError\u001b[0m: list indices must be integers or slices, not tuple"
     ]
    }
   ],
   "source": [
    "plt.plot(sim_class.output_values[:,2])"
   ]
  },
  {
   "cell_type": "code",
   "execution_count": null,
   "metadata": {},
   "outputs": [],
   "source": [
    "fig         = plt.figure(layout='constrained')\n",
    "ax          = fig.add_subplot()\n",
    "topology    = return_string_topology(10)\n",
    "sim_class   = nanonets.simulation(network_topology='cubic', topology_parameter=topology)\n",
    "fig, ax     = nanonets_utils.display_network(sim_class, fig, ax, provide_electrode_labels=[f\"$U_{i}$\" for i in range(2)], font_size=30)\n",
    "fig.savefig(f\"plots/string_{N}.svg\")"
   ]
  },
  {
   "cell_type": "code",
   "execution_count": null,
   "metadata": {},
   "outputs": [],
   "source": [
    "cmap    = plt.get_cmap('Reds')\n",
    "N_param = len(np.arange(2,20,2))\n",
    "\n",
    "with plt.style.context([\"science\",\"bright\", \"grid\"]):\n",
    "\n",
    "    fig = plt.figure(dpi=200)\n",
    "    fig.set_figwidth(fig.get_figwidth()*1.4)\n",
    "    ax  = fig.add_subplot()\n",
    "\n",
    "    for i, N in enumerate(np.arange(2,20,2)):\n",
    "\n",
    "        values  = data[N][:,2]*1000\n",
    "        error   = data[N][:,3]*1000\n",
    "\n",
    "        ax.plot(voltages[:,0]*1000, values, color=cmap((i+1)/N_param), label='$N_{NP} ='+f' {N}$')\n",
    "        ax.fill_between(x=voltages[:,0]*1000, y1=values-error, y2=values+error, color='black', alpha=0.5)\n",
    "\n",
    "    ax.set_xlim(-200,200)\n",
    "    ax.set_ylim(-200,200)\n",
    "    ax.legend(fontsize='xx-small', ncol=3, title='$T = 0$ K, String of $N_{NP}$ Nanoparticles', title_fontsize='x-small')\n",
    "    ax.set_xlabel(\"$U_{0}$ [mV]\")\n",
    "    ax.set_ylabel(\"$U_{1}$ [mV]\")\n",
    "\n",
    "    # fig.savefig(\"plots/constant_string_low_T.svg\", transparent=True)"
   ]
  },
  {
   "cell_type": "markdown",
   "metadata": {},
   "source": [
    "## at high Temperature"
   ]
  },
  {
   "cell_type": "code",
   "execution_count": null,
   "metadata": {},
   "outputs": [],
   "source": [
    "N_voltages      = 201\n",
    "voltages        = np.zeros((N_voltages,3))\n",
    "voltages[:,0]   = np.linspace(-0.2,0.2,N_voltages)\n",
    "T_val           = 100\n",
    "data_T          = {}\n",
    "\n",
    "for N in np.arange(2,20,2):\n",
    "\n",
    "    topology    = return_string_topology(N)\n",
    "    sim_class   = nanonets.simulation(network_topology='cubic', topology_parameter=topology)\n",
    "    sim_class.run_const_voltages(voltages=voltages, target_electrode=1, output_potential=True, save_th=0.1, T_val=T_val)\n",
    "    data_T[N]   = sim_class.return_output_values()"
   ]
  },
  {
   "cell_type": "code",
   "execution_count": null,
   "metadata": {},
   "outputs": [],
   "source": [
    "cmap    = plt.get_cmap('Reds')\n",
    "N_param = len(np.arange(2,20,2))\n",
    "\n",
    "with plt.style.context([\"science\",\"bright\", \"grid\"]):\n",
    "\n",
    "    fig = plt.figure(dpi=200)\n",
    "    fig.set_figwidth(fig.get_figwidth()*1.4)\n",
    "    ax  = fig.add_subplot()\n",
    "\n",
    "    for i, N in enumerate(np.arange(2,20,2)):\n",
    "\n",
    "        values  = data_T[N][:,2]*1000\n",
    "        error   = data_T[N][:,3]*1000\n",
    "\n",
    "        ax.plot(voltages[:,0]*1000, values, color=cmap((i+1)/N_param), label='$N_{NP} ='+f' {N}$')\n",
    "        ax.fill_between(x=voltages[:,0]*1000, y1=values-error, y2=values+error, color='black', alpha=0.5)\n",
    "\n",
    "    ax.set_xlim(-200,200)\n",
    "    ax.set_ylim(-200,200)\n",
    "    ax.legend(fontsize='xx-small', ncol=3, title='$T = 100$ K, String of $N_{NP}$ Nanoparticles', title_fontsize='x-small', loc='upper left')\n",
    "    ax.set_xlabel(\"$U_{0}$ [mV]\")\n",
    "    ax.set_ylabel(\"$U_{1}$ [mV]\")\n",
    "    \n",
    "    fig.savefig(\"plots/constant_string_high_T.svg\", transparent=True)"
   ]
  },
  {
   "cell_type": "markdown",
   "metadata": {},
   "source": [
    "# Network of Nanoparticles"
   ]
  },
  {
   "cell_type": "code",
   "execution_count": 38,
   "metadata": {},
   "outputs": [],
   "source": [
    "N_voltages      = 201\n",
    "voltages        = np.zeros((N_voltages,9))\n",
    "voltages[:,0]   = np.linspace(-0.2,0.2,N_voltages)\n",
    "data_net        = {}\n",
    "\n",
    "for N in [3,5,7,9,11,13,15,17]:\n",
    "\n",
    "    topology    = return_network_topology(N)\n",
    "    sim_class   = nanonets.simulation(network_topology='cubic', topology_parameter=topology)\n",
    "    sim_class.run_const_voltages(voltages=voltages, target_electrode=7, output_potential=True, save_th=0.1)\n",
    "    data_net[N] = sim_class.return_output_values()"
   ]
  },
  {
   "cell_type": "code",
   "execution_count": null,
   "metadata": {},
   "outputs": [],
   "source": [
    "cmap    = plt.get_cmap('Reds')\n",
    "N_param = len([3,5,7,9,11,13,15,17])\n",
    "\n",
    "with plt.style.context([\"science\",\"bright\", \"grid\"]):\n",
    "\n",
    "    fig = plt.figure(dpi=200)\n",
    "    fig.set_figwidth(fig.get_figwidth()*1.4)\n",
    "    ax  = fig.add_subplot()\n",
    "\n",
    "    for i, N in enumerate([3,5,7,9,11,13,15,17]):\n",
    "\n",
    "        values  = data_net[N][:,2]*1000\n",
    "        error   = data_net[N][:,3]*1000\n",
    "\n",
    "        ax.plot(voltages[:,0]*1000, values, color=cmap((i+1)/N_param), label='$N_{NP} ='+f' {N}$')\n",
    "        ax.fill_between(x=voltages[:,0]*1000, y1=values-error, y2=values+error, color='black', alpha=0.5)\n",
    "\n",
    "    ax.set_xlim(-200,200)\n",
    "    ax.set_ylim(-3,3)\n",
    "    ax.legend(fontsize='xx-small', ncol=2, title='$T = 0$ K, Network of $N_{NP}$ Nanoparticles', title_fontsize='x-small')\n",
    "    ax.set_xlabel(\"$U_{Input}$ [mV]\")\n",
    "    ax.set_ylabel(\"$U_{Output}$ [mV]\")\n",
    "\n",
    "    fig.savefig(\"plots/constant_network_low_T.svg\", transparent=True)"
   ]
  },
  {
   "cell_type": "markdown",
   "metadata": {},
   "source": [
    "# Time dependent Simulations"
   ]
  },
  {
   "cell_type": "markdown",
   "metadata": {},
   "source": [
    "### String of Nanoparticles"
   ]
  },
  {
   "cell_type": "code",
   "execution_count": 6,
   "metadata": {},
   "outputs": [],
   "source": [
    "amplitude       = 0.2\n",
    "step_size       = 1e-10\n",
    "steps_in_sweep  = 100\n",
    "n_sweeps        = 13\n",
    "N_electrodes    = 2\n",
    "signal          = [np.linspace(-1*amplitude, amplitude, steps_in_sweep//2, endpoint=False) if (i % 2 == 0) else np.linspace(amplitude, -1*amplitude, steps_in_sweep//2, endpoint=False) for i in range(n_sweeps)]\n",
    "signal          = [x for xs in signal for x in xs]\n",
    "voltages        = np.zeros(shape=(n_sweeps*steps_in_sweep//2,N_electrodes+1))\n",
    "voltages[:,0]   = signal\n",
    "time            = step_size*np.arange(n_sweeps*steps_in_sweep//2)"
   ]
  },
  {
   "cell_type": "code",
   "execution_count": 7,
   "metadata": {},
   "outputs": [],
   "source": [
    "N           = 8\n",
    "topology    = return_string_topology(N)\n",
    "sim_class   = nanonets.simulation(network_topology='cubic', topology_parameter=topology)\n",
    "sim_class.run_var_voltages(voltages=voltages, time_steps=time, target_electrode=1, output_potential=True, save=False, eq_steps=0, stat_size=500)\n",
    "data_time   = sim_class.return_output_values()"
   ]
  },
  {
   "cell_type": "code",
   "execution_count": null,
   "metadata": {},
   "outputs": [],
   "source": [
    "with plt.style.context([\"science\",\"bright\", \"grid\"]):\n",
    "\n",
    "    fig = plt.figure(dpi=200)\n",
    "    fig.set_figwidth(fig.get_figwidth()*1.4)\n",
    "    ax  = fig.add_subplot(2,1,1)\n",
    "\n",
    "    values  = data_time[:,2]*1000\n",
    "    error   = data_time[:,3]*1000\n",
    "\n",
    "    ax.plot(time[1:]*1e9, values)\n",
    "    ax.fill_between(x=time[1:]*1e9, y1=values-error, y2=values+error, color='black', alpha=0.5)\n",
    "    ax.set_xticklabels(\"\")\n",
    "    ax.set_ylabel(\"$U_{Output}$ [mV]\")\n",
    "\n",
    "    ax  = fig.add_subplot(2,1,2)\n",
    "    ax.plot(time[1:]*1e9, voltages[1:,0]*1000)\n",
    "\n",
    "    # ax.set_xlim(-200,200)\n",
    "    # ax.set_ylim(-3,3)\n",
    "    ax.set_xlabel(\"$t$ [ns]\")\n",
    "    ax.set_ylabel(\"$U_{Input}$ [mV]\")\n",
    "\n",
    "    fig.savefig(\"plots/string_time.svg\", transparent=True)"
   ]
  },
  {
   "cell_type": "code",
   "execution_count": null,
   "metadata": {},
   "outputs": [],
   "source": [
    "with plt.style.context([\"science\",\"bright\", \"grid\"]):\n",
    "\n",
    "    fig = plt.figure(dpi=200)\n",
    "    fig.set_figwidth(fig.get_figwidth()*1.4)\n",
    "    ax  = fig.add_subplot()\n",
    "\n",
    "    values  = data_time[:,2]*1000\n",
    "    error   = data_time[:,3]*1000\n",
    "\n",
    "    ax.plot(voltages[1:,0]*1000, values)\n",
    "    ax.fill_between(x=voltages[1:,0]*1000, y1=values-error, y2=values+error, color='black', alpha=0.5)\n",
    "\n",
    "    ax.set_xlim(-200,200)\n",
    "    # ax.set_ylim(-3,3)\n",
    "    ax.set_xlabel(\"$U_{Input}$ [mV]\")\n",
    "    ax.set_ylabel(\"$U_{Output}$ [mV]\")\n",
    "\n",
    "    fig.savefig(\"plots/string_time_space.svg\", transparent=True)"
   ]
  },
  {
   "cell_type": "markdown",
   "metadata": {},
   "source": [
    "### Network of Nanoparticles"
   ]
  },
  {
   "cell_type": "code",
   "execution_count": 28,
   "metadata": {},
   "outputs": [],
   "source": [
    "amplitude       = 0.2\n",
    "step_size       = 1e-10\n",
    "steps_in_sweep  = 100\n",
    "n_sweeps        = 21\n",
    "N_electrodes    = 8\n",
    "signal          = [np.linspace(-1*amplitude, amplitude, steps_in_sweep//2, endpoint=False) if (i % 2 == 0) else np.linspace(amplitude, -1*amplitude, steps_in_sweep//2, endpoint=False) for i in range(n_sweeps)]\n",
    "signal          = [x for xs in signal for x in xs]\n",
    "voltages        = np.zeros(shape=(n_sweeps*steps_in_sweep//2,N_electrodes+1))\n",
    "voltages[:,0]   = signal\n",
    "time            = step_size*np.arange(n_sweeps*steps_in_sweep//2)"
   ]
  },
  {
   "cell_type": "code",
   "execution_count": 29,
   "metadata": {},
   "outputs": [],
   "source": [
    "N           = 7\n",
    "topology    = return_network_topology(N)\n",
    "sim_class   = nanonets.simulation(network_topology='cubic', topology_parameter=topology)\n",
    "sim_class.run_var_voltages(voltages=voltages, time_steps=time, target_electrode=7, output_potential=True, save=False, eq_steps=0, stat_size=500)\n",
    "data_time   = sim_class.return_output_values()"
   ]
  },
  {
   "cell_type": "code",
   "execution_count": null,
   "metadata": {},
   "outputs": [],
   "source": [
    "with plt.style.context([\"science\",\"bright\", \"grid\"]):\n",
    "\n",
    "    fig = plt.figure(dpi=200)\n",
    "    fig.set_figwidth(fig.get_figwidth()*1.4)\n",
    "    ax  = fig.add_subplot(2,1,1)\n",
    "\n",
    "    values  = data_time[:,2]*1000\n",
    "    error   = data_time[:,3]*1000\n",
    "\n",
    "    ax.plot(time[1:]*1e9, values)\n",
    "    ax.fill_between(x=time[1:]*1e9, y1=values-error, y2=values+error, color='black', alpha=0.5)\n",
    "    ax.set_xticklabels(\"\")\n",
    "    ax.set_ylabel(\"$U_{Output}$ [mV]\")\n",
    "\n",
    "    ax  = fig.add_subplot(2,1,2)\n",
    "    ax.plot(time[1:]*1e9, voltages[1:,0]*1000)\n",
    "\n",
    "    # ax.set_xlim(-200,200)\n",
    "    # ax.set_ylim(-3,3)\n",
    "    ax.set_xlabel(\"$t$ [ns]\")\n",
    "    ax.set_ylabel(\"$U_{Input}$ [mV]\")\n",
    "\n",
    "    fig.savefig(\"plots/network_time.svg\", transparent=True)"
   ]
  },
  {
   "cell_type": "code",
   "execution_count": null,
   "metadata": {},
   "outputs": [],
   "source": [
    "with plt.style.context([\"science\",\"bright\", \"grid\"]):\n",
    "\n",
    "    fig = plt.figure(dpi=200)\n",
    "    fig.set_figwidth(fig.get_figwidth()*1.4)\n",
    "    ax  = fig.add_subplot()\n",
    "\n",
    "    values  = data_time[:,2]*1000\n",
    "    error   = data_time[:,3]*1000\n",
    "\n",
    "    ax.plot(voltages[1:,0]*1000, values)\n",
    "    ax.fill_between(x=voltages[1:,0]*1000, y1=values-error, y2=values+error, color='black', alpha=0.5)\n",
    "\n",
    "    ax.set_xlim(-200,200)\n",
    "    # ax.set_ylim(-3,3)\n",
    "    ax.set_xlabel(\"$U_{Input}$ [mV]\")\n",
    "    ax.set_ylabel(\"$U_{Output}$ [mV]\")\n",
    "\n",
    "    fig.savefig(\"plots/network_time_space.svg\", transparent=True)"
   ]
  },
  {
   "cell_type": "code",
   "execution_count": 3,
   "metadata": {},
   "outputs": [],
   "source": [
    "min_val         = 0.1\n",
    "max_val         = 0.2\n",
    "step_size       = 1e-10\n",
    "N_voltages      = 1000\n",
    "delta_pos       = 200\n",
    "N_electrodes    = 8\n",
    "\n",
    "voltages                = np.zeros(shape=(N_voltages,N_electrodes+1)) + min_val\n",
    "voltages[:,-1]          = 0\n",
    "voltages[delta_pos,0]   = max_val\n",
    "time                    = step_size*np.arange(N_voltages)"
   ]
  },
  {
   "cell_type": "code",
   "execution_count": 4,
   "metadata": {},
   "outputs": [],
   "source": [
    "N           = 7\n",
    "topology    = return_network_topology(N)\n",
    "sim_class   = nanonets.simulation(network_topology='cubic', topology_parameter=topology)\n",
    "sim_class.run_var_voltages(voltages=voltages, time_steps=time, target_electrode=7, output_potential=True, save=False, eq_steps=0, stat_size=500)\n",
    "data_time   = sim_class.return_output_values()"
   ]
  },
  {
   "cell_type": "code",
   "execution_count": null,
   "metadata": {},
   "outputs": [],
   "source": [
    "with plt.style.context([\"science\",\"bright\", \"grid\"]):\n",
    "\n",
    "    fig = plt.figure(dpi=200)\n",
    "    fig.set_figwidth(fig.get_figwidth()*1.4)\n",
    "    ax  = fig.add_subplot(2,1,1)\n",
    "\n",
    "    values  = data_time[:,2]*1000\n",
    "    error   = data_time[:,3]*1000\n",
    "\n",
    "    ax.plot(time[1:]*1e9, values)\n",
    "    ax.fill_between(x=time[1:]*1e9, y1=values-error, y2=values+error, color='black', alpha=0.5)\n",
    "    ax.set_xticklabels(\"\")\n",
    "    ax.set_ylabel(\"$U_{Output}$ [mV]\")\n",
    "\n",
    "    ax  = fig.add_subplot(2,1,2)\n",
    "    ax.plot(time[1:]*1e9, voltages[1:,0]*1000)\n",
    "\n",
    "    ax.set_xlabel(\"$t$ [ns]\")\n",
    "    ax.set_ylabel(\"$U_{Input}$ [mV]\")\n",
    "\n",
    "    # fig.savefig(\"plots/network_time.svg\", transparent=True)"
   ]
  },
  {
   "cell_type": "markdown",
   "metadata": {},
   "source": [
    "---"
   ]
  }
 ],
 "metadata": {
  "kernelspec": {
   "display_name": "Python 3",
   "language": "python",
   "name": "python3"
  },
  "language_info": {
   "codemirror_mode": {
    "name": "ipython",
    "version": 3
   },
   "file_extension": ".py",
   "mimetype": "text/x-python",
   "name": "python",
   "nbconvert_exporter": "python",
   "pygments_lexer": "ipython3",
   "version": "3.11.10"
  }
 },
 "nbformat": 4,
 "nbformat_minor": 2
}
