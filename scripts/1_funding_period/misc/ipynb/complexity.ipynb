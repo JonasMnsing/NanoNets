{
 "cells": [
  {
   "cell_type": "code",
   "execution_count": 7,
   "metadata": {},
   "outputs": [],
   "source": [
    "import sys\n",
    "sys.path.append(\"/home/jonas/phd/NanoNets/src/\")\n",
    "sys.path.append(\"/mnt/c/Users/jonas/Desktop/phd/NanoNets/src/\")\n",
    "import nanonets\n",
    "import matplotlib.pyplot as plt\n",
    "import numpy as np\n",
    "import time\n",
    "import pandas as pd\n",
    "import scienceplots"
   ]
  },
  {
   "cell_type": "code",
   "execution_count": 8,
   "metadata": {},
   "outputs": [],
   "source": [
    "def init_run(N, voltages):\n",
    "    \n",
    "    topology_parameter          = {}\n",
    "    topology_parameter[\"Np\"]    = N\n",
    "    topology_parameter[\"Nj\"]    = 4\n",
    "    topology_parameter[\"e_pos\"] = [[-1.5,-1.5],[1.5,1.5]]\n",
    "    sim_class                   = nanonets.simulation(network_topology='random', topology_parameter=topology_parameter, seed=0)\n",
    "\n",
    "    sim_class.init_charge_vector(voltage_values=voltages[0])\n",
    "    sim_class.init_potential_vector(voltage_values=voltages[0])\n",
    "    sim_class.init_const_capacitance_values()\n",
    "\n",
    "    # Return Model Arguments\n",
    "    inv_capacitance_matrix                                                                  = sim_class.return_inv_capacitance_matrix()\n",
    "    charge_vector                                                                           = sim_class.return_charge_vector()\n",
    "    potential_vector                                                                        = sim_class.return_potential_vector()\n",
    "    const_capacitance_values, const_capacitance_values_co1, const_capacitance_values_co2    = sim_class.return_const_capacitance_values()\n",
    "    N_electrodes, N_particles                                                               = sim_class.return_particle_electrode_count()\n",
    "    adv_index_rows, adv_index_cols, co_adv_index1, co_adv_index2, co_adv_index3             = sim_class.return_advanced_indices()\n",
    "    temperatures, temperatures_co                                                           = sim_class.return_const_temperatures(T=0)\n",
    "    resistances, resistances_co1, resistances_co2                                           = sim_class.return_random_resistances()\n",
    "\n",
    "    # Simulation Class\n",
    "    summary = nanonets.model_class(charge_vector, potential_vector, inv_capacitance_matrix, const_capacitance_values, const_capacitance_values_co1, const_capacitance_values_co2,\n",
    "                            temperatures, temperatures_co, resistances, resistances_co1, resistances_co2, adv_index_rows, adv_index_cols, co_adv_index1, co_adv_index2,\n",
    "                            co_adv_index3, N_electrodes, N_particles)\n",
    "    \n",
    "    return summary"
   ]
  },
  {
   "cell_type": "code",
   "execution_count": 9,
   "metadata": {},
   "outputs": [
    {
     "data": {
      "text/plain": [
       "array([[1., 0., 0.]])"
      ]
     },
     "execution_count": 9,
     "metadata": {},
     "output_type": "execute_result"
    }
   ],
   "source": [
    "voltages = np.array([[5.0,0.0,0.0]])\n",
    "voltages"
   ]
  },
  {
   "cell_type": "code",
   "execution_count": 21,
   "metadata": {},
   "outputs": [],
   "source": [
    "Ns      = np.arange(5,1001)\n",
    "Nss     = []\n",
    "times1  = []\n",
    "times1s = []\n",
    "times2  = []\n",
    "times2s = []\n",
    "times3  = []\n",
    "times3s = []\n",
    "\n",
    "for N in Ns:\n",
    "\n",
    "    tt1 = []\n",
    "    tt2 = []\n",
    "    tt3 = []\n",
    "\n",
    "    summary = init_run(N, voltages)\n",
    "    summary.calc_potentials()\n",
    "    \n",
    "    for i in range(100000):\n",
    "        \n",
    "        random_number1  = np.random.rand()\n",
    "        random_number2  = np.random.rand()\n",
    "        \n",
    "        summary.calc_tunnel_rates_zero_T()\n",
    "        summary.select_event(random_number1, random_number2)\n",
    "    \n",
    "    for i in range(10000):\n",
    "        \n",
    "        random_number1  = np.random.rand()\n",
    "        random_number2  = np.random.rand()\n",
    "        \n",
    "        t1 = time.process_time_ns()\n",
    "        summary.calc_tunnel_rates_zero_T()\n",
    "        \n",
    "        t2 = time.process_time_ns()\n",
    "        summary.select_event(random_number1, random_number2)\n",
    "\n",
    "        t3 = time.process_time_ns()\n",
    "\n",
    "        tt1.append(t2-t1)\n",
    "        tt2.append(t3-t2)\n",
    "        tt3.append(t3-t1)\n",
    "\n",
    "    Nss.append(len(summary.tunnel_rates))\n",
    "    times1.append(np.mean(tt1))\n",
    "    times1s.append(np.std(tt1))\n",
    "\n",
    "    times2.append(np.mean(tt2))\n",
    "    times2s.append(np.std(tt2))\n",
    "\n",
    "    times3.append(np.mean(tt3))\n",
    "    times3s.append(np.std(tt3))"
   ]
  },
  {
   "cell_type": "code",
   "execution_count": 22,
   "metadata": {},
   "outputs": [
    {
     "data": {
      "text/html": [
       "<div>\n",
       "<style scoped>\n",
       "    .dataframe tbody tr th:only-of-type {\n",
       "        vertical-align: middle;\n",
       "    }\n",
       "\n",
       "    .dataframe tbody tr th {\n",
       "        vertical-align: top;\n",
       "    }\n",
       "\n",
       "    .dataframe thead th {\n",
       "        text-align: right;\n",
       "    }\n",
       "</style>\n",
       "<table border=\"1\" class=\"dataframe\">\n",
       "  <thead>\n",
       "    <tr style=\"text-align: right;\">\n",
       "      <th></th>\n",
       "      <th>$N_{NP}$</th>\n",
       "      <th>$N_{T}$</th>\n",
       "      <th>t1</th>\n",
       "      <th>t1s</th>\n",
       "      <th>t2</th>\n",
       "      <th>t2s</th>\n",
       "      <th>t3</th>\n",
       "      <th>t3s</th>\n",
       "    </tr>\n",
       "  </thead>\n",
       "  <tbody>\n",
       "    <tr>\n",
       "      <th>0</th>\n",
       "      <td>5</td>\n",
       "      <td>24</td>\n",
       "      <td>1.364497</td>\n",
       "      <td>0.000878</td>\n",
       "      <td>0.950830</td>\n",
       "      <td>0.000532</td>\n",
       "      <td>2.315327</td>\n",
       "      <td>0.001080</td>\n",
       "    </tr>\n",
       "    <tr>\n",
       "      <th>1</th>\n",
       "      <td>6</td>\n",
       "      <td>28</td>\n",
       "      <td>1.408183</td>\n",
       "      <td>0.000723</td>\n",
       "      <td>0.959525</td>\n",
       "      <td>0.000373</td>\n",
       "      <td>2.367708</td>\n",
       "      <td>0.000858</td>\n",
       "    </tr>\n",
       "    <tr>\n",
       "      <th>2</th>\n",
       "      <td>7</td>\n",
       "      <td>32</td>\n",
       "      <td>1.455957</td>\n",
       "      <td>0.000969</td>\n",
       "      <td>0.988812</td>\n",
       "      <td>0.000592</td>\n",
       "      <td>2.444770</td>\n",
       "      <td>0.001240</td>\n",
       "    </tr>\n",
       "    <tr>\n",
       "      <th>3</th>\n",
       "      <td>8</td>\n",
       "      <td>36</td>\n",
       "      <td>1.434819</td>\n",
       "      <td>0.000935</td>\n",
       "      <td>0.978753</td>\n",
       "      <td>0.000667</td>\n",
       "      <td>2.413572</td>\n",
       "      <td>0.001219</td>\n",
       "    </tr>\n",
       "    <tr>\n",
       "      <th>4</th>\n",
       "      <td>9</td>\n",
       "      <td>40</td>\n",
       "      <td>1.505083</td>\n",
       "      <td>0.000893</td>\n",
       "      <td>0.993526</td>\n",
       "      <td>0.000409</td>\n",
       "      <td>2.498610</td>\n",
       "      <td>0.001035</td>\n",
       "    </tr>\n",
       "    <tr>\n",
       "      <th>...</th>\n",
       "      <td>...</td>\n",
       "      <td>...</td>\n",
       "      <td>...</td>\n",
       "      <td>...</td>\n",
       "      <td>...</td>\n",
       "      <td>...</td>\n",
       "      <td>...</td>\n",
       "      <td>...</td>\n",
       "    </tr>\n",
       "    <tr>\n",
       "      <th>991</th>\n",
       "      <td>996</td>\n",
       "      <td>3988</td>\n",
       "      <td>21.826138</td>\n",
       "      <td>0.007359</td>\n",
       "      <td>5.689871</td>\n",
       "      <td>0.012877</td>\n",
       "      <td>27.516009</td>\n",
       "      <td>0.015278</td>\n",
       "    </tr>\n",
       "    <tr>\n",
       "      <th>992</th>\n",
       "      <td>997</td>\n",
       "      <td>3992</td>\n",
       "      <td>21.903342</td>\n",
       "      <td>0.008544</td>\n",
       "      <td>5.840220</td>\n",
       "      <td>0.013348</td>\n",
       "      <td>27.743562</td>\n",
       "      <td>0.016691</td>\n",
       "    </tr>\n",
       "    <tr>\n",
       "      <th>993</th>\n",
       "      <td>998</td>\n",
       "      <td>3996</td>\n",
       "      <td>21.747545</td>\n",
       "      <td>0.009211</td>\n",
       "      <td>5.869006</td>\n",
       "      <td>0.012194</td>\n",
       "      <td>27.616551</td>\n",
       "      <td>0.015908</td>\n",
       "    </tr>\n",
       "    <tr>\n",
       "      <th>994</th>\n",
       "      <td>999</td>\n",
       "      <td>4000</td>\n",
       "      <td>21.851884</td>\n",
       "      <td>0.008439</td>\n",
       "      <td>6.119965</td>\n",
       "      <td>0.015479</td>\n",
       "      <td>27.971849</td>\n",
       "      <td>0.018366</td>\n",
       "    </tr>\n",
       "    <tr>\n",
       "      <th>995</th>\n",
       "      <td>1000</td>\n",
       "      <td>4004</td>\n",
       "      <td>21.650015</td>\n",
       "      <td>0.008057</td>\n",
       "      <td>5.433748</td>\n",
       "      <td>0.009301</td>\n",
       "      <td>27.083763</td>\n",
       "      <td>0.012751</td>\n",
       "    </tr>\n",
       "  </tbody>\n",
       "</table>\n",
       "<p>996 rows × 8 columns</p>\n",
       "</div>"
      ],
      "text/plain": [
       "     $N_{NP}$  $N_{T}$         t1       t1s        t2       t2s         t3  \\\n",
       "0           5       24   1.364497  0.000878  0.950830  0.000532   2.315327   \n",
       "1           6       28   1.408183  0.000723  0.959525  0.000373   2.367708   \n",
       "2           7       32   1.455957  0.000969  0.988812  0.000592   2.444770   \n",
       "3           8       36   1.434819  0.000935  0.978753  0.000667   2.413572   \n",
       "4           9       40   1.505083  0.000893  0.993526  0.000409   2.498610   \n",
       "..        ...      ...        ...       ...       ...       ...        ...   \n",
       "991       996     3988  21.826138  0.007359  5.689871  0.012877  27.516009   \n",
       "992       997     3992  21.903342  0.008544  5.840220  0.013348  27.743562   \n",
       "993       998     3996  21.747545  0.009211  5.869006  0.012194  27.616551   \n",
       "994       999     4000  21.851884  0.008439  6.119965  0.015479  27.971849   \n",
       "995      1000     4004  21.650015  0.008057  5.433748  0.009301  27.083763   \n",
       "\n",
       "          t3s  \n",
       "0    0.001080  \n",
       "1    0.000858  \n",
       "2    0.001240  \n",
       "3    0.001219  \n",
       "4    0.001035  \n",
       "..        ...  \n",
       "991  0.015278  \n",
       "992  0.016691  \n",
       "993  0.015908  \n",
       "994  0.018366  \n",
       "995  0.012751  \n",
       "\n",
       "[996 rows x 8 columns]"
      ]
     },
     "execution_count": 22,
     "metadata": {},
     "output_type": "execute_result"
    }
   ],
   "source": [
    "results             = pd.DataFrame()\n",
    "results['$N_{NP}$'] = Ns\n",
    "results['$N_{T}$']  = Nss\n",
    "results['t1']       = np.array(times1)/1000\n",
    "results['t1s']      = np.array(times1s)/1000/np.sqrt(10000)\n",
    "results['t2']       = np.array(times2)/1000\n",
    "results['t2s']      = np.array(times2s)/1000/np.sqrt(10000)\n",
    "results['t3']       = np.array(times3)/1000\n",
    "results['t3s']      = np.array(times3s)/1000/np.sqrt(10000)\n",
    "results"
   ]
  },
  {
   "cell_type": "code",
   "execution_count": 23,
   "metadata": {},
   "outputs": [],
   "source": [
    "cmeter      = 1/2.54\n",
    "single_col  = 8.6"
   ]
  },
  {
   "cell_type": "code",
   "execution_count": 24,
   "metadata": {},
   "outputs": [
    {
     "data": {
      "image/png": "[encoded data removed]",
      "text/plain": [
       "<Figure size 338.583x262.5 with 1 Axes>"
      ]
     },
     "metadata": {},
     "output_type": "display_data"
    }
   ],
   "source": [
    "with plt.style.context([\"science\",\"bright\", \"grid\"]):\n",
    "\n",
    "    fig = plt.figure()\n",
    "    fig.set_figwidth(single_col*cmeter)\n",
    "    ax  = fig.add_subplot()\n",
    "\n",
    "    ax.errorbar(x=results['$N_{T}$'],y=results['t1'], yerr=results['t1s'], marker='o', ls='',\n",
    "                label='4: $\\Delta F_{ij}(\\\\vec{\\phi}(t))$ \\n 5: $\\Gamma_{ij}(\\Delta F_{ij})$',ms=2,capsize=2)\n",
    "    ax.errorbar(x=results['$N_{T}$'],y=results['t2'], yerr=results['t2s'], marker='s', ls='',\n",
    "                label='6: $CDF_{\\Gamma}(n) \\\\rightarrow n$\\n 7: $t \\\\rightarrow t+1$ \\n 8: $\\\\vec{\\phi}(t) \\\\rightarrow \\\\vec{\\phi}(t+1)$',ms=2,capsize=2)\n",
    "    ax.set_xlabel('$N_{T}$')\n",
    "    ax.set_ylabel('Process Time [$\\mu s$]')\n",
    "    ax.legend(loc='upper left', fontsize='small',frameon=True)\n",
    "    # ax.set_ylim(1,8)\n",
    "    # ax.set_xlim(0,800)\n",
    "    # ax.set_xscale('log')\n",
    "    # ax.set_yscale('log')\n",
    "    # fig.savefig(\"complexity_vs_NT.pdf\", bbox_inches='tight')\n",
    "    # fig.savefig(\"complexity_vs_NT.svg\", bbox_inches='tight',transparent=True)\n",
    "    plt.show()\n"
   ]
  },
  {
   "cell_type": "code",
   "execution_count": 29,
   "metadata": {},
   "outputs": [
    {
     "data": {
      "image/png": "[encoded data removed]",
      "text/plain": [
       "<Figure size 338.583x262.5 with 1 Axes>"
      ]
     },
     "metadata": {},
     "output_type": "display_data"
    }
   ],
   "source": [
    "with plt.style.context([\"science\",\"bright\", \"grid\"]):\n",
    "\n",
    "    fig = plt.figure()\n",
    "    fig.set_figwidth(single_col*cmeter)\n",
    "    ax  = fig.add_subplot()\n",
    "\n",
    "    ax.errorbar(x=results['$N_{T}$'],y=results['t1'], yerr=results['t1s'], marker='o', ls='',\n",
    "                label='5: $\\Delta F_{ij}(\\\\vec{\\phi}(t))$ \\n 6: $\\Gamma_{ij}(\\Delta F_{ij})$',ms=2,capsize=2)\n",
    "    ax.errorbar(x=results['$N_{T}$'],y=results['t2'], yerr=results['t2s'], marker='s', ls='',\n",
    "                label='7: $CDF_{\\Gamma}(n) \\\\rightarrow n$\\n 8: $t \\\\rightarrow t+1$ \\n 9: $\\\\vec{\\phi}(t) \\\\rightarrow \\\\vec{\\phi}(t+1)$',ms=2,capsize=2)\n",
    "    ax.set_xlabel('$N_{T}$')\n",
    "    ax.set_ylabel('Process Time [$\\mu s$]')\n",
    "    ax.legend(loc='upper left', fontsize='small',frameon=True)\n",
    "    ax.set_ylim(1,6)\n",
    "    ax.set_xlim(0,800)\n",
    "    # ax.set_xscale('log')\n",
    "    # ax.set_yscale('log')\n",
    "    # fig.savefig(\"complexity_log_vs_NT.pdf\", bbox_inches='tight')\n",
    "    # fig.savefig(\"complexity_log_vs_NT.svg\", bbox_inches='tight',transparent=True)\n",
    "    plt.show()\n"
   ]
  },
  {
   "cell_type": "code",
   "execution_count": null,
   "metadata": {},
   "outputs": [],
   "source": [
    "time_ = 't2'\n",
    "print(np.var(np.log(results[time_]/results['N'])))\n",
    "print(np.var(np.log(results[time_]/(results['N']*np.log(results['N'])))))\n",
    "print(np.var(np.log(results[time_]/np.log(results['N']))))\n",
    "# print(np.var(np.log(results[time_]/np.sqrt(results['N']))))"
   ]
  },
  {
   "cell_type": "code",
   "execution_count": null,
   "metadata": {},
   "outputs": [],
   "source": [
    "times   = []\n",
    "Ns      = np.arange(10000,10*10000)\n",
    "for N in Ns:\n",
    "\n",
    "    x   = np.random.uniform(-1,1,N)\n",
    "    y   = np.random.uniform(-1,1,N)\n",
    "\n",
    "    t1  = time.process_time_ns()\n",
    "    z   = x+y\n",
    "    t2  = time.process_time_ns()\n",
    "\n",
    "    times.append(t2-t1)"
   ]
  },
  {
   "cell_type": "code",
   "execution_count": null,
   "metadata": {},
   "outputs": [],
   "source": [
    "plt.plot(times, '.')\n",
    "# plt.yscale('log')\n",
    "# plt.xscale('log')\n",
    "plt.show()"
   ]
  },
  {
   "cell_type": "code",
   "execution_count": null,
   "metadata": {},
   "outputs": [],
   "source": [
    "import networkx as nx"
   ]
  },
  {
   "cell_type": "code",
   "execution_count": null,
   "metadata": {},
   "outputs": [],
   "source": [
    "N_particles    = 50\n",
    "N_junctions    = 4\n",
    "not_connected       = True\n",
    "\n",
    "# Generate random graphs until a graph is connected\n",
    "while not_connected:\n",
    "\n",
    "    G          = nx.random_regular_graph(N_junctions, N_particles)\n",
    "    not_connected   = not(nx.is_connected(G))\n",
    "\n",
    "G   = G.to_directed()\n",
    "pos = nx.kamada_kawai_layout(G)\n",
    "pos = nx.spring_layout(G, pos=pos)"
   ]
  },
  {
   "cell_type": "code",
   "execution_count": null,
   "metadata": {},
   "outputs": [],
   "source": [
    "nx.draw_networkx(G, pos)\n",
    "plt.show()"
   ]
  },
  {
   "cell_type": "code",
   "execution_count": null,
   "metadata": {},
   "outputs": [],
   "source": [
    "G = nx.grid_graph(dim=(5,5,1))\n",
    "G.nodes"
   ]
  },
  {
   "cell_type": "code",
   "execution_count": null,
   "metadata": {},
   "outputs": [],
   "source": [
    "G_new = nx.convert_node_labels_to_integers(G)\n",
    "G_new = G_new.to_directed()"
   ]
  },
  {
   "cell_type": "code",
   "execution_count": null,
   "metadata": {},
   "outputs": [],
   "source": [
    "G_new.edges"
   ]
  },
  {
   "cell_type": "code",
   "execution_count": null,
   "metadata": {},
   "outputs": [],
   "source": [
    "nx.draw_networkx(G_new)\n",
    "plt.show()"
   ]
  }
 ],
 "metadata": {
  "kernelspec": {
   "display_name": "Python 3",
   "language": "python",
   "name": "python3"
  },
  "language_info": {
   "codemirror_mode": {
    "name": "ipython",
    "version": 3
   },
   "file_extension": ".py",
   "mimetype": "text/x-python",
   "name": "python",
   "nbconvert_exporter": "python",
   "pygments_lexer": "ipython3",
   "version": "3.10.12"
  },
  "orig_nbformat": 4
 },
 "nbformat": 4,
 "nbformat_minor": 2
}
