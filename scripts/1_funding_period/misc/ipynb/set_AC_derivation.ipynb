{
 "cells": [
  {
   "cell_type": "code",
   "execution_count": 24,
   "id": "805b2bcd",
   "metadata": {},
   "outputs": [],
   "source": [
    "import numpy as np\n",
    "from nanonets import NanoparticleElectrostatic"
   ]
  },
  {
   "cell_type": "code",
   "execution_count": 11,
   "id": "34d40c48",
   "metadata": {},
   "outputs": [],
   "source": [
    "electro = NanoparticleElectrostatic()\n",
    "cap_g   = electro.self_capacitance_sphere(3.9,10.0)\n",
    "cap_m   = electro.mutual_capacitance_adjacent_spheres(2.6,10.0,10.0,21.0)\n",
    "cap_t   = cap_g + 2*cap_m\n",
    "ELE_C   = 0.160217662"
   ]
  },
  {
   "cell_type": "code",
   "execution_count": 12,
   "id": "2ea75ac1",
   "metadata": {},
   "outputs": [],
   "source": [
    "alpha_S = cap_m / cap_t\n",
    "alpha_G = cap_g / cap_t"
   ]
  },
  {
   "cell_type": "code",
   "execution_count": 25,
   "id": "eaf6f6df",
   "metadata": {},
   "outputs": [
    {
     "name": "stdout",
     "output_type": "stream",
     "text": [
      "4.8402960198420735e-18\n"
     ]
    }
   ],
   "source": [
    "U_G     = 0.01\n",
    "U_S     = 0.01\n",
    "U_AMP   = 0.02\n",
    "A_val   = (ELE_C**2)/cap_t + ELE_C * (alpha_G*U_G + (alpha_S - 1)*U_S)\n",
    "B_val   = ELE_C * (alpha_S - 1)*U_AMP\n",
    "kBT     = 1.380649e-5 * 0.1\n",
    "print(np.exp((A_val + B_val) / kBT))"
   ]
  },
  {
   "cell_type": "code",
   "execution_count": null,
   "id": "1f7c6c8b",
   "metadata": {},
   "outputs": [],
   "source": []
  }
 ],
 "metadata": {
  "kernelspec": {
   "display_name": "Python 3",
   "language": "python",
   "name": "python3"
  },
  "language_info": {
   "codemirror_mode": {
    "name": "ipython",
    "version": 3
   },
   "file_extension": ".py",
   "mimetype": "text/x-python",
   "name": "python",
   "nbconvert_exporter": "python",
   "pygments_lexer": "ipython3",
   "version": "3.11.10"
  }
 },
 "nbformat": 4,
 "nbformat_minor": 5
}
