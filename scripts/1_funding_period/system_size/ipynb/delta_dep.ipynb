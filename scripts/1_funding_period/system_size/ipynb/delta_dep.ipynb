{
 "cells": [
  {
   "cell_type": "code",
   "execution_count": 2,
   "id": "03599979",
   "metadata": {},
   "outputs": [],
   "source": [
    "import numpy as np\n",
    "import matplotlib.pyplot as plt\n",
    "import matplotlib as mpl\n",
    "import pandas as pd\n",
    "import seaborn as sns\n",
    "import scienceplots\n",
    "from scipy.optimize import curve_fit\n",
    "from typing import Union, Tuple, List, Dict\n",
    "from nanonets.utils import load_boolean_results, fitness, abundance, get_best_logic_gate, nonlinear_parameter, return_ndr, return_nls\n",
    "\n",
    "%matplotlib inline\n",
    "plt.style.use([\"science\",\"bright\",\"grid\"])\n",
    "\n",
    "# data_folder = \"/home/jonasmensing/bagheera/data/1_funding_period/system_size/\"\n",
    "data_folder = \"/home/j/j_mens07/bagheera/data/1_funding_period/system_size/\"\n",
    "GATES       = ['AND', 'OR', 'XOR', 'XNOR', 'NAND', 'NOR']\n",
    "plt.style.use([\"science\",\"bright\",\"grid\"])\n"
   ]
  },
  {
   "cell_type": "code",
   "execution_count": 7,
   "id": "719fc4ae",
   "metadata": {},
   "outputs": [],
   "source": [
    "# Parameter\n",
    "N_p     = 9\n",
    "N_e     = 8\n",
    "deltas  = [0.0,0.01,0.02,0.03,0.04,0.05]\n",
    "\n",
    "data            = load_boolean_results(folder=data_folder, N=N_p, N_e=N_e, input_cols=['E1','E3'], on_state=0.01, max_error=0.1)\n",
    "fitness_data    = {delta : fitness(df=data, input_cols=['E1','E3'], delta=delta) for delta in deltas}"
   ]
  }
 ],
 "metadata": {
  "kernelspec": {
   "display_name": "Python 3",
   "language": "python",
   "name": "python3"
  },
  "language_info": {
   "codemirror_mode": {
    "name": "ipython",
    "version": 3
   },
   "file_extension": ".py",
   "mimetype": "text/x-python",
   "name": "python",
   "nbconvert_exporter": "python",
   "pygments_lexer": "ipython3",
   "version": "3.11.10"
  }
 },
 "nbformat": 4,
 "nbformat_minor": 5
}
