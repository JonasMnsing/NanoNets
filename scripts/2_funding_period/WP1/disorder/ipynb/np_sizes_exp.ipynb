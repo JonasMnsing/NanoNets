{
 "cells": [
  {
   "cell_type": "code",
   "execution_count": 1,
   "metadata": {},
   "outputs": [],
   "source": [
    "import pandas as pd\n",
    "import seaborn as sns\n",
    "import matplotlib.pyplot as plt\n",
    "import scienceplots"
   ]
  },
  {
   "cell_type": "code",
   "execution_count": 2,
   "metadata": {},
   "outputs": [],
   "source": [
    "df = pd.read_csv(\"np_sizes_exp.CSV\", sep=';', names=['small','medium','large'])\n",
    "df = df/1000\n",
    "\n",
    "means   = []\n",
    "stds    = []\n",
    "\n",
    "for col in df.columns:\n",
    "    means.append(df.loc[:,col].mean())\n",
    "    stds.append(df.loc[:,col].std())"
   ]
  },
  {
   "cell_type": "code",
   "execution_count": 4,
   "metadata": {},
   "outputs": [],
   "source": [
    "legend_labels = [f\"$\\mu_r = {round(means[i],1)}$\"+\" nm, \"+f\"$\\sigma_r = {round(stds[i],1)}$\"+\" nm\" for i in range(3)]\n",
    "\n",
    "with plt.style.context([\"science\",\"nature\",\"bright\"]):\n",
    "\n",
    "    fig, ax = plt.subplots(dpi=200)\n",
    "    ax      = sns.histplot(data=df, bins=50, ax=ax, kde=True)\n",
    "    ax.legend(legend_labels)\n",
    "    ax.set_xlabel(\"$r_{NP}$ [nm]\")\n",
    "\n",
    "    # fig.savefig(\"radius_dist_exp.svg\", transparent=False, bbox_inches='tight')\n",
    "    # fig.savefig(\"../plots/radius_dist_exp.pdf\", transparent=False, bbox_inches='tight')"
   ]
  }
 ],
 "metadata": {
  "kernelspec": {
   "display_name": "Python 3",
   "language": "python",
   "name": "python3"
  },
  "language_info": {
   "codemirror_mode": {
    "name": "ipython",
    "version": 3
   },
   "file_extension": ".py",
   "mimetype": "text/x-python",
   "name": "python",
   "nbconvert_exporter": "python",
   "pygments_lexer": "ipython3",
   "version": "3.11.10"
  },
  "orig_nbformat": 4
 },
 "nbformat": 4,
 "nbformat_minor": 2
}
