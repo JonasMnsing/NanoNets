{
 "cells": [
  {
   "cell_type": "code",
   "execution_count": 1,
   "metadata": {},
   "outputs": [],
   "source": [
    "import numpy as np\n",
    "import pandas as pd\n",
    "import matplotlib.pyplot as plt\n",
    "import matplotlib.animation as animation\n",
    "import seaborn as sns\n",
    "import scienceplots\n",
    "%matplotlib inline\n",
    "\n",
    "import sys\n",
    "sys.path.append(\"/home/jonas/phd/NanoNets/src/\")\n",
    "sys.path.append(\"/mnt/c/Users/jonas/Desktop/phd/NanoNets/src/\")\n",
    "\n",
    "import nanonets_utils\n",
    "import nanonets"
   ]
  },
  {
   "cell_type": "code",
   "execution_count": null,
   "metadata": {},
   "outputs": [],
   "source": [
    "def average_outputs(folder, N_stat, N_threads):\n",
    "\n",
    "    values          = [pd.read_csv(folder+f\"/Nx=7_Ny=7_Nz=1_Ne=2_t{j}_s{k}.csv\") for j in range(N_threads) for k in range(N_stat)]\n",
    "    means           = pd.DataFrame(np.mean(values, axis=0),columns=values[0].columns)\n",
    "    means['Error']  = np.std(values,axis=0)[:,-2]/np.sqrt(50)\n",
    "\n",
    "    means.to_csv(folder+f\"/Nx=7_Ny=7_Nz=1_Ne=2.csv\", index=0)\n",
    "\n",
    "def average_states(folder, N_stat, N_threads):\n",
    "\n",
    "    values  = [pd.read_csv(folder+f\"/mean_state_Nx=7_Ny=7_Nz=1_Ne=2_t{j}_s{k}.csv\") for j in range(N_threads) for k in range(N_stat)]\n",
    "    means   = pd.DataFrame(np.mean(values, axis=0),columns=values[0].columns).round(3)\n",
    "    \n",
    "    means.to_csv(folder+f\"/mean_state_Nx=7_Ny=7_Nz=1_Ne=2.csv\", index=0)\n",
    "\n",
    "# Combine output currents\n",
    "average_outputs(\"1I_1O/data/f1/\", 10, 10)\n",
    "average_outputs(\"1I_1O/data/f2/\", 10, 10)\n",
    "average_outputs(\"1I_1O/data/f3/\", 10, 10)\n",
    "\n",
    "# Combine states\n",
    "average_states(\"1I_1O/data/f1/\", 10 , 10)\n",
    "average_states(\"1I_1O/data/f2/\", 10 , 10)\n",
    "average_states(\"1I_1O/data/f3/\", 10 , 10)"
   ]
  },
  {
   "cell_type": "code",
   "execution_count": null,
   "metadata": {},
   "outputs": [],
   "source": [
    "data = {}\n",
    "\n",
    "results         = pd.DataFrame()\n",
    "results[\"t\"]    = np.loadtxt(\"1I_1O/time.csv\")[1:]*10**9\n",
    "results['U']    = pd.read_csv(\"1I_1O/data/f1/Nx=7_Ny=7_Nz=1_Ne=2.csv\")['E0']\n",
    "results[\"I\"]    = pd.read_csv(\"1I_1O/data/f1/Nx=7_Ny=7_Nz=1_Ne=2.csv\")['Current']\n",
    "results[\"uI\"]   = pd.read_csv(\"1I_1O/data/f1/Nx=7_Ny=7_Nz=1_Ne=2.csv\")['Error']\n",
    "data[5e7]       = results\n",
    "\n",
    "results         = pd.DataFrame()\n",
    "results[\"t\"]    = np.loadtxt(\"1I_1O/time.csv\")[1:]*10**9\n",
    "results['U']    = pd.read_csv(\"1I_1O/data/f2/Nx=7_Ny=7_Nz=1_Ne=2.csv\")['E0']\n",
    "results[\"I\"]    = pd.read_csv(\"1I_1O/data/f2/Nx=7_Ny=7_Nz=1_Ne=2.csv\")['Current']\n",
    "results[\"uI\"]   = pd.read_csv(\"1I_1O/data/f2/Nx=7_Ny=7_Nz=1_Ne=2.csv\")['Error']\n",
    "data[10e7]      = results\n",
    "\n",
    "results         = pd.DataFrame()\n",
    "results[\"t\"]    = np.loadtxt(\"1I_1O/time.csv\")[1:]*10**9\n",
    "results['U']    = pd.read_csv(\"1I_1O/data/f3/Nx=7_Ny=7_Nz=1_Ne=2.csv\")['E0']\n",
    "results[\"I\"]    = pd.read_csv(\"1I_1O/data/f3/Nx=7_Ny=7_Nz=1_Ne=2.csv\")['Current']\n",
    "results[\"uI\"]   = pd.read_csv(\"1I_1O/data/f3/Nx=7_Ny=7_Nz=1_Ne=2.csv\")['Error']\n",
    "data[20e7]      = results"
   ]
  },
  {
   "cell_type": "code",
   "execution_count": null,
   "metadata": {},
   "outputs": [],
   "source": [
    "with plt.style.context([\"science\",\"bright\"]):\n",
    "\n",
    "    fig = plt.figure(dpi=150)\n",
    "    fig.set_figheight(fig.get_figheight())\n",
    "    \n",
    "    ax  = fig.add_subplot(3,1,1)\n",
    "    ax.errorbar(data[5e7]['t'], data[5e7]['I']/1000, data[5e7]['uI']/1000)\n",
    "    ax.set_ylabel(\"$I$ [nA]\", c='#348ABD')\n",
    "    ax.set_ylim(-6,6)\n",
    "    ax.set_xticklabels(\"\")\n",
    "\n",
    "    ax2 = ax.twinx()\n",
    "    ax2.plot(data[5e7]['t'], data[5e7]['U'], c='#A60628', label=f\"$f = {5e7 / 10**9}$ nHz\")\n",
    "    ax2.set_ylabel(\"$U_0$ [mV]\", c='#A60628')\n",
    "    ax2.legend(fontsize='x-small', loc='upper right', frameon=True)\n",
    "\n",
    "    ax  = fig.add_subplot(3,1,2)\n",
    "    ax.errorbar(data[10e7]['t'], data[10e7]['I']/1000, data[10e7]['uI']/1000)\n",
    "    ax.set_ylabel(\"$I$ [nA]\", c='#348ABD')\n",
    "    ax.set_ylim(-6,6)\n",
    "    ax.set_xticklabels(\"\")\n",
    "\n",
    "    ax2 = ax.twinx()\n",
    "    ax2.plot(data[10e7]['t'], data[10e7]['U'], c='#A60628', label=f\"$f = {10e7 / 10**9}$ nHz\")\n",
    "    ax2.set_ylabel(\"$U_0$ [mV]\", c='#A60628')\n",
    "    ax2.legend(fontsize='x-small', loc='upper right', frameon=True)\n",
    "\n",
    "    ax  = fig.add_subplot(3,1,3)\n",
    "    ax.errorbar(data[20e7]['t'], data[20e7]['I']/1000, data[20e7]['uI']/1000)\n",
    "    ax.set_ylabel(\"$I$ [nA]\", c='#348ABD')\n",
    "    ax.set_ylim(-6,6)\n",
    "    ax.set_xlabel(\"$t$ [ns]\")\n",
    "\n",
    "    ax2 = ax.twinx()\n",
    "    ax2.plot(data[20e7]['t'], data[20e7]['U'], c='#A60628', label=f\"$f = {20e7 / 10**9}$ nHz\")\n",
    "    ax2.set_ylabel(\"$U_0$ [mV]\", c='#A60628')\n",
    "    ax2.legend(fontsize='x-small', loc='upper right', frameon=True)\n"
   ]
  },
  {
   "cell_type": "code",
   "execution_count": null,
   "metadata": {},
   "outputs": [],
   "source": [
    "with plt.style.context([\"science\",\"bright\"]):\n",
    "\n",
    "    fig = plt.figure(dpi=150)\n",
    "    fig.set_figheight(fig.get_figheight())\n",
    "    \n",
    "    ax  = fig.add_subplot(3,1,1)\n",
    "    ax2 = ax.twinx()\n",
    "    ax2.plot(results['t'], results['U'], c='#A60628')\n",
    "    ax2.set_ylabel(\"$U_0$ [mV]\", c='#A60628')\n",
    "\n",
    "    ax.errorbar(results['t'], results['I']/1000, results['uI']/1000, label='uniform')\n",
    "    ax.set_xticklabels(\"\")\n",
    "    ax.set_ylabel(\"$I$ [nA]\", c='#348ABD')\n",
    "    ax.legend()\n",
    "\n",
    "    ax  = fig.add_subplot(3,1,2)\n",
    "    ax2 = ax.twinx()\n",
    "    ax2.plot(results['t'], results['U'], c='#A60628')\n",
    "    ax2.set_ylabel(\"$U_0$ [mV]\", c='#A60628')\n",
    "    ax.errorbar(results['t'], results['r_I']/1000, results['r_uI']/1000, label='r-Island')\n",
    "    ax.set_xticklabels(\"\")\n",
    "    ax.set_ylabel(\"$I$ [nA]\", c='#348ABD')\n",
    "    ax.legend()\n",
    "\n",
    "    ax  = fig.add_subplot(3,1,3)\n",
    "    ax2 = ax.twinx()\n",
    "    ax2.plot(results['t'], results['U'], c='#A60628')\n",
    "    ax2.set_ylabel(\"$U_0$ [mV]\", c='#A60628')\n",
    "    ax.errorbar(results['t'], results['R_I']/1000, results['R_uI']/1000, label='R-Island')\n",
    "    ax.set_ylabel(\"$I$ [nA]\", c='#348ABD')\n",
    "    ax.set_xlabel(\"$t$ [ns]\")\n",
    "    ax.legend()\n",
    "\n",
    "    fig.savefig('plots/i_o_comp.svg', bbox_inches='tight', transparent=True)\n",
    "    fig.savefig('plots/i_o_comp.pdf', bbox_inches='tight', transparent=False)"
   ]
  },
  {
   "cell_type": "code",
   "execution_count": null,
   "metadata": {},
   "outputs": [],
   "source": [
    "x   = results[\"t\"].values\n",
    "y   = results[\"U\"].values\n",
    "\n",
    "def update(num, x, y, line):\n",
    "    line.set_data(x[:num], y[:num])\n",
    "    # line.axes.axis([xmin,xmax,ymin,ymax])\n",
    "    \n",
    "    return line,\n",
    "\n",
    "with plt.style.context([\"science\",\"bright\"]):\n",
    "\n",
    "    fig     = plt.figure(dpi=150)\n",
    "    ax      = fig.add_subplot()\n",
    "    # ax.set_xlabel(\"$t$ [ns]\")\n",
    "    # ax.set_ylabel(\"$U_0$ [mV]\")\n",
    "    \n",
    "    line,   = ax.plot(x, y, lw=3)\n",
    "    ani     = animation.FuncAnimation(fig, update, len(x), fargs=[x, y, line], interval=50, repeat_delay=500)\n",
    "\n",
    "ani.save(\"plots/input.gif\")"
   ]
  },
  {
   "cell_type": "code",
   "execution_count": 2,
   "metadata": {},
   "outputs": [],
   "source": [
    "dic = {\n",
    "    \"f1\"    : pd.read_csv(\"1I_1O/data/f1/mean_state_Nx=7_Ny=7_Nz=1_Ne=2.csv\"),\n",
    "    \"f2\"    : pd.read_csv(\"1I_1O/data/f2/mean_state_Nx=7_Ny=7_Nz=1_Ne=2.csv\"),\n",
    "    \"f3\"    : pd.read_csv(\"1I_1O/data/f3/mean_state_Nx=7_Ny=7_Nz=1_Ne=2.csv\")\n",
    "}"
   ]
  },
  {
   "cell_type": "code",
   "execution_count": null,
   "metadata": {},
   "outputs": [],
   "source": [
    "key = \"f1\"\n",
    "\n",
    "with plt.style.context([\"science\",\"bright\"]):\n",
    "\n",
    "    fig, axs = plt.subplots(ncols=7, nrows=7)\n",
    "\n",
    "    fig.set_figwidth(fig.get_figwidth()*1.5)\n",
    "    fig.set_figheight(fig.get_figheight()*1.5)\n",
    "\n",
    "    i = 0\n",
    "\n",
    "    for row in np.arange(6,-1,-1):\n",
    "        for col in range(0,7):\n",
    "\n",
    "            axs[row,col].plot(results[\"U\"], dic[key][f\"{i}\"].values)\n",
    "            # axs[row,col].set_ylim(-10,10)\n",
    "\n",
    "            # axs[row,col].set_ylim(0.2,11)\n",
    "            # axs[row,col].set_yscale(\"log\")\n",
    "\n",
    "            if i >= 7:\n",
    "                axs[row,col].set_xticklabels(\"\")\n",
    "            else:\n",
    "                axs[row,col].set_xlabel(\"$t$ [ns]\")\n",
    "\n",
    "            if i % 7 != 0:\n",
    "                axs[row,col].set_yticklabels(\"\")\n",
    "            else:\n",
    "                axs[row,col].set_ylabel(\"$q$ [e]\")\n",
    "\n",
    "            i += 1\n",
    "\n",
    "    # fig.savefig('plots/state_vs_time.svg', bbox_inches='tight', transparent=True)\n",
    "    # fig.savefig('plots/state_vs_time.pdf', bbox_inches='tight', transparent=False)"
   ]
  },
  {
   "cell_type": "code",
   "execution_count": null,
   "metadata": {},
   "outputs": [],
   "source": [
    "key = \"radius\"\n",
    "\n",
    "with plt.style.context([\"science\",\"bright\"]):\n",
    "\n",
    "    fig, axs = plt.subplots(ncols=7, nrows=7)\n",
    "\n",
    "    fig.set_figwidth(fig.get_figwidth()*1.5)\n",
    "    fig.set_figheight(fig.get_figheight()*1.5)\n",
    "\n",
    "    i = 0\n",
    "\n",
    "    for row in np.arange(6,-1,-1):\n",
    "        for col in range(0,7):\n",
    "\n",
    "            axs[row,col].plot(results[\"t\"], dic[key][f\"{i}\"].values)\n",
    "            axs[row,col].set_ylim(0,8)\n",
    "            # axs[row,col].set_ylim(0.2,11)\n",
    "            # axs[row,col].set_yscale(\"log\")\n",
    "\n",
    "            if i >= 7:\n",
    "                axs[row,col].set_xticklabels(\"\")\n",
    "            else:\n",
    "                axs[row,col].set_xlabel(\"$t$ [ns]\")\n",
    "\n",
    "            if i % 7 != 0:\n",
    "                axs[row,col].set_yticklabels(\"\")\n",
    "            else:\n",
    "                axs[row,col].set_ylabel(\"$q$ [e]\")\n",
    "\n",
    "            i += 1\n",
    "\n",
    "    # fig.savefig('plots/state_vs_time_radius.svg', bbox_inches='tight', transparent=True)\n",
    "    # fig.savefig('plots/state_vs_time_radius.pdf', bbox_inches='tight', transparent=False)"
   ]
  },
  {
   "cell_type": "code",
   "execution_count": null,
   "metadata": {},
   "outputs": [],
   "source": [
    "key = \"resistance\"\n",
    "\n",
    "with plt.style.context([\"science\",\"bright\"]):\n",
    "\n",
    "    fig, axs = plt.subplots(ncols=7, nrows=7)\n",
    "\n",
    "    fig.set_figwidth(fig.get_figwidth()*1.5)\n",
    "    fig.set_figheight(fig.get_figheight()*1.5)\n",
    "\n",
    "    i = 0\n",
    "\n",
    "    for row in np.arange(6,-1,-1):\n",
    "        for col in range(0,7):\n",
    "\n",
    "            axs[row,col].plot(results[\"t\"], dic[key][f\"{i}\"].values)\n",
    "            axs[row,col].set_ylim(0,8)\n",
    "\n",
    "            if i >= 7:\n",
    "                axs[row,col].set_xticklabels(\"\")\n",
    "            else:\n",
    "                axs[row,col].set_xlabel(\"$t$ [ns]\")\n",
    "\n",
    "            if i % 7 != 0:\n",
    "                axs[row,col].set_yticklabels(\"\")\n",
    "            else:\n",
    "                axs[row,col].set_ylabel(\"$q$ [e]\")\n",
    "\n",
    "            i += 1\n",
    "\n",
    "    # fig.savefig('plots/state_vs_time_resistance.svg', bbox_inches='tight', transparent=True)\n",
    "    # fig.savefig('plots/state_vs_time_resistance.pdf', bbox_inches='tight', transparent=False)"
   ]
  },
  {
   "cell_type": "code",
   "execution_count": 6,
   "metadata": {},
   "outputs": [
    {
     "name": "stderr",
     "output_type": "stream",
     "text": [
      "MovieWriter ffmpeg unavailable; using Pillow instead.\n"
     ]
    },
    {
     "data": {
      "image/png": "[encoded data removed]",
      "text/plain": [
       "<Figure size 640x480 with 1 Axes>"
      ]
     },
     "metadata": {},
     "output_type": "display_data"
    }
   ],
   "source": [
    "ani = nanonets_utils.animate_landscape(dic[\"f1\"][:1000].values, 7 , 7,\n",
    "                                       delay_between_frames=50, interpolation='bilinear', cbar_label='$q$ [e]', vmin=-8, vmax=8)\n",
    "ani.save(\"plots/state_animation_f1.gif\")"
   ]
  },
  {
   "cell_type": "code",
   "execution_count": 7,
   "metadata": {},
   "outputs": [
    {
     "name": "stderr",
     "output_type": "stream",
     "text": [
      "MovieWriter ffmpeg unavailable; using Pillow instead.\n"
     ]
    },
    {
     "data": {
      "image/png": "[encoded data removed]",
      "text/plain": [
       "<Figure size 640x480 with 1 Axes>"
      ]
     },
     "metadata": {},
     "output_type": "display_data"
    }
   ],
   "source": [
    "ani = nanonets_utils.animate_landscape(dic[\"f2\"][:1000].values, 7 , 7,\n",
    "                                       delay_between_frames=50, interpolation='bilinear', cbar_label='$q$ [e]',vmin=-8, vmax=8)\n",
    "ani.save(\"plots/state_animation_f2.gif\")"
   ]
  },
  {
   "cell_type": "code",
   "execution_count": 4,
   "metadata": {},
   "outputs": [
    {
     "name": "stderr",
     "output_type": "stream",
     "text": [
      "MovieWriter ffmpeg unavailable; using Pillow instead.\n"
     ]
    },
    {
     "data": {
      "image/png": "[encoded data removed]",
      "text/plain": [
       "<Figure size 640x480 with 1 Axes>"
      ]
     },
     "metadata": {},
     "output_type": "display_data"
    }
   ],
   "source": [
    "ani = nanonets_utils.animate_landscape(dic[\"f3\"][:1000].values, 7 , 7,\n",
    "                                       delay_between_frames=50, interpolation='bilinear', cbar_label='$q$ [e]',\n",
    "                                       vmin=-8, vmax=8)\n",
    "ani.save(\"plots/state_animation_f3.gif\")"
   ]
  },
  {
   "cell_type": "code",
   "execution_count": null,
   "metadata": {},
   "outputs": [],
   "source": [
    "# Example: Cubic Network\n",
    "network_topology = \"cubic\"\n",
    "\n",
    "# Network Parameter\n",
    "topology_parameter = {\n",
    "    \"Nx\"    : 7,\n",
    "    \"Ny\"    : 7,\n",
    "    \"Nz\"    : 1,\n",
    "    \"e_pos\" : [[0,0,0],[6,6,0]]\n",
    "}\n",
    "\n",
    "# Network Class Object\n",
    "np_network_cubic = nanonets.simulation(network_topology=network_topology, topology_parameter=topology_parameter)"
   ]
  },
  {
   "cell_type": "code",
   "execution_count": null,
   "metadata": {},
   "outputs": [],
   "source": [
    "node_size = 150\n",
    "\n",
    "fig, ax = nanonets_utils.display_network(np_network_sim=np_network_cubic, node_size=node_size, provide_electrode_labels=[\"I\",\"O\"], font_size=25)\n",
    "fig.savefig('plots/network_plot.svg', bbox_inches='tight', transparent=True)\n",
    "fig.savefig('plots/network_plot.pdf', bbox_inches='tight', transparent=False)\n",
    "\n",
    "node_size = np.repeat(150, 51)\n",
    "\n",
    "for i in [16,17,18,23,24,25,30,31,32]:\n",
    "    node_size[i] = 300\n",
    "\n",
    "fig, ax = nanonets_utils.display_network(np_network_sim=np_network_cubic, node_size=node_size, provide_electrode_labels=[\"I\",\"O\"], font_size=25)\n",
    "fig.savefig('plots/network_plot_radius.svg', bbox_inches='tight', transparent=True)\n",
    "fig.savefig('plots/network_plot_radius.pdf', bbox_inches='tight', transparent=False)"
   ]
  }
 ],
 "metadata": {
  "kernelspec": {
   "display_name": "Python 3",
   "language": "python",
   "name": "python3"
  },
  "language_info": {
   "codemirror_mode": {
    "name": "ipython",
    "version": 3
   },
   "file_extension": ".py",
   "mimetype": "text/x-python",
   "name": "python",
   "nbconvert_exporter": "python",
   "pygments_lexer": "ipython3",
   "version": "3.10.12"
  }
 },
 "nbformat": 4,
 "nbformat_minor": 2
}
