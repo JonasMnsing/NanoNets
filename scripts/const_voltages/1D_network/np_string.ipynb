{
 "cells": [
  {
   "cell_type": "code",
   "execution_count": 81,
   "metadata": {},
   "outputs": [],
   "source": [
    "# Libraries\n",
    "import numpy as np\n",
    "import pandas as pd\n",
    "import matplotlib.pyplot as plt\n",
    "%matplotlib inline\n",
    "\n",
    "# Extend PATH Variable\n",
    "import sys\n",
    "sys.path.append(\"../../../src/\")\n",
    "\n",
    "# NanoNets Simulation Tool\n",
    "import nanonets\n",
    "import nanonets_utils"
   ]
  },
  {
   "cell_type": "markdown",
   "metadata": {},
   "source": [
    "#### String of N Nanoparticles @ Pos 1"
   ]
  },
  {
   "cell_type": "code",
   "execution_count": 82,
   "metadata": {},
   "outputs": [],
   "source": [
    "N_particles             = 5\n",
    "network_topology        = \"cubic\"\n",
    "topology_parameter_1    = {\n",
    "    \"Nx\"    : N_particles,\n",
    "    \"Ny\"    : 1,\n",
    "    \"Nz\"    : 1,\n",
    "    \"e_pos\" : [[0,0,0],[2,0,0],[4,0,0]]\n",
    "}\n",
    "topology_parameter_2    = {\n",
    "    \"Nx\"    : N_particles,\n",
    "    \"Ny\"    : 1,\n",
    "    \"Nz\"    : 1,\n",
    "    \"e_pos\" : [[0,0,0],[3,0,0],[4,0,0]]\n",
    "}\n",
    "np_network_sim_1 = nanonets.simulation(network_topology=network_topology, topology_parameter=topology_parameter_1)\n",
    "np_network_sim_2 = nanonets.simulation(network_topology=network_topology, topology_parameter=topology_parameter_2)"
   ]
  },
  {
   "cell_type": "code",
   "execution_count": 83,
   "metadata": {},
   "outputs": [
    {
     "data": {
      "image/png": "[encoded data removed]",
      "text/plain": [
       "<Figure size 350x105 with 1 Axes>"
      ]
     },
     "metadata": {},
     "output_type": "display_data"
    },
    {
     "data": {
      "image/png": "[encoded data removed]",
      "text/plain": [
       "<Figure size 350x105 with 1 Axes>"
      ]
     },
     "metadata": {},
     "output_type": "display_data"
    }
   ],
   "source": [
    "fig, ax = nanonets_utils.display_network(np_network_sim_1, height_scale=0.4, provide_electrode_labels=['I','C','O'],\n",
    "                                         font_size=30, save_to_path='plots/network_1.pdf', margins=[0,0.2])\n",
    "fig, ax = nanonets_utils.display_network(np_network_sim_2, height_scale=0.4, provide_electrode_labels=['I','C','O'],\n",
    "                                         font_size=30, save_to_path='plots/network_2.pdf', margins=[0,0.2])"
   ]
  },
  {
   "cell_type": "code",
   "execution_count": 84,
   "metadata": {},
   "outputs": [],
   "source": [
    "results_1   = pd.read_csv(\"data/Nx=5_Ny=1_Nz=1_Ne=3_0.csv\")\n",
    "results_1   = results_1[results_1['Error'] != 0]\n",
    "\n",
    "results_2   = pd.read_csv(\"data/Nx=5_Ny=1_Nz=1_Ne=3_1.csv\")\n",
    "results_2   = results_2[results_2['Error'] != 0]"
   ]
  },
  {
   "cell_type": "code",
   "execution_count": 85,
   "metadata": {},
   "outputs": [
    {
     "data": {
      "text/html": [
       "<div>\n",
       "<style scoped>\n",
       "    .dataframe tbody tr th:only-of-type {\n",
       "        vertical-align: middle;\n",
       "    }\n",
       "\n",
       "    .dataframe tbody tr th {\n",
       "        vertical-align: top;\n",
       "    }\n",
       "\n",
       "    .dataframe thead th {\n",
       "        text-align: right;\n",
       "    }\n",
       "</style>\n",
       "<table border=\"1\" class=\"dataframe\">\n",
       "  <thead>\n",
       "    <tr style=\"text-align: right;\">\n",
       "      <th></th>\n",
       "      <th>E0</th>\n",
       "      <th>E1</th>\n",
       "      <th>E2</th>\n",
       "      <th>G</th>\n",
       "      <th>Eq_Jumps</th>\n",
       "      <th>Jumps</th>\n",
       "      <th>Current</th>\n",
       "      <th>Error</th>\n",
       "    </tr>\n",
       "  </thead>\n",
       "  <tbody>\n",
       "    <tr>\n",
       "      <th>0</th>\n",
       "      <td>-0.200000</td>\n",
       "      <td>0.00</td>\n",
       "      <td>0.0</td>\n",
       "      <td>0.0</td>\n",
       "      <td>10000.0</td>\n",
       "      <td>5649.0</td>\n",
       "      <td>-1255.564826</td>\n",
       "      <td>12.474321</td>\n",
       "    </tr>\n",
       "    <tr>\n",
       "      <th>1</th>\n",
       "      <td>-0.199700</td>\n",
       "      <td>0.00</td>\n",
       "      <td>0.0</td>\n",
       "      <td>0.0</td>\n",
       "      <td>10000.0</td>\n",
       "      <td>4715.0</td>\n",
       "      <td>-1222.982306</td>\n",
       "      <td>12.195985</td>\n",
       "    </tr>\n",
       "    <tr>\n",
       "      <th>2</th>\n",
       "      <td>-0.199399</td>\n",
       "      <td>0.00</td>\n",
       "      <td>0.0</td>\n",
       "      <td>0.0</td>\n",
       "      <td>10000.0</td>\n",
       "      <td>3626.0</td>\n",
       "      <td>-1292.871397</td>\n",
       "      <td>12.894334</td>\n",
       "    </tr>\n",
       "    <tr>\n",
       "      <th>3</th>\n",
       "      <td>-0.199099</td>\n",
       "      <td>0.00</td>\n",
       "      <td>0.0</td>\n",
       "      <td>0.0</td>\n",
       "      <td>10000.0</td>\n",
       "      <td>4531.0</td>\n",
       "      <td>-1264.133155</td>\n",
       "      <td>12.570744</td>\n",
       "    </tr>\n",
       "    <tr>\n",
       "      <th>4</th>\n",
       "      <td>-0.198799</td>\n",
       "      <td>0.00</td>\n",
       "      <td>0.0</td>\n",
       "      <td>0.0</td>\n",
       "      <td>10000.0</td>\n",
       "      <td>3686.0</td>\n",
       "      <td>-1119.099333</td>\n",
       "      <td>11.164625</td>\n",
       "    </tr>\n",
       "    <tr>\n",
       "      <th>...</th>\n",
       "      <td>...</td>\n",
       "      <td>...</td>\n",
       "      <td>...</td>\n",
       "      <td>...</td>\n",
       "      <td>...</td>\n",
       "      <td>...</td>\n",
       "      <td>...</td>\n",
       "      <td>...</td>\n",
       "    </tr>\n",
       "    <tr>\n",
       "      <th>4315</th>\n",
       "      <td>-0.105405</td>\n",
       "      <td>0.04</td>\n",
       "      <td>0.0</td>\n",
       "      <td>0.0</td>\n",
       "      <td>10000.0</td>\n",
       "      <td>1000000.0</td>\n",
       "      <td>1.096457</td>\n",
       "      <td>0.031744</td>\n",
       "    </tr>\n",
       "    <tr>\n",
       "      <th>4316</th>\n",
       "      <td>-0.105105</td>\n",
       "      <td>0.04</td>\n",
       "      <td>0.0</td>\n",
       "      <td>0.0</td>\n",
       "      <td>10000.0</td>\n",
       "      <td>1000000.0</td>\n",
       "      <td>2.922692</td>\n",
       "      <td>0.048023</td>\n",
       "    </tr>\n",
       "    <tr>\n",
       "      <th>4317</th>\n",
       "      <td>-0.104805</td>\n",
       "      <td>0.04</td>\n",
       "      <td>0.0</td>\n",
       "      <td>0.0</td>\n",
       "      <td>10000.0</td>\n",
       "      <td>1000000.0</td>\n",
       "      <td>2.714293</td>\n",
       "      <td>0.051500</td>\n",
       "    </tr>\n",
       "    <tr>\n",
       "      <th>4318</th>\n",
       "      <td>-0.104505</td>\n",
       "      <td>0.04</td>\n",
       "      <td>0.0</td>\n",
       "      <td>0.0</td>\n",
       "      <td>10000.0</td>\n",
       "      <td>1000000.0</td>\n",
       "      <td>2.445386</td>\n",
       "      <td>0.026461</td>\n",
       "    </tr>\n",
       "    <tr>\n",
       "      <th>4319</th>\n",
       "      <td>-0.104204</td>\n",
       "      <td>0.04</td>\n",
       "      <td>0.0</td>\n",
       "      <td>0.0</td>\n",
       "      <td>10000.0</td>\n",
       "      <td>1000000.0</td>\n",
       "      <td>2.538225</td>\n",
       "      <td>0.109593</td>\n",
       "    </tr>\n",
       "  </tbody>\n",
       "</table>\n",
       "<p>3668 rows × 8 columns</p>\n",
       "</div>"
      ],
      "text/plain": [
       "            E0    E1   E2    G  Eq_Jumps      Jumps      Current      Error\n",
       "0    -0.200000  0.00  0.0  0.0   10000.0     5649.0 -1255.564826  12.474321\n",
       "1    -0.199700  0.00  0.0  0.0   10000.0     4715.0 -1222.982306  12.195985\n",
       "2    -0.199399  0.00  0.0  0.0   10000.0     3626.0 -1292.871397  12.894334\n",
       "3    -0.199099  0.00  0.0  0.0   10000.0     4531.0 -1264.133155  12.570744\n",
       "4    -0.198799  0.00  0.0  0.0   10000.0     3686.0 -1119.099333  11.164625\n",
       "...        ...   ...  ...  ...       ...        ...          ...        ...\n",
       "4315 -0.105405  0.04  0.0  0.0   10000.0  1000000.0     1.096457   0.031744\n",
       "4316 -0.105105  0.04  0.0  0.0   10000.0  1000000.0     2.922692   0.048023\n",
       "4317 -0.104805  0.04  0.0  0.0   10000.0  1000000.0     2.714293   0.051500\n",
       "4318 -0.104505  0.04  0.0  0.0   10000.0  1000000.0     2.445386   0.026461\n",
       "4319 -0.104204  0.04  0.0  0.0   10000.0  1000000.0     2.538225   0.109593\n",
       "\n",
       "[3668 rows x 8 columns]"
      ]
     },
     "execution_count": 85,
     "metadata": {},
     "output_type": "execute_result"
    }
   ],
   "source": [
    "results_1"
   ]
  },
  {
   "cell_type": "markdown",
   "metadata": {},
   "source": [
    "#### Display"
   ]
  },
  {
   "cell_type": "code",
   "execution_count": 86,
   "metadata": {},
   "outputs": [
    {
     "data": {
      "image/png": "[encoded data removed]",
      "text/plain": [
       "<Figure size 350x262.5 with 1 Axes>"
      ]
     },
     "metadata": {},
     "output_type": "display_data"
    }
   ],
   "source": [
    "df1 = results_1[results_1['E1']==0.0].sort_values(by='E0')\n",
    "df2 = results_1[results_1['E1']==0.01].sort_values(by='E0')\n",
    "df3 = results_1[results_1['E1']==0.03].sort_values(by='E0')\n",
    "df4 = results_1[results_1['E1']==0.04].sort_values(by='E0')\n",
    "\n",
    "with plt.style.context([\"science\",\"bright\",\"grid\"]):\n",
    "\n",
    "    fig = plt.figure()\n",
    "    ax  = fig.add_subplot()\n",
    "    ax.errorbar(df1['E0']*1000, df1['Current'], df1['Error'], marker='.', ls='-', label=f\"$U_C = {0.0*1000}$ mV\")\n",
    "    ax.errorbar(df2['E0']*1000, df2['Current'], df2['Error'], marker='.', ls='-', label=f\"$U_C = {0.01*1000}$ mV\")\n",
    "    ax.errorbar(df3['E0']*1000, df3['Current'], df3['Error'], marker='.', ls='-', label=f\"$U_C = {0.03*1000}$ mV\")\n",
    "    ax.errorbar(df4['E0']*1000, df4['Current'], df4['Error'], marker='.', ls='-', label=f\"$U_C = {0.04*1000}$ mV\")\n",
    "    ax.legend()\n",
    "    ax.set_xlabel(\"$U_I$ [mV]\")\n",
    "    ax.set_ylabel(\"$I_O$ [pA]\")\n",
    "    fig.savefig(\"plots/iv_curves_1.pdf\", bbox_inches='tight', transparent=True)"
   ]
  },
  {
   "cell_type": "code",
   "execution_count": 87,
   "metadata": {},
   "outputs": [
    {
     "data": {
      "image/png": "[encoded data removed]",
      "text/plain": [
       "<Figure size 350x262.5 with 1 Axes>"
      ]
     },
     "metadata": {},
     "output_type": "display_data"
    }
   ],
   "source": [
    "df1 = results_2[results_2['E1']==0.0].sort_values(by='E0')\n",
    "df2 = results_2[results_2['E1']==0.01].sort_values(by='E0')\n",
    "df3 = results_2[results_2['E1']==0.03].sort_values(by='E0')\n",
    "df4 = results_2[results_2['E1']==0.04].sort_values(by='E0')\n",
    "\n",
    "with plt.style.context([\"science\",\"bright\",\"grid\"]):\n",
    "\n",
    "    fig = plt.figure()\n",
    "    ax  = fig.add_subplot()\n",
    "    ax.errorbar(df1['E0']*1000, df1['Current'], df1['Error'], marker='.', ls='-', label=f\"$U_C = {0.0*1000}$ mV\")\n",
    "    ax.errorbar(df2['E0']*1000, df2['Current'], df2['Error'], marker='.', ls='-', label=f\"$U_C = {0.01*1000}$ mV\")\n",
    "    ax.errorbar(df3['E0']*1000, df3['Current'], df3['Error'], marker='.', ls='-', label=f\"$U_C = {0.03*1000}$ mV\")\n",
    "    ax.errorbar(df4['E0']*1000, df4['Current'], df4['Error'], marker='.', ls='-', label=f\"$U_C = {0.04*1000}$ mV\")\n",
    "    ax.legend()\n",
    "    ax.set_xlabel(\"$U_I$ [mV]\")\n",
    "    ax.set_ylabel(\"$I_O$ [pA]\")\n",
    "    fig.savefig(\"plots/iv_curves_2.pdf\", bbox_inches='tight', transparent=True)"
   ]
  },
  {
   "cell_type": "code",
   "execution_count": 88,
   "metadata": {},
   "outputs": [],
   "source": [
    "# results_3   = pd.read_csv(\"data/c_Nx=5_Ny=1_Nz=1_Ne=3_0.csv\")\n",
    "# results_3   = results_3[results_3['Error'] != 0]\n",
    "\n",
    "# results_4   = pd.read_csv(\"data/c_Nx=5_Ny=1_Nz=1_Ne=3_1.csv\")\n",
    "# results_4   = results_4[results_4['Error'] != 0]"
   ]
  },
  {
   "cell_type": "code",
   "execution_count": 89,
   "metadata": {},
   "outputs": [],
   "source": [
    "# df1 = results_3[results_3['E0']==0.0].sort_values(by='E1')\n",
    "# df2 = results_3[results_3['E0']==0.01].sort_values(by='E1')\n",
    "# df3 = results_3[results_3['E0']==0.03].sort_values(by='E1')\n",
    "\n",
    "# with plt.style.context([\"science\",\"bright\",\"grid\"]):\n",
    "\n",
    "#     fig = plt.figure()\n",
    "#     ax  = fig.add_subplot()\n",
    "#     ax.errorbar(df1['E1']*1000, df1['Current'], df1['Error'], marker='.', ls='-', label=f\"$U_C = {0.0*1000}$ mV\")\n",
    "#     ax.errorbar(df2['E1']*1000, df2['Current'], df2['Error'], marker='.', ls='-', label=f\"$U_C = {0.01*1000}$ mV\")\n",
    "#     ax.errorbar(df3['E1']*1000, df3['Current'], df3['Error'], marker='.', ls='-', label=f\"$U_C = {0.03*1000}$ mV\")\n",
    "#     ax.legend()\n",
    "#     ax.set_xlabel(\"$U_I$ [mV]\")\n",
    "#     ax.set_ylabel(\"$I_O$ [pA]\")\n",
    "#     fig.savefig(\"plots/iv_curves_3.pdf\", bbox_inches='tight', transparent=True)"
   ]
  },
  {
   "cell_type": "code",
   "execution_count": 90,
   "metadata": {},
   "outputs": [],
   "source": [
    "# df1 = results_4[results_4['E0']==0.0].sort_values(by='E1')\n",
    "# df2 = results_4[results_4['E0']==0.01].sort_values(by='E1')\n",
    "# df3 = results_4[results_4['E0']==0.03].sort_values(by='E1')\n",
    "\n",
    "# with plt.style.context([\"science\",\"bright\",\"grid\"]):\n",
    "\n",
    "#     fig = plt.figure()\n",
    "#     ax  = fig.add_subplot()\n",
    "#     ax.errorbar(df1['E1']*1000, df1['Current'], df1['Error'], marker='.', ls='-', label=f\"$U_C = {0.0*1000}$ mV\")\n",
    "#     ax.errorbar(df2['E1']*1000, df2['Current'], df2['Error'], marker='.', ls='-', label=f\"$U_C = {0.01*1000}$ mV\")\n",
    "#     ax.errorbar(df3['E1']*1000, df3['Current'], df3['Error'], marker='.', ls='-', label=f\"$U_C = {0.03*1000}$ mV\")\n",
    "#     ax.legend()\n",
    "#     ax.set_xlabel(\"$U_I$ [mV]\")\n",
    "#     ax.set_ylabel(\"$I_O$ [pA]\")\n",
    "#     fig.savefig(\"plots/iv_curves_4.pdf\", bbox_inches='tight', transparent=True)"
   ]
  }
 ],
 "metadata": {
  "kernelspec": {
   "display_name": "Python 3",
   "language": "python",
   "name": "python3"
  },
  "language_info": {
   "codemirror_mode": {
    "name": "ipython",
    "version": 3
   },
   "file_extension": ".py",
   "mimetype": "text/x-python",
   "name": "python",
   "nbconvert_exporter": "python",
   "pygments_lexer": "ipython3",
   "version": "3.10.12"
  }
 },
 "nbformat": 4,
 "nbformat_minor": 2
}
