{
 "cells": [
  {
   "cell_type": "code",
   "execution_count": 1,
   "metadata": {},
   "outputs": [],
   "source": [
    "# Libraries\n",
    "import numpy as np\n",
    "import pandas as pd\n",
    "import matplotlib.pyplot as plt\n",
    "%matplotlib inline\n",
    "\n",
    "# Extend PATH Variable\n",
    "import sys\n",
    "sys.path.append(\"../../../src/\")\n",
    "\n",
    "# NanoNets Simulation Tool\n",
    "import nanonets\n",
    "import nanonets_utils"
   ]
  },
  {
   "cell_type": "markdown",
   "metadata": {},
   "source": [
    "#### String of N Nanoparticles"
   ]
  },
  {
   "cell_type": "code",
   "execution_count": 2,
   "metadata": {},
   "outputs": [],
   "source": [
    "N_particles         = 3\n",
    "network_topology    = \"cubic\"\n",
    "topology_parameter  = {\n",
    "    \"Nx\"    : N_particles,\n",
    "    \"Ny\"    : 1,\n",
    "    \"Nz\"    : 1,\n",
    "    \"e_pos\" : [[0,0,0],[int((N_particles-1)/2),0,0],[N_particles-1,0,0]]\n",
    "}\n",
    "\n",
    "np_network_sim = nanonets.simulation(network_topology=network_topology, topology_parameter=topology_parameter)"
   ]
  },
  {
   "cell_type": "code",
   "execution_count": 3,
   "metadata": {},
   "outputs": [
    {
     "data": {
      "image/png": "[encoded data removed]",
      "text/plain": [
       "<Figure size 350x105 with 1 Axes>"
      ]
     },
     "metadata": {},
     "output_type": "display_data"
    }
   ],
   "source": [
    "fig, ax = nanonets_utils.display_network(np_network_sim, height_scale=0.4, provide_electrode_labels=['I','C','O'],\n",
    "                                         font_size=30, save_to_path='plots/network.pdf', margins=[0,0.2])"
   ]
  },
  {
   "cell_type": "markdown",
   "metadata": {},
   "source": [
    "#### Electrode Voltages"
   ]
  },
  {
   "cell_type": "code",
   "execution_count": 4,
   "metadata": {},
   "outputs": [
    {
     "data": {
      "text/plain": [
       "array([[-0.1      ,  0.       ,  0.       ,  0.       ],\n",
       "       [-0.0997998,  0.       ,  0.       ,  0.       ],\n",
       "       [-0.0995996,  0.       ,  0.       ,  0.       ],\n",
       "       ...,\n",
       "       [ 0.0995996,  0.05     ,  0.       ,  0.       ],\n",
       "       [ 0.0997998,  0.05     ,  0.       ,  0.       ],\n",
       "       [ 0.1      ,  0.05     ,  0.       ,  0.       ]])"
      ]
     },
     "execution_count": 4,
     "metadata": {},
     "output_type": "execute_result"
    }
   ],
   "source": [
    "N_voltages      = 1000\n",
    "voltages        = np.zeros(shape=(N_voltages,np_network_sim.N_electrodes+1))\n",
    "voltages[:,0]   = np.linspace(-0.1,0.1,N_voltages)\n",
    "voltages        = np.vstack((voltages,voltages))\n",
    "voltages        = np.vstack((voltages,voltages))\n",
    "\n",
    "voltages[N_voltages:2*N_voltages,1] = 0.01\n",
    "voltages[2*N_voltages:,1]           = 0.05\n",
    "voltages"
   ]
  },
  {
   "cell_type": "markdown",
   "metadata": {},
   "source": [
    "#### Run Simulation"
   ]
  },
  {
   "cell_type": "code",
   "execution_count": 5,
   "metadata": {},
   "outputs": [],
   "source": [
    "np_network_sim.run_const_voltages(voltages=voltages, target_electrode=2, save_th=0.1)"
   ]
  },
  {
   "cell_type": "code",
   "execution_count": 6,
   "metadata": {},
   "outputs": [
    {
     "data": {
      "text/html": [
       "<div>\n",
       "<style scoped>\n",
       "    .dataframe tbody tr th:only-of-type {\n",
       "        vertical-align: middle;\n",
       "    }\n",
       "\n",
       "    .dataframe tbody tr th {\n",
       "        vertical-align: top;\n",
       "    }\n",
       "\n",
       "    .dataframe thead th {\n",
       "        text-align: right;\n",
       "    }\n",
       "</style>\n",
       "<table border=\"1\" class=\"dataframe\">\n",
       "  <thead>\n",
       "    <tr style=\"text-align: right;\">\n",
       "      <th></th>\n",
       "      <th>I</th>\n",
       "      <th>C</th>\n",
       "      <th>O</th>\n",
       "      <th>G</th>\n",
       "      <th>JumpsEq</th>\n",
       "      <th>Jumps</th>\n",
       "      <th>Current</th>\n",
       "      <th>Error</th>\n",
       "    </tr>\n",
       "  </thead>\n",
       "  <tbody>\n",
       "    <tr>\n",
       "      <th>0</th>\n",
       "      <td>-0.100000</td>\n",
       "      <td>0.00</td>\n",
       "      <td>0.0</td>\n",
       "      <td>0.0</td>\n",
       "      <td>1020.0</td>\n",
       "      <td>307.0</td>\n",
       "      <td>-1248.906000</td>\n",
       "      <td>61.357357</td>\n",
       "    </tr>\n",
       "    <tr>\n",
       "      <th>1</th>\n",
       "      <td>-0.099800</td>\n",
       "      <td>0.00</td>\n",
       "      <td>0.0</td>\n",
       "      <td>0.0</td>\n",
       "      <td>1020.0</td>\n",
       "      <td>409.0</td>\n",
       "      <td>-1289.401134</td>\n",
       "      <td>63.812797</td>\n",
       "    </tr>\n",
       "    <tr>\n",
       "      <th>2</th>\n",
       "      <td>-0.099600</td>\n",
       "      <td>0.00</td>\n",
       "      <td>0.0</td>\n",
       "      <td>0.0</td>\n",
       "      <td>1020.0</td>\n",
       "      <td>369.0</td>\n",
       "      <td>-1627.913357</td>\n",
       "      <td>80.813959</td>\n",
       "    </tr>\n",
       "    <tr>\n",
       "      <th>3</th>\n",
       "      <td>-0.099399</td>\n",
       "      <td>0.00</td>\n",
       "      <td>0.0</td>\n",
       "      <td>0.0</td>\n",
       "      <td>1020.0</td>\n",
       "      <td>319.0</td>\n",
       "      <td>-1557.067034</td>\n",
       "      <td>76.176779</td>\n",
       "    </tr>\n",
       "    <tr>\n",
       "      <th>4</th>\n",
       "      <td>-0.099199</td>\n",
       "      <td>0.00</td>\n",
       "      <td>0.0</td>\n",
       "      <td>0.0</td>\n",
       "      <td>1020.0</td>\n",
       "      <td>400.0</td>\n",
       "      <td>-1177.268112</td>\n",
       "      <td>57.701958</td>\n",
       "    </tr>\n",
       "    <tr>\n",
       "      <th>...</th>\n",
       "      <td>...</td>\n",
       "      <td>...</td>\n",
       "      <td>...</td>\n",
       "      <td>...</td>\n",
       "      <td>...</td>\n",
       "      <td>...</td>\n",
       "      <td>...</td>\n",
       "      <td>...</td>\n",
       "    </tr>\n",
       "    <tr>\n",
       "      <th>3994</th>\n",
       "      <td>0.098999</td>\n",
       "      <td>0.05</td>\n",
       "      <td>0.0</td>\n",
       "      <td>0.0</td>\n",
       "      <td>1020.0</td>\n",
       "      <td>133.0</td>\n",
       "      <td>2706.110430</td>\n",
       "      <td>132.597870</td>\n",
       "    </tr>\n",
       "    <tr>\n",
       "      <th>3995</th>\n",
       "      <td>0.099199</td>\n",
       "      <td>0.05</td>\n",
       "      <td>0.0</td>\n",
       "      <td>0.0</td>\n",
       "      <td>1020.0</td>\n",
       "      <td>128.0</td>\n",
       "      <td>2928.879022</td>\n",
       "      <td>145.647675</td>\n",
       "    </tr>\n",
       "    <tr>\n",
       "      <th>3996</th>\n",
       "      <td>0.099399</td>\n",
       "      <td>0.05</td>\n",
       "      <td>0.0</td>\n",
       "      <td>0.0</td>\n",
       "      <td>1020.0</td>\n",
       "      <td>119.0</td>\n",
       "      <td>2741.762874</td>\n",
       "      <td>136.320855</td>\n",
       "    </tr>\n",
       "    <tr>\n",
       "      <th>3997</th>\n",
       "      <td>0.099600</td>\n",
       "      <td>0.05</td>\n",
       "      <td>0.0</td>\n",
       "      <td>0.0</td>\n",
       "      <td>1020.0</td>\n",
       "      <td>122.0</td>\n",
       "      <td>2784.694171</td>\n",
       "      <td>137.040052</td>\n",
       "    </tr>\n",
       "    <tr>\n",
       "      <th>3998</th>\n",
       "      <td>0.099800</td>\n",
       "      <td>0.05</td>\n",
       "      <td>0.0</td>\n",
       "      <td>0.0</td>\n",
       "      <td>1020.0</td>\n",
       "      <td>122.0</td>\n",
       "      <td>2456.474956</td>\n",
       "      <td>120.766446</td>\n",
       "    </tr>\n",
       "  </tbody>\n",
       "</table>\n",
       "<p>3266 rows × 8 columns</p>\n",
       "</div>"
      ],
      "text/plain": [
       "             I     C    O    G  JumpsEq  Jumps      Current       Error\n",
       "0    -0.100000  0.00  0.0  0.0   1020.0  307.0 -1248.906000   61.357357\n",
       "1    -0.099800  0.00  0.0  0.0   1020.0  409.0 -1289.401134   63.812797\n",
       "2    -0.099600  0.00  0.0  0.0   1020.0  369.0 -1627.913357   80.813959\n",
       "3    -0.099399  0.00  0.0  0.0   1020.0  319.0 -1557.067034   76.176779\n",
       "4    -0.099199  0.00  0.0  0.0   1020.0  400.0 -1177.268112   57.701958\n",
       "...        ...   ...  ...  ...      ...    ...          ...         ...\n",
       "3994  0.098999  0.05  0.0  0.0   1020.0  133.0  2706.110430  132.597870\n",
       "3995  0.099199  0.05  0.0  0.0   1020.0  128.0  2928.879022  145.647675\n",
       "3996  0.099399  0.05  0.0  0.0   1020.0  119.0  2741.762874  136.320855\n",
       "3997  0.099600  0.05  0.0  0.0   1020.0  122.0  2784.694171  137.040052\n",
       "3998  0.099800  0.05  0.0  0.0   1020.0  122.0  2456.474956  120.766446\n",
       "\n",
       "[3266 rows x 8 columns]"
      ]
     },
     "execution_count": 6,
     "metadata": {},
     "output_type": "execute_result"
    }
   ],
   "source": [
    "results = pd.DataFrame(np.hstack((voltages,np_network_sim.return_output_values())), columns=['I','C','O','G','JumpsEq','Jumps','Current','Error'])\n",
    "results = results[results['Error'] != 0]\n",
    "results"
   ]
  },
  {
   "cell_type": "markdown",
   "metadata": {},
   "source": [
    "#### Display"
   ]
  },
  {
   "cell_type": "code",
   "execution_count": 8,
   "metadata": {},
   "outputs": [
    {
     "data": {
      "image/png": "[encoded data removed]",
      "text/plain": [
       "<Figure size 350x262.5 with 1 Axes>"
      ]
     },
     "metadata": {},
     "output_type": "display_data"
    }
   ],
   "source": [
    "df1 = results[results['C']==0.0].sort_values(by='I')\n",
    "df2 = results[results['C']==0.01].sort_values(by='I')\n",
    "df3 = results[results['C']==0.05].sort_values(by='I')\n",
    "\n",
    "with plt.style.context([\"science\",\"bright\",\"grid\"]):\n",
    "\n",
    "    fig = plt.figure()\n",
    "    ax  = fig.add_subplot()\n",
    "    ax.errorbar(df1['I']*1000, df1['Current'], df1['Error'], marker='.', ls='-', label=f\"$U_C = {0.0*1000}$ mV\")\n",
    "    ax.errorbar(df2['I']*1000, df2['Current'], df2['Error'], marker='.', ls='-', label=f\"$U_C = {0.01*1000}$ mV\")\n",
    "    ax.errorbar(df3['I']*1000, df3['Current'], df3['Error'], marker='.', ls='-', label=f\"$U_C = {0.05*1000}$ mV\")\n",
    "    ax.legend()\n",
    "    ax.set_xlabel(\"$U_I$ [mV]\")\n",
    "    ax.set_ylabel(\"$I_O$ [pA]\")\n",
    "    fig.savefig(\"plots/iv_curves.pdf\", bbox_inches='tight', transparent=True)"
   ]
  }
 ],
 "metadata": {
  "kernelspec": {
   "display_name": "Python 3",
   "language": "python",
   "name": "python3"
  },
  "language_info": {
   "codemirror_mode": {
    "name": "ipython",
    "version": 3
   },
   "file_extension": ".py",
   "mimetype": "text/x-python",
   "name": "python",
   "nbconvert_exporter": "python",
   "pygments_lexer": "ipython3",
   "version": "3.10.12"
  }
 },
 "nbformat": 4,
 "nbformat_minor": 2
}
