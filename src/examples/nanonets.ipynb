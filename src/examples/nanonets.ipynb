{
 "cells": [
  {
   "cell_type": "code",
   "execution_count": 1,
   "id": "b821eee2",
   "metadata": {},
   "outputs": [
    {
     "name": "stderr",
     "output_type": "stream",
     "text": [
      "/home/jonasmensing/.local/lib/python3.10/site-packages/matplotlib/projections/__init__.py:63: UserWarning: Unable to import Axes3D. This may be due to multiple versions of Matplotlib being installed (e.g. as a system package and as a pip package). As a result, the 3D projection is not available.\n",
      "  warnings.warn(\"Unable to import Axes3D. This may be due to multiple versions of \"\n"
     ]
    }
   ],
   "source": [
    "import numpy as np\n",
    "import matplotlib.pyplot as plt\n",
    "import scienceplots\n",
    "import sys\n",
    "sys.path.append(\"../\")\n",
    "import nanonets\n",
    "plt.style.use([\"science\",\"bright\",\"grid\"])"
   ]
  },
  {
   "cell_type": "code",
   "execution_count": 2,
   "id": "26f0e6fa",
   "metadata": {},
   "outputs": [],
   "source": [
    "# Topology\n",
    "N_x, N_y            = 5,5\n",
    "N_particles         = N_x*N_y\n",
    "topology_parameter  = {\n",
    "    \"Nx\"                : N_x,\n",
    "    \"Ny\"                : N_y,\n",
    "    \"e_pos\"             : [[0,0],[N_x-1,N_y-1]],\n",
    "    \"electrode_type\"    : ['constant','constant']\n",
    "}\n",
    "\n",
    "# Voltages\n",
    "N_voltages  = 51\n",
    "N_electrode = len(topology_parameter[\"e_pos\"])\n",
    "input_volt  = np.linspace(-0.1,0.1,51)\n",
    "volt        = np.zeros(shape=(N_voltages,N_electrode+1))\n",
    "volt[:,0]   = input_volt"
   ]
  },
  {
   "cell_type": "code",
   "execution_count": null,
   "id": "eda6af7e",
   "metadata": {},
   "outputs": [],
   "source": [
    "# Run static simulation\n",
    "sim_class = nanonets.Simulation(topology_parameter)\n",
    "sim_class.run_static_voltages(voltages=volt, target_electrode=(N_electrode-1))"
   ]
  },
  {
   "cell_type": "code",
   "execution_count": 4,
   "id": "b6ae714e",
   "metadata": {},
   "outputs": [],
   "source": [
    "y       = sim_class.get_observable_storage()\n",
    "y_e     = sim_class.get_observable_error_storage()\n",
    "pot     = sim_class.get_potential_storage()\n",
    "i_net   = sim_class.get_network_current_storage()"
   ]
  },
  {
   "cell_type": "code",
   "execution_count": 7,
   "id": "65ed7f07",
   "metadata": {},
   "outputs": [
    {
     "data": {
      "text/plain": [
       "array([-5.78389459e+08, -5.29912934e+08, -4.95874023e+08, -4.72338149e+08,\n",
       "       -4.39643410e+08, -4.09540506e+08, -3.77395894e+08, -3.50728117e+08,\n",
       "       -3.18671344e+08, -2.89690506e+08, -2.61518438e+08, -2.23860284e+08,\n",
       "       -2.03614430e+08, -1.78531033e+08, -1.55402599e+08, -1.28260774e+08,\n",
       "       -1.07729031e+08, -9.05235385e+07, -7.67798035e+07, -6.06266843e+07,\n",
       "       -4.14225030e+07, -3.12058569e+07, -2.22734622e+07, -7.61588659e+06,\n",
       "       -6.60914085e+05, -4.60094144e+01,  7.10305844e+05,  7.72626864e+06,\n",
       "        2.18560134e+07,  3.20771890e+07,  4.16018204e+07,  5.85933756e+07,\n",
       "        7.58278738e+07,  9.09400962e+07,  1.05136689e+08,  1.29186728e+08,\n",
       "        1.56653117e+08,  1.74944973e+08,  2.03312941e+08,  2.29061240e+08,\n",
       "        2.61502203e+08,  2.86938819e+08,  3.11252490e+08,  3.38805563e+08,\n",
       "        3.71276481e+08,  3.91435520e+08,  4.26822847e+08,  4.59643621e+08,\n",
       "        4.88530884e+08,  5.19856062e+08,  5.73295809e+08])"
      ]
     },
     "execution_count": 7,
     "metadata": {},
     "output_type": "execute_result"
    }
   ],
   "source": [
    "y"
   ]
  }
 ],
 "metadata": {
  "kernelspec": {
   "display_name": "Python 3",
   "language": "python",
   "name": "python3"
  },
  "language_info": {
   "codemirror_mode": {
    "name": "ipython",
    "version": 3
   },
   "file_extension": ".py",
   "mimetype": "text/x-python",
   "name": "python",
   "nbconvert_exporter": "python",
   "pygments_lexer": "ipython3",
   "version": "3.10.12"
  }
 },
 "nbformat": 4,
 "nbformat_minor": 5
}
