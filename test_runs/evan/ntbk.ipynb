{
 "cells": [
  {
   "cell_type": "code",
   "execution_count": 51,
   "metadata": {},
   "outputs": [],
   "source": [
    "import pandas as pd\n",
    "import numpy as np\n",
    "import matplotlib.pyplot as plt"
   ]
  },
  {
   "cell_type": "code",
   "execution_count": 52,
   "metadata": {},
   "outputs": [
    {
     "data": {
      "text/plain": [
       "array([9.96447833e+10, 4.49515452e+10, 5.21381105e+10, 9.46430564e+10,\n",
       "       1.88382875e+11, 2.54459237e+11, 4.52499201e+11, 1.90037710e+13])"
      ]
     },
     "execution_count": 52,
     "metadata": {},
     "output_type": "execute_result"
    }
   ],
   "source": [
    "df = pd.DataFrame()\n",
    "for i in range(10):\n",
    "    df[i]   = pd.read_csv(f\"new/_times_e_0.05_{i}.csv\", header=None)\n",
    "sums = df.sum(axis=1).values\n",
    "sums"
   ]
  },
  {
   "cell_type": "code",
   "execution_count": 53,
   "metadata": {},
   "outputs": [
    {
     "data": {
      "text/plain": [
       "array([169, 173, 183, 186, 185, 191, 190, 195])"
      ]
     },
     "execution_count": 53,
     "metadata": {},
     "output_type": "execute_result"
    }
   ],
   "source": [
    "volts = []\n",
    "for N in range(3,11):\n",
    "    dff = pd.read_csv(f\"new/Nx={N}_Ny={N}_Nz=1_Ne=4.csv\")\n",
    "    dff = dff[(dff['Jumps'] < 10000000) & (dff['Jumps'] > 1000)]\n",
    "    Nvs = len(dff)\n",
    "    volts.append(Nvs)\n",
    "volts = np.array(volts)\n",
    "volts"
   ]
  },
  {
   "cell_type": "code",
   "execution_count": 72,
   "metadata": {},
   "outputs": [
    {
     "data": {
      "text/plain": [
       "count       200.000000\n",
       "mean      12763.970815\n",
       "std       50294.211336\n",
       "min           0.054604\n",
       "25%           3.603770\n",
       "50%           9.402727\n",
       "75%          20.845632\n",
       "max      573340.000000\n",
       "dtype: float64"
      ]
     },
     "execution_count": 72,
     "metadata": {},
     "output_type": "execute_result"
    },
    {
     "ename": "",
     "evalue": "",
     "output_type": "error",
     "traceback": [
      "\u001b[1;31mThe Kernel crashed while executing code in the the current cell or a previous cell. Please review the code in the cell(s) to identify a possible cause of the failure. Click <a href='https://aka.ms/vscodeJupyterKernelCrash'>here</a> for more info. View Jupyter <a href='command:jupyter.viewOutput'>log</a> for further details."
     ]
    }
   ],
   "source": [
    "N       = 4\n",
    "test    = pd.read_csv(f\"new/Nx={N}_Ny={N}_Nz=1_Ne=4.csv\")\n",
    "(test['Eq_Jumps']/test['Jumps']).describe()"
   ]
  },
  {
   "cell_type": "code",
   "execution_count": 58,
   "metadata": {},
   "outputs": [],
   "source": [
    "means = 10**(-9)*sums/volts"
   ]
  },
  {
   "cell_type": "code",
   "execution_count": 59,
   "metadata": {},
   "outputs": [
    {
     "data": {
      "text/plain": [
       "<ErrorbarContainer object of 3 artists>"
      ]
     },
     "execution_count": 59,
     "metadata": {},
     "output_type": "execute_result"
    },
    {
     "data": {
      "image/png": "[encoded data removed]",
      "text/plain": [
       "<Figure size 640x480 with 1 Axes>"
      ]
     },
     "metadata": {},
     "output_type": "display_data"
    }
   ],
   "source": [
    "plt.errorbar(x=[i*i for i in range(3,10)], y=means[:-1], yerr=0)"
   ]
  },
  {
   "cell_type": "code",
   "execution_count": 8,
   "metadata": {},
   "outputs": [
    {
     "data": {
      "text/plain": [
       "count    175.000000\n",
       "mean       0.099263\n",
       "std        0.095784\n",
       "min        0.001570\n",
       "25%        0.039618\n",
       "50%        0.074755\n",
       "75%        0.123359\n",
       "max        0.705826\n",
       "dtype: float64"
      ]
     },
     "execution_count": 8,
     "metadata": {},
     "output_type": "execute_result"
    }
   ],
   "source": [
    "N       = 7\n",
    "file    = f\"../Nx={N}_Ny={N}_Nz=1_Ne=4.csv\"\n",
    "df      = pd.read_csv(file)\n",
    "df      = df[df['Jumps'] > 1000].reset_index(drop=True)\n",
    "(df['Eq_Jumps']/df['Jumps']).describe()"
   ]
  },
  {
   "cell_type": "code",
   "execution_count": null,
   "metadata": {},
   "outputs": [],
   "source": []
  }
 ],
 "metadata": {
  "kernelspec": {
   "display_name": "Python 3",
   "language": "python",
   "name": "python3"
  },
  "language_info": {
   "codemirror_mode": {
    "name": "ipython",
    "version": 3
   },
   "file_extension": ".py",
   "mimetype": "text/x-python",
   "name": "python",
   "nbconvert_exporter": "python",
   "pygments_lexer": "ipython3",
   "version": "3.10.6"
  },
  "orig_nbformat": 4
 },
 "nbformat": 4,
 "nbformat_minor": 2
}
