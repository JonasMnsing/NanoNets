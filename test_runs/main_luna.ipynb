{
 "cells": [
  {
   "cell_type": "code",
   "execution_count": 1,
   "metadata": {},
   "outputs": [],
   "source": [
    "# Libraries\n",
    "import numpy as np\n",
    "import pandas as pd\n",
    "import matplotlib.pyplot as plt\n",
    "import matplotlib.animation as animation\n",
    "from tqdm import tqdm\n",
    "%matplotlib inline\n",
    "\n",
    "# Extend PATH Variable\n",
    "import sys\n",
    "sys.path.append(\"src/\")\n",
    "\n",
    "# NanoNets Simulation Tool\n",
    "import nanonets\n",
    "import nanonets_utils\n",
    "\n",
    "# Plot Colors\n",
    "blue_color  = '#348ABD'\n",
    "red_color   = '#A60628'"
   ]
  },
  {
   "cell_type": "markdown",
   "metadata": {},
   "source": [
    "## Step 1:\n",
    "### Init Network Topology and Electrostatic Properties:\n",
    "- Network Topology either `\"cubic\"` or `\"random\"`\n",
    "- `topology_parameter` defines network parameter via the following keys\n",
    "- if `\"cubic\"`\n",
    "    - `\"Nx\"`    :   Number of Nanoparticles in x-direction\n",
    "    - `\"Ny\"`    :   Number of Nanoparticles in y-direction\n",
    "    - `\"Nz\"`    :   Number of Nanoparticles in z-direction\n",
    "    - `\"e_pos\"` :   Electrode positions as list of lists. Each element corresponds to nanoparticle position `[x,y,z]` which is attached to an electrode\n",
    "\n",
    "- if `\"random\"`\n",
    "    - `$N_{NP}$`    :   Number of Nanoparticles\n",
    "    - `$N_{J}$`     :   Number of Junctions per Nanoparticle\n",
    "    - `\"e_pos\"`     :   Electrode positions as list of lists. Each element corresponds to cartesian coordinates `[x,y]` of the specific electrode. Closest nanoparticle to this electrode will be attached to it\n",
    "\n",
    "- `np_info` defines electrostatic properies via nanoparticle properties\n",
    "    - `\"eps_r\"`         : relative permittivity of the insulating molecule\n",
    "    - `\"eps_s\"`         : relative permittivity of the insulating SiO2 layer\n",
    "    - `\"mean_radius\"`   : average nanoparticle radius [nm]\n",
    "    - `\"std_radius\"`    : standard deviation nanopartcile radius [nm]  \n",
    "    - `\"np_distance\"`   : spacing in between nanoparticles"
   ]
  },
  {
   "cell_type": "code",
   "execution_count": 3,
   "metadata": {},
   "outputs": [
    {
     "data": {
      "image/png": "[encoded data removed]",
      "text/plain": [
       "<Figure size 350x262.5 with 1 Axes>"
      ]
     },
     "metadata": {},
     "output_type": "display_data"
    }
   ],
   "source": [
    "# Example: Cubic Network\n",
    "network_topology = \"cubic\"\n",
    "\n",
    "# Network Parameter\n",
    "topology_parameter = {\n",
    "    \"Nx\"    : 2,\n",
    "    \"Ny\"    : 2,\n",
    "    \"Nz\"    : 1,\n",
    "    \"e_pos\" : [[0,0,0],[1,1,0]]\n",
    "}\n",
    "\n",
    "# Network Class Object\n",
    "np_network_cubic = nanonets.simulation(network_topology=network_topology, topology_parameter=topology_parameter)\n",
    "fig, ax = nanonets_utils.display_network(np_network_sim=np_network_cubic, node_size=150)"
   ]
  },
  {
   "cell_type": "code",
   "execution_count": 4,
   "metadata": {},
   "outputs": [],
   "source": [
    "def logisticFunc(self,x,start,end,turnpoint=0.0,smoothness=1.0):\n",
    "    \"\"\"\n",
    "    An inverse Sigmoid-Function\n",
    "    x: variable; start: value for -infinit, end: value for +infinit, \n",
    "    turnpoint: Value of the turning point, smoothness: steepness around the turning point\n",
    "    \"\"\"\n",
    "    yFactor = 1+np.exp((-1)*smoothness*turnpoint) #ensures that the function always has the value = start for x = 0\n",
    "    return yFactor*(start-end)/(1+np.exp(smoothness*(x-turnpoint))) + end"
   ]
  },
  {
   "cell_type": "code",
   "execution_count": null,
   "metadata": {},
   "outputs": [],
   "source": [
    "def bimodal_resistor(I_tilde, slope : float, shift : float, R_max : float, R_min : float):\n",
    "\n",
    "    return (R_max - R_min)*(-np.tanh(slope*(I_tilde - shift)) + 1)/2 + R_min"
   ]
  },
  {
   "cell_type": "code",
   "execution_count": 26,
   "metadata": {},
   "outputs": [
    {
     "data": {
      "text/plain": [
       "[<matplotlib.lines.Line2D at 0x703f26840cd0>]"
      ]
     },
     "execution_count": 26,
     "metadata": {},
     "output_type": "execute_result"
    },
    {
     "data": {
      "image/png": "[encoded data removed]",
      "text/plain": [
       "<Figure size 640x480 with 1 Axes>"
      ]
     },
     "metadata": {},
     "output_type": "display_data"
    }
   ],
   "source": [
    "R_max   = 50\n",
    "R_min   = 10\n",
    "slope   = 1\n",
    "offset  = 20\n",
    "\n",
    "x   = np.linspace(0,100,10000)\n",
    "y   = (R_max - R_min)*(-np.tanh(slope*(x - offset)) + 1)/2 + R_min\n",
    "\n",
    "plt.plot(x,y)"
   ]
  }
 ],
 "metadata": {
  "kernelspec": {
   "display_name": "Python 3",
   "language": "python",
   "name": "python3"
  },
  "language_info": {
   "codemirror_mode": {
    "name": "ipython",
    "version": 3
   },
   "file_extension": ".py",
   "mimetype": "text/x-python",
   "name": "python",
   "nbconvert_exporter": "python",
   "pygments_lexer": "ipython3",
   "version": "3.10.12"
  }
 },
 "nbformat": 4,
 "nbformat_minor": 2
}
