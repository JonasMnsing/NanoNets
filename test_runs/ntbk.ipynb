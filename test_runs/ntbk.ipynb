{
 "cells": [
  {
   "cell_type": "code",
   "execution_count": 2,
   "metadata": {},
   "outputs": [],
   "source": [
    "import pandas as pd\n",
    "import numpy as np\n",
    "import matplotlib.pyplot as plt"
   ]
  },
  {
   "cell_type": "code",
   "execution_count": 4,
   "metadata": {},
   "outputs": [],
   "source": [
    "A = np.random.randint(0,10, size=(5,5))"
   ]
  },
  {
   "cell_type": "code",
   "execution_count": 7,
   "metadata": {},
   "outputs": [
    {
     "data": {
      "text/plain": [
       "array([[8, 3, 6, 0, 0],\n",
       "       [6, 2, 4, 3, 2],\n",
       "       [9, 3, 6, 0, 8],\n",
       "       [7, 3, 4, 1, 0],\n",
       "       [1, 8, 4, 7, 1]])"
      ]
     },
     "execution_count": 7,
     "metadata": {},
     "output_type": "execute_result"
    }
   ],
   "source": [
    "A"
   ]
  },
  {
   "cell_type": "code",
   "execution_count": 8,
   "metadata": {},
   "outputs": [
    {
     "data": {
      "text/plain": [
       "array([ 3,  2,  3,  1, -4])"
      ]
     },
     "execution_count": 8,
     "metadata": {},
     "output_type": "execute_result"
    }
   ],
   "source": [
    "A[:,2]-A[:,1]"
   ]
  },
  {
   "cell_type": "code",
   "execution_count": 18,
   "metadata": {},
   "outputs": [],
   "source": [
    "df = pd.DataFrame()\n",
    "for i in range(10):\n",
    "    df[i]   = pd.read_csv(f\"test/times_e_0.05_{i}.csv\", header=None)\n",
    "sums1 = df.sum(axis=1).values\n",
    "\n",
    "df = pd.DataFrame()\n",
    "for i in range(10):\n",
    "    df[i]   = pd.read_csv(f\"test2/times_e_0.05_{i}.csv\", header=None)\n",
    "sums2 = df.sum(axis=1).values"
   ]
  },
  {
   "cell_type": "code",
   "execution_count": 19,
   "metadata": {},
   "outputs": [],
   "source": [
    "volts = []\n",
    "for N in range(3,10):\n",
    "    dff = pd.read_csv(f\"test/Nx={N}_Ny={N}_Nz=1_Ne=4.csv\")\n",
    "    dff = dff[(dff['Jumps'] < 10000000) & (dff['Jumps'] > 1000)]\n",
    "    Nvs = len(dff)\n",
    "    volts.append(Nvs)\n",
    "volts1 = np.array(volts)\n",
    "\n",
    "volts = []\n",
    "for N in range(3,10):\n",
    "    dff = pd.read_csv(f\"test2/Nx={N}_Ny={N}_Nz=1_Ne=4.csv\")\n",
    "    dff = dff[(dff['Jumps'] < 10000000) & (dff['Jumps'] > 1000)]\n",
    "    Nvs = len(dff)\n",
    "    volts.append(Nvs)\n",
    "volts2 = np.array(volts)"
   ]
  },
  {
   "cell_type": "code",
   "execution_count": 20,
   "metadata": {},
   "outputs": [],
   "source": [
    "means1 = 10**(-9)*sums1/volts1\n",
    "means2 = 10**(-9)*sums2/volts2"
   ]
  },
  {
   "cell_type": "code",
   "execution_count": 39,
   "metadata": {},
   "outputs": [],
   "source": [
    "def get_njunctions(N):\n",
    "\n",
    "    return 4*N*(N-1)\n",
    "\n",
    "xvals = np.array([i*i for i in range(3,10)])\n",
    "# xvals = get_njunctions(xvals)"
   ]
  },
  {
   "cell_type": "code",
   "execution_count": 40,
   "metadata": {},
   "outputs": [
    {
     "data": {
      "text/plain": [
       "<ErrorbarContainer object of 3 artists>"
      ]
     },
     "execution_count": 40,
     "metadata": {},
     "output_type": "execute_result"
    },
    {
     "data": {
      "image/png": "[encoded data removed]",
      "text/plain": [
       "<Figure size 640x480 with 1 Axes>"
      ]
     },
     "metadata": {},
     "output_type": "display_data"
    },
    {
     "ename": "",
     "evalue": "",
     "output_type": "error",
     "traceback": [
      "\u001b[1;31mThe Kernel crashed while executing code in the the current cell or a previous cell. Please review the code in the cell(s) to identify a possible cause of the failure. Click <a href='https://aka.ms/vscodeJupyterKernelCrash'>here</a> for more info. View Jupyter <a href='command:jupyter.viewOutput'>log</a> for further details."
     ]
    }
   ],
   "source": [
    "plt.errorbar(x=xvals, y=means1, yerr=0, fmt='o-')\n",
    "plt.errorbar(x=xvals, y=means2, yerr=0, fmt='s-', label='')"
   ]
  },
  {
   "cell_type": "code",
   "execution_count": 1,
   "metadata": {},
   "outputs": [
    {
     "ename": "NameError",
     "evalue": "name 'np' is not defined",
     "output_type": "error",
     "traceback": [
      "\u001b[0;31m---------------------------------------------------------------------------\u001b[0m",
      "\u001b[0;31mNameError\u001b[0m                                 Traceback (most recent call last)",
      "\u001b[1;32m/home/jonas/phd/NanoNets/test_runs/ntbk.ipynb Cell 7\u001b[0m in \u001b[0;36m1\n\u001b[0;32m----> <a href='vscode-notebook-cell:/home/jonas/phd/NanoNets/test_runs/ntbk.ipynb#X16sZmlsZQ%3D%3D?line=0'>1</a>\u001b[0m np\u001b[39m.\u001b[39mrandom\u001b[39m.\u001b[39mrandint(\u001b[39m0\u001b[39m,\u001b[39m10\u001b[39m, size\u001b[39m=\u001b[39m(\u001b[39m5\u001b[39m,\u001b[39m5\u001b[39m))\n",
      "\u001b[0;31mNameError\u001b[0m: name 'np' is not defined"
     ]
    }
   ],
   "source": [
    "np.random.randint(0,10, size=(5,5))"
   ]
  },
  {
   "cell_type": "code",
   "execution_count": 8,
   "metadata": {},
   "outputs": [
    {
     "data": {
      "text/plain": [
       "count    175.000000\n",
       "mean       0.099263\n",
       "std        0.095784\n",
       "min        0.001570\n",
       "25%        0.039618\n",
       "50%        0.074755\n",
       "75%        0.123359\n",
       "max        0.705826\n",
       "dtype: float64"
      ]
     },
     "execution_count": 8,
     "metadata": {},
     "output_type": "execute_result"
    }
   ],
   "source": [
    "N       = 7\n",
    "file    = f\"../Nx={N}_Ny={N}_Nz=1_Ne=4.csv\"\n",
    "df      = pd.read_csv(file)\n",
    "df      = df[df['Jumps'] > 1000].reset_index(drop=True)\n",
    "(df['Eq_Jumps']/df['Jumps']).describe()"
   ]
  },
  {
   "cell_type": "code",
   "execution_count": null,
   "metadata": {},
   "outputs": [],
   "source": []
  }
 ],
 "metadata": {
  "kernelspec": {
   "display_name": "Python 3",
   "language": "python",
   "name": "python3"
  },
  "language_info": {
   "codemirror_mode": {
    "name": "ipython",
    "version": 3
   },
   "file_extension": ".py",
   "mimetype": "text/x-python",
   "name": "python",
   "nbconvert_exporter": "python",
   "pygments_lexer": "ipython3",
   "version": "3.10.6"
  },
  "orig_nbformat": 4
 },
 "nbformat": 4,
 "nbformat_minor": 2
}
