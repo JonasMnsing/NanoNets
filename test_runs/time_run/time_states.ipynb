{
 "cells": [
  {
   "cell_type": "code",
   "execution_count": null,
   "metadata": {},
   "outputs": [],
   "source": [
    "import pandas as pd\n",
    "import matplotlib.pyplot as plt\n",
    "import numpy as np\n",
    "import networkx as nx\n",
    "import scienceplots\n",
    "import seaborn as sns\n",
    "import matplotlib.animation as animation\n",
    "from scipy.fft import fft, rfft, fftfreq, rfftfreq\n",
    "from scipy import signal\n",
    "from scipy.interpolate import interp1d\n",
    "\n",
    "def get_pos(N, N_e=8):\n",
    "\n",
    "    pos     = {}\n",
    "    node    = N_e\n",
    "\n",
    "    for y in range(N):\n",
    "        for x in range(N):\n",
    "\n",
    "            pos[node]   = (x,y)\n",
    "            node        += 1\n",
    "\n",
    "    pos[0] = (-1,-1)\n",
    "    if N % 2 != 0:\n",
    "        pos[1] = (int(N/2),-1)\n",
    "    else:\n",
    "        pos[1] = (int(N/2)-1,-1)\n",
    "    pos[2] = (N,-1)\n",
    "    if N % 2 != 0:\n",
    "        pos[3] = (-1,int(N/2))\n",
    "    else:\n",
    "        pos[3] = (-1,int(N/2)-1)\n",
    "    pos[4] = (-1,N)\n",
    "    pos[5] = (N,int(N/2))\n",
    "    pos[6] = (int(N/2),N)\n",
    "    pos[7] = (N,N)\n",
    "\n",
    "    return pos\n",
    "\n",
    "def min_max(arr):\n",
    "    return (arr - np.min(arr))/(np.max(arr) - np.min(arr))\n",
    "\n",
    "N_voltages      = 10000\n",
    "step_size       = 1e-8\n",
    "time_steps      = np.cumsum(np.repeat(step_size, N_voltages))\n",
    "sample_rate     = (N_voltages-1)/np.max(time_steps)\n",
    "amplitude       = 0.2\n",
    "time_steps      = time_steps[1:]\n",
    "time_start      = 4000\n",
    "time_steps      = time_steps[time_start:]\n",
    "blue_color      = '#4477AA'\n",
    "red_color       = '#EE6677'\n",
    "\n",
    "N_NP        = 3\n",
    "cmeter      = 1/2.54\n",
    "single_col  = 8.6\n",
    "\n",
    "frequencies = [1e5,2e5,3e5,4e5,5e5]"
   ]
  },
  {
   "cell_type": "code",
   "execution_count": null,
   "metadata": {},
   "outputs": [],
   "source": [
    "def nonlinear_index(df : pd.DataFrame, main_frequency : float, sample_rate : float, time_scale=10**6, number_of_frequencies=10):\n",
    "\n",
    "    N_values    = len(df)\n",
    "    values      = []\n",
    "\n",
    "    for col in df.columns:\n",
    "\n",
    "        # Fourier Spectrum\n",
    "        arr     = df.loc[:,col].values\n",
    "        xf      = rfftfreq(N_values-1, 1 / sample_rate)/time_scale\n",
    "        yf      = 2*np.abs(rfft(arr))/N_values\n",
    "        df_f    = pd.DataFrame([xf, yf]).T\n",
    "        df_f    = df_f[df_f[0] >= main_frequency/time_scale]\n",
    "        df_f    = df_f.loc[df_f.loc[:,1].nlargest(number_of_frequencies).index].reset_index(drop=True)\n",
    "\n",
    "        a       = df_f.iloc[1:,1].sum()\n",
    "        b       = df_f.iloc[0,1]\n",
    "\n",
    "        n_idx   = a/b\n",
    "        values.append(n_idx)\n",
    "\n",
    "    return values"
   ]
  },
  {
   "cell_type": "markdown",
   "metadata": {},
   "source": [
    "## State"
   ]
  },
  {
   "cell_type": "code",
   "execution_count": null,
   "metadata": {},
   "outputs": [],
   "source": [
    "input_values = {}\n",
    "\n",
    "for frequency in frequencies:\n",
    "    \n",
    "    values                  = amplitude*np.cos(2*np.pi*frequency*time_steps)\n",
    "    input_values[frequency] = values"
   ]
  },
  {
   "cell_type": "code",
   "execution_count": null,
   "metadata": {},
   "outputs": [],
   "source": [
    "def load_periodic_data(N_NP, path=\"../../../data/periodic/\", frequencies=[1e5,2e5,3e5,4e5,5e5]):\n",
    "\n",
    "    data_states = {}\n",
    "\n",
    "    for frequency in frequencies:\n",
    "\n",
    "        dfs         = {}\n",
    "        n_states    = 0\n",
    "\n",
    "        for i in range(0,10):\n",
    "            for j in range(5):\n",
    "\n",
    "                df_tmp          = pd.read_csv(path+f\"f={(np.round(frequency))}_A={amplitude}mean_state_Nx={N_NP}_Ny={N_NP}_Nz=1_Ne=2_{i}_{j}.csv\")\n",
    "                dfs[n_states]   = df_tmp.iloc[time_start:,:].reset_index(drop=True)\n",
    "                n_states        += 1\n",
    "\n",
    "        data_states[frequency]  = dfs\n",
    "\n",
    "    return data_states"
   ]
  },
  {
   "cell_type": "code",
   "execution_count": null,
   "metadata": {},
   "outputs": [],
   "source": [
    "data_states     = load_periodic_data(7)\n",
    "data_states_dis = load_periodic_data(5, path=\"../../../data/periodic/dis_\")"
   ]
  },
  {
   "cell_type": "markdown",
   "metadata": {},
   "source": [
    "### Example Frequency Spectrum"
   ]
  },
  {
   "cell_type": "code",
   "execution_count": null,
   "metadata": {},
   "outputs": [],
   "source": [
    "n_run       = 0\n",
    "np_idx      = 22\n",
    "frequency   = 1e5\n",
    "\n",
    "with plt.style.context(['science', 'bright','grid']):\n",
    "\n",
    "    fig = plt.figure()\n",
    "    ax  = fig.add_subplot()\n",
    "    ax.plot(time_steps*10**6, input_values[frequency]*1000, c=blue_color)\n",
    "\n",
    "    ax2 = ax.twinx()\n",
    "    ax2.plot(time_steps*10**6, data_states_dis[frequency][n_run].iloc[:,np_idx], c=red_color)\n",
    "\n",
    "    ax.set_xlabel(\"$t$ [$\\mu s$]\")\n",
    "    ax.set_ylabel(\"$U_I$ [$mV$]\")\n",
    "    # ax.set_xlim(45,50)\n",
    "    # ax.set_ylim(-200,200)\n",
    "    ax2.set_ylabel(f\"$<n_{np_idx}>$ [$e$]\")\n",
    "    # ax2.set_ylim(-.005,.005)\n",
    "\n",
    "plt.show()"
   ]
  },
  {
   "cell_type": "code",
   "execution_count": null,
   "metadata": {},
   "outputs": [],
   "source": [
    "arr     = data_states[frequency][n_run].iloc[:,np_idx].values\n",
    "# arr     = (arr - np.mean(arr))/np.std(arr)\n",
    "xf      = rfftfreq(len(arr)-1, 1 / sample_rate)/10**6\n",
    "yf      = 2*np.abs(rfft(arr))/len(arr)\n",
    "\n",
    "with plt.style.context(['science', 'bright','grid']):\n",
    "\n",
    "    fig = plt.figure()\n",
    "    ax  = fig.add_subplot()\n",
    "    ax.plot(xf, yf, label=\"$f_{NP}$\", lw=1)\n",
    "    ax.axvline(frequency/10**6, color=red_color, ls='--', label=\"$f_{Input}$\")\n",
    "    ax.set_xlabel(\"$f$ [$MHz$]\")\n",
    "    ax.set_yscale('log')\n",
    "    ax.set_xlim(0,2)\n",
    "    ax.set_ylim(10**-6)\n",
    "    ax.legend()\n",
    "    ax.set_ylabel('Amplitude [$e$]')\n",
    "\n",
    "plt.show()"
   ]
  },
  {
   "cell_type": "code",
   "execution_count": 183,
   "metadata": {},
   "outputs": [
    {
     "name": "stderr",
     "output_type": "stream",
     "text": [
      "/tmp/ipykernel_163276/802948480.py:19: RuntimeWarning: invalid value encountered in double_scalars\n",
      "  n_idx   = a/b\n",
      "/tmp/ipykernel_163276/802948480.py:19: RuntimeWarning: invalid value encountered in double_scalars\n",
      "  n_idx   = a/b\n"
     ]
    }
   ],
   "source": [
    "idx_vals1   = [nonlinear_index(data_states[frequency][n_run], frequency, sample_rate, number_of_frequencies=10) for frequency in frequencies]\n",
    "idx_vals2   = [nonlinear_index(data_states_dis[frequency][n_run], frequency, sample_rate, number_of_frequencies=10) for frequency in frequencies]"
   ]
  },
  {
   "cell_type": "code",
   "execution_count": 186,
   "metadata": {},
   "outputs": [
    {
     "data": {
      "text/plain": [
       "4.999001043660096"
      ]
     },
     "execution_count": 186,
     "metadata": {},
     "output_type": "execute_result"
    }
   ],
   "source": [
    "np.nanmean(idx_vals1)"
   ]
  },
  {
   "cell_type": "code",
   "execution_count": 185,
   "metadata": {},
   "outputs": [
    {
     "data": {
      "text/plain": [
       "4.843593968724979"
      ]
     },
     "execution_count": 185,
     "metadata": {},
     "output_type": "execute_result"
    }
   ],
   "source": [
    "np.nanmean(idx_vals2)"
   ]
  },
  {
   "cell_type": "markdown",
   "metadata": {},
   "source": [
    "## NP Phase Space"
   ]
  },
  {
   "cell_type": "code",
   "execution_count": null,
   "metadata": {},
   "outputs": [],
   "source": [
    "ele_charge = 1.60217663e-19\n",
    "plot_order = [20,21,22,23,24,15,16,17,18,19,10,11,12,13,14,5,6,7,8,9,0,1,2,3,4]\n",
    "\n",
    "with plt.style.context(['science', 'bright','grid']):\n",
    "\n",
    "    fig = plt.figure()\n",
    "\n",
    "    for n,i in enumerate(plot_order):\n",
    "        \n",
    "        ax  = fig.add_subplot(5,5,n+1)\n",
    "        ax.plot(df.loc[4000:5000,'E0']*1000, 1000*df_states.iloc[4000:5000,i])\n",
    "        ax.set_xlim(-200,200)\n",
    "        ax.set_ylim(-4,4)\n",
    "        \n",
    "        ax.set_xticklabels('')\n",
    "        ax.set_yticklabels('')\n",
    "\n",
    "        if n > 19:\n",
    "            ax.set_xticks([-150,0,150])\n",
    "            ax.set_xticklabels([-150,0,150], fontsize='small')\n",
    "\n",
    "        if n % 5 == 0:\n",
    "            ax.set_yticks([-3,0,3])\n",
    "            ax.set_yticklabels([-3,0,3], fontsize='small')\n",
    "\n",
    "    fig.supxlabel('$U_I$ [$mV$]', y=-0.05)\n",
    "    fig.supylabel('$<n>$ [$\\\\frac{e}{1000}$]')\n",
    "\n",
    "    fig.savefig(f\"plots/states/\"+f\"f={(np.round(frequency))}_A={amplitude}\"+f\"N_{N_NP}_n_vs_U_grid.svg\", bbox_inches='tight', transparent=True)\n",
    "    fig.savefig(f\"plots/states/\"+f\"f={(np.round(frequency))}_A={amplitude}\"+f\"N_{N_NP}_n_vs_U_grid.pdf\", bbox_inches='tight', transparent=False)\n",
    "\n",
    "    plt.show()"
   ]
  },
  {
   "cell_type": "markdown",
   "metadata": {},
   "source": [
    "## Disorder"
   ]
  },
  {
   "cell_type": "code",
   "execution_count": null,
   "metadata": {},
   "outputs": [],
   "source": [
    "N_voltages  = 10000\n",
    "step_size   = 1e-8\n",
    "time_steps  = np.cumsum(np.repeat(step_size, N_voltages))\n",
    "sample_rate = (N_voltages-1)/np.max(time_steps)\n",
    "amplitude   = 0.2\n",
    "time_steps  = time_steps[1:]\n",
    "N_NP        = 7"
   ]
  },
  {
   "cell_type": "code",
   "execution_count": null,
   "metadata": {},
   "outputs": [],
   "source": [
    "data    = {}\n",
    "N_NP    = 7\n",
    "\n",
    "for frequency in [1e5,2e5,3e5,4e5,5e5]:\n",
    "\n",
    "    dfs     = []\n",
    "    n_stat  = 0\n",
    "\n",
    "    for i in range(0,10):\n",
    "        for j in range(5):\n",
    "\n",
    "            df_tmp      = pd.read_csv(f\"../../../data/periodic/f={frequency}_A={amplitude}Nx={N_NP}_Ny={N_NP}_Nz=1_Ne=2_{i}_{j}.csv\")\n",
    "            dfs.append(df_tmp)\n",
    "            n_stat      += 1\n",
    "\n",
    "    df              = sum(dfs)/len(dfs)\n",
    "    test            = pd.DataFrame(np.std(np.stack(dfs), axis=0), columns=df.columns)\n",
    "    df['Error']     = test['Current']\n",
    "    df              = df.drop(columns=['Eq_Jumps'])\n",
    "    df['Error']     = df['Error']/np.sqrt(n_stat)\n",
    "    data[frequency] = df"
   ]
  },
  {
   "cell_type": "code",
   "execution_count": null,
   "metadata": {},
   "outputs": [],
   "source": [
    "pos = [(-1,-1),(5,5),(0,0),(1,0),(2,0),(3,0),(4,0),\n",
    "       (0,1),(1,1),(2,1),(3,1),(4,1),\n",
    "       (0,2),(1,2),(2,2),(3,2),(4,2),\n",
    "       (0,3),(1,3),(2,3),(3,3),(4,3),\n",
    "       (0,4),(1,4),(2,4),(3,4),(4,4)]\n",
    "pos = {i : pos[i] for i in range(0,27)}"
   ]
  },
  {
   "cell_type": "code",
   "execution_count": null,
   "metadata": {},
   "outputs": [],
   "source": [
    "N_NP    = 5\n",
    "G       = nx.DiGraph()\n",
    "G.add_nodes_from([i for i in range(N_NP*N_NP+2)])\n",
    "G.add_edges_from([eval(i) for i in pd.read_csv(f\"../../../data/periodic/dis_f={1e5}_A={amplitude}net_currents_Nx={N_NP}_Ny={N_NP}_Nz=1_Ne=2_0_0.csv\").columns])\n",
    "node_color      = np.repeat(blue_color, N_NP*N_NP+2)\n",
    "node_color[0:2] = None\n",
    "node_labels     = {i:'' for i in range(N_NP*N_NP+2)}\n",
    "node_labels[0]  = '$I$'\n",
    "node_labels[1]  = '$O$'"
   ]
  },
  {
   "cell_type": "code",
   "execution_count": null,
   "metadata": {},
   "outputs": [],
   "source": [
    "with plt.style.context(['science','bright']):\n",
    "    \n",
    "    fig         = plt.figure()\n",
    "    ax1         = fig.add_subplot()\n",
    "    sizes       = np.repeat(0,N_NP*N_NP+2)\n",
    "    sizes[2:]   = np.repeat(100,N_NP*N_NP)\n",
    "    node_colors = np.repeat(blue_color, N_NP*N_NP+2)\n",
    "\n",
    "    nx.draw_networkx(G, pos=pos, node_size=sizes, ax=ax1, node_color=node_colors, arrows=False, labels=node_labels, font_size=20)\n",
    "    plt.tight_layout()\n",
    "    plt.axis('off')\n",
    "    fig.savefig(f\"plots/graphs/default_graph_{N_NP}.svg\", bbox_inches='tight', transparent=True)\n",
    "    plt.show()"
   ]
  },
  {
   "cell_type": "code",
   "execution_count": null,
   "metadata": {},
   "outputs": [],
   "source": [
    "with plt.style.context(['science','bright']):\n",
    "    \n",
    "    fig         = plt.figure()\n",
    "    ax1         = fig.add_subplot()\n",
    "    sizes       = np.repeat(0,N_NP*N_NP+2)\n",
    "    sizes[2:]   = np.abs(np.random.normal(100,50,N_NP*N_NP))\n",
    "    node_colors = np.repeat(blue_color, N_NP*N_NP+2)\n",
    "\n",
    "    nx.draw_networkx(G, pos=pos, node_size=sizes, ax=ax1, node_color=node_colors, arrows=False, labels=node_labels, font_size=20)\n",
    "    plt.tight_layout()\n",
    "    plt.axis('off')\n",
    "    fig.savefig(f\"plots/graphs/default_dis_graph_{N_NP}.svg\", bbox_inches='tight', transparent=True)\n",
    "    plt.show()"
   ]
  },
  {
   "cell_type": "code",
   "execution_count": null,
   "metadata": {},
   "outputs": [],
   "source": [
    "data_dis    = {}\n",
    "N_NP        = 5\n",
    "\n",
    "for frequency in [1e5,2e5,3e5,4e5,5e5]:\n",
    "\n",
    "    dfs     = []\n",
    "    n_stat  = 0\n",
    "\n",
    "    for i in range(0,10):\n",
    "        for j in range(5):\n",
    "\n",
    "            df_tmp      = pd.read_csv(f\"../../../data/periodic/dis_f={frequency}_A={amplitude}Nx={N_NP}_Ny={N_NP}_Nz=1_Ne=2_{i}_{j}.csv\")\n",
    "            dfs.append(df_tmp)\n",
    "            n_stat      += 1\n",
    "\n",
    "    df                  = sum(dfs)/len(dfs)\n",
    "    test                = pd.DataFrame(np.std(np.stack(dfs), axis=0), columns=df.columns)\n",
    "    df['Error']         = test['Current']\n",
    "    df                  = df.drop(columns=['Eq_Jumps'])\n",
    "    df['Error']         = df['Error']/np.sqrt(n_stat)\n",
    "    data_dis[frequency] = df"
   ]
  },
  {
   "cell_type": "code",
   "execution_count": null,
   "metadata": {},
   "outputs": [],
   "source": [
    "plt.plot(data[1e5]['Current'])\n",
    "plt.plot(data_dis[1e5]['Current'])\n",
    "plt.xlim(8000,10000)\n",
    "plt.ylim(-5000,5000)\n",
    "plt.show()"
   ]
  },
  {
   "cell_type": "code",
   "execution_count": null,
   "metadata": {},
   "outputs": [],
   "source": [
    "df_tmp      = pd.DataFrame()\n",
    "df_tmp['U'] = (df.loc[1000:,'E0']*1000).values\n",
    "df_tmp['n'] = (df_states.iloc[1000:,24]).values\n",
    "df_tmp['t'] = (time_steps*10**6)[1000:]\n",
    "df_tmp"
   ]
  },
  {
   "cell_type": "code",
   "execution_count": null,
   "metadata": {},
   "outputs": [],
   "source": [
    "sns.scatterplot(data=df_tmp, x='U', y='n', hue='t', palette='magma')\n",
    "plt.show()"
   ]
  },
  {
   "cell_type": "code",
   "execution_count": null,
   "metadata": {},
   "outputs": [],
   "source": [
    "ele_charge  = 0.160217662\n",
    "cmap        = plt.get_cmap('magma')\n",
    "\n",
    "with plt.style.context(['science', 'bright']):\n",
    "\n",
    "    fig = plt.figure()\n",
    "    ax  = fig.add_subplot()\n",
    "    ax.plot(df.loc[1000:,'E0']*1000, df_states.iloc[1000:,0], '-')\n",
    "    # ax.set_xlim(0,1000)\n",
    "    ax.set_ylim()\n",
    "\n",
    "# plt.plot(df_states.iloc[:,10])\n",
    "plt.show()"
   ]
  },
  {
   "cell_type": "markdown",
   "metadata": {},
   "source": [
    "## I-O dependency"
   ]
  },
  {
   "cell_type": "code",
   "execution_count": null,
   "metadata": {},
   "outputs": [],
   "source": [
    "with plt.style.context(['science', 'bright', 'notebook']):\n",
    "    \n",
    "    fig = plt.figure()\n",
    "    ax1 = fig.add_subplot()\n",
    "    ax1.plot(time_steps*10**6, min_max(df['E0']), '-o', color=blue_color, label='Input')\n",
    "    ax1.plot(time_steps*10**6, min_max(df['Current']), '-s', color=red_color, label='Output')\n",
    "    # ax1.fill_between(time_steps*10**6, df['Current']-df['Error'], df['Current']+df['Error'], color=red_color, alpha=.6)\n",
    "    ax1.set_xlabel('$t$ [$\\mu s$]')\n",
    "    ax1.set_ylabel('Signal')\n",
    "    ax1.set_xlim(0,500)\n",
    "    ax1.legend(loc='upper left')\n",
    "    # ax1.set_ylim(-1,1)\n",
    "\n",
    "    # fig.savefig(f\"plots/\"+f_str+\"I_O_periodic_signal.svg\", bbox_inches='tight', transparent=True)\n",
    "    # fig.savefig(f\"plots/\"+f_str+\"I_O_periodic_signal.pdf\", bbox_inches='tight', transparent=False)\n",
    "plt.show()"
   ]
  },
  {
   "cell_type": "markdown",
   "metadata": {},
   "source": [
    "## combined"
   ]
  },
  {
   "cell_type": "code",
   "execution_count": null,
   "metadata": {},
   "outputs": [],
   "source": [
    "signal  = np.int16((df['Current'].values / df['Current'].values.max()) * 32767)\n",
    "signal  = df['Current'].values\n",
    "input_f = freq*(1e5)/10**6\n",
    "\n",
    "with plt.style.context(['science', 'bright', 'notebook']):\n",
    "\n",
    "    fig = plt.figure()\n",
    "    fig.set_figwidth(2.5*single_col*cmeter)\n",
    "    fig.set_figheight(single_col*cmeter/1)\n",
    "\n",
    "    ax1 = fig.add_subplot(1,2,1)\n",
    "    ax2 = ax1.twinx()\n",
    "    ax1.plot(time_steps*10**6, df['Current'].values, '-', color=blue_color, label='$I$')\n",
    "    ax1.fill_between(time_steps*10**6, df['Current']-df['Error'], df['Current']+df['Error'], color=blue_color, alpha=.6)\n",
    "    ax2.plot(time_steps*10**6, df['E0'].values, '--', color=red_color, label='$U_I$')\n",
    "    ax1.set_xlabel('$t$ [$\\mu s$]')\n",
    "    # ax1.set_ylabel('Signal')\n",
    "    ax1.set_xlim(0,500)\n",
    "    ax1.set_yticklabels(\"\")\n",
    "    ax2.set_yticklabels(\"\")\n",
    "    # ax1.legend(loc='lower right')\n",
    "\n",
    "    yf = rfft(signal)\n",
    "    xf = rfftfreq(N_voltages-1, 1 / sample_rate)\n",
    "\n",
    "    ax  = fig.add_subplot(1,2,2)\n",
    "    ax.plot(xf/10**6, np.abs(yf), label=\"$\\omega_{Output}$\")\n",
    "    ax.axvline(input_f, color=red_color, label=\"$\\omega_{Input}$\", ls='--')\n",
    "    ax.set_xlabel(\"$\\omega$ [$\\\\frac{1}{\\mu s}$]\")\n",
    "    ax.set_ylim(0)\n",
    "    ax.set_xlim(0,0.2)\n",
    "    ax.legend()\n",
    "    ax.set_yticklabels(\"\")\n",
    "    plt.subplots_adjust(wspace=0.2)\n",
    "\n",
    "    fig.savefig(f\"plots/\"+f_str+f\"N={N_NP}_1_In_1_Out_time_dep.svg\", bbox_inches='tight', transparent=True)\n",
    "    fig.savefig(f\"plots/\"+f_str+f\"N={N_NP}_1_In_1_Out_time_dep.pdf\", bbox_inches='tight', transparent=False)\n",
    "\n",
    "plt.show()"
   ]
  },
  {
   "cell_type": "markdown",
   "metadata": {},
   "source": [
    "## Animtaion"
   ]
  },
  {
   "cell_type": "code",
   "execution_count": null,
   "metadata": {},
   "outputs": [],
   "source": [
    "G   = nx.DiGraph()\n",
    "G.add_nodes_from([i for i in range(N_NP*N_NP+8)])\n",
    "G.add_edges_from([eval(i) for i in pd.read_csv(f\"data/periodic/\"+f_str+f\"net_currents_Nx={N_NP}_Ny={N_NP}_Nz=1_Ne=8_0_0.csv\").columns])\n",
    "pos             = get_pos(N_NP)\n",
    "node_color      = np.repeat(blue_color, N_NP*N_NP+8)\n",
    "node_color[0:8] = None\n",
    "node_labels     = {i:'' for i in range(N_NP*N_NP+8)}\n",
    "node_labels[0]  = '$I$'\n",
    "node_labels[2]  = '$C$'\n",
    "node_labels[4]  = '$C$'\n",
    "node_labels[7]  = '$O$'\n",
    "node_labels[1]  = '$C$'\n",
    "node_labels[3]  = '$C$'\n",
    "node_labels[5]  = '$C$'\n",
    "node_labels[6]  = '$C$'"
   ]
  },
  {
   "cell_type": "code",
   "execution_count": null,
   "metadata": {},
   "outputs": [],
   "source": [
    "n_stat  = 1\n",
    "states  = pd.read_csv(f\"data/periodic/\"+f_str+\"mean_state_Nx=7_Ny=7_Nz=1_Ne=8_0_0.csv\")\n",
    "\n",
    "for i in range(0,10):\n",
    "    for j in range(5):\n",
    "        if not((i == 0) and (j == 0)):\n",
    "            states += pd.read_csv(\"data/periodic/\"+f_str+f\"mean_state_Nx=7_Ny=7_Nz=1_Ne=8_{i}_{j}.csv\")\n",
    "            n_stat += 1\n",
    "            \n",
    "states = states/n_stat"
   ]
  },
  {
   "cell_type": "code",
   "execution_count": null,
   "metadata": {},
   "outputs": [],
   "source": [
    "raw_data    = pd.read_csv(\"data/periodic/\"+f_str+\"Nx=7_Ny=7_Nz=1_Ne=8_0_0.csv\")\n",
    "in_vals     = 1000*raw_data['E0'].values\n",
    "t_vals      = time_steps*10**6\n",
    "\n",
    "start_ind   = 1500\n",
    "n_frames    = 500\n",
    "in_vals     = in_vals[start_ind:start_ind+n_frames]\n",
    "t_vals      = t_vals[start_ind:start_ind+n_frames]\n",
    "\n",
    "with plt.style.context(['science','bright']):\n",
    "    \n",
    "    fig = plt.figure()\n",
    "    fig.set_figwidth(2.5*single_col*cmeter)\n",
    "    fig.set_figheight(single_col*cmeter/1)\n",
    "    ax1 = fig.add_subplot(1,2,1)\n",
    "    ax2 = fig.add_subplot(1,2,2)\n",
    "\n",
    "    def update(row):\n",
    "\n",
    "        ax1.clear()\n",
    "        ax1.plot(t_vals, in_vals)\n",
    "        ax1.plot(t_vals[row], in_vals[row], 'o')\n",
    "        ax1.set_xlabel('$t$ [$\\mu s$]')\n",
    "        ax1.set_ylabel('Input [$mV$]')\n",
    "        ax1.set_xlim(np.round(np.min(t_vals)),np.round(np.max(t_vals)))\n",
    "        ax1.set_ylim(-100,100)\n",
    "\n",
    "        ax2.clear()\n",
    "\n",
    "        sizes       = np.repeat(0,49+8)\n",
    "        s_vals      = states.iloc[row].values\n",
    "        sizes[8:]   = 5000*np.abs(s_vals)\n",
    "\n",
    "        node_colors = np.repeat(blue_color, 49+8)\n",
    "        node_colors[8:][s_vals < 0] = red_color\n",
    "\n",
    "        nx.draw_networkx(G, pos=pos, node_size=sizes, ax=ax2, node_color=node_colors, arrows=False, labels=node_labels, font_size=16)\n",
    "        ax.set_title(f'$t = {np.round((10**6)*time_steps[row],2)}$ $\\mu s$')\n",
    "        plt.tight_layout()\n",
    "        # plt.axis('off')\n",
    "        \n",
    "    ani = animation.FuncAnimation(fig, update, frames=n_frames, interval=200, repeat_delay=1000, repeat=True)\n",
    "    ani.save(\"plots/gifs/\"+f_str+\"anim.gif\", dpi=200)\n",
    "\n",
    "plt.show()"
   ]
  },
  {
   "cell_type": "code",
   "execution_count": null,
   "metadata": {},
   "outputs": [],
   "source": [
    "with plt.style.context(['science','bright']):\n",
    "    \n",
    "    fig         = plt.figure()\n",
    "    ax1         = fig.add_subplot()\n",
    "    sizes       = np.repeat(0,N_NP*N_NP+8)\n",
    "    sizes[8:]   = np.repeat(100,N_NP*N_NP)\n",
    "    node_colors = np.repeat(blue_color, N_NP*N_NP+8)\n",
    "\n",
    "    nx.draw_networkx(G, pos=pos, node_size=sizes, ax=ax1, node_color=node_colors, arrows=False, labels=node_labels, font_size=20)\n",
    "    plt.tight_layout()\n",
    "    plt.axis('off')\n",
    "    fig.savefig(f\"default_graph_{N_NP}.svg\", bbox_inches='tight', transparent=True)\n",
    "    plt.show()"
   ]
  },
  {
   "cell_type": "markdown",
   "metadata": {},
   "source": [
    "### Noise"
   ]
  },
  {
   "cell_type": "code",
   "execution_count": null,
   "metadata": {},
   "outputs": [],
   "source": [
    "noise_data  = {}\n",
    "n           = 0\n",
    "\n",
    "for i in range(0,10):\n",
    "\n",
    "    for j in range(5):\n",
    "\n",
    "        df_tmp          = pd.read_csv(f\"data/noise/Nx=5_Ny=5_Nz=1_Ne=8_{i}_{j}.csv\")\n",
    "        df_tmp          = df_tmp.drop(columns=['Eq_Jumps', 'Error'])\n",
    "        noise_data[n]   = df_tmp\n",
    "        n               += 1\n",
    "\n",
    "noise_data[0]"
   ]
  },
  {
   "cell_type": "code",
   "execution_count": null,
   "metadata": {},
   "outputs": [],
   "source": [
    "n = 20\n",
    "\n",
    "with plt.style.context(['science', 'bright', 'grid']):\n",
    "    \n",
    "    fig = plt.figure()\n",
    "    ax1 = fig.add_subplot()\n",
    "    ax1.plot(time_steps*10**6, noise_data[n]['E0']*1000, '.-', color=blue_color, markevery=10)\n",
    "    # ax1.plot(time_steps*10**6, noise_data[10]['E0'], '.-', color=blue_color, markevery=10)\n",
    "    # ax1.fill_between(time_steps*10**6, df['Current']-df['Error'], df['Current']+df['Error'], color=red_color, alpha=.6)\n",
    "    ax1.set_xlabel('$t$ [$\\mu s$]')\n",
    "    ax1.set_ylabel('$U_I$ [mV]')\n",
    "    ax1.set_xlim(0,1000)\n",
    "    # ax1.legend(loc='upper left')\n",
    "    # ax1.set_ylim(-1,1)\n",
    "\n",
    "    fig.savefig(f\"plots/noise_input_signal_{n}.svg\", bbox_inches='tight', transparent=True)\n",
    "    fig.savefig(f\"plots/noise_input_signal_{n}.pdf\", bbox_inches='tight', transparent=False)\n",
    "\n",
    "plt.show()"
   ]
  },
  {
   "cell_type": "code",
   "execution_count": null,
   "metadata": {},
   "outputs": [],
   "source": [
    "n = 20\n",
    "\n",
    "with plt.style.context(['science', 'bright', 'grid']):\n",
    "    \n",
    "    fig = plt.figure()\n",
    "    ax1 = fig.add_subplot()\n",
    "    ax1.plot(time_steps*10**6, noise_data[n]['Current'], '.-', color=blue_color, markevery=10)\n",
    "    # ax1.plot(time_steps*10**6, noise_data[10]['E0'], '.-', color=blue_color, markevery=10)\n",
    "    # ax1.fill_between(time_steps*10**6, df['Current']-df['Error'], df['Current']+df['Error'], color=red_color, alpha=.6)\n",
    "    ax1.set_xlabel('$t$ [$\\mu s$]')\n",
    "    ax1.set_ylabel('$I_O$ [$pA$]')\n",
    "    ax1.set_xlim(0,1000)\n",
    "    # ax1.legend(loc='upper left')\n",
    "    # ax1.set_ylim(-1,1)\n",
    "\n",
    "    fig.savefig(f\"plots/noise_output_signal_{n}.svg\", bbox_inches='tight', transparent=True)\n",
    "    fig.savefig(f\"plots/noise_output_signal_{n}.pdf\", bbox_inches='tight', transparent=False)\n",
    "\n",
    "plt.show()"
   ]
  },
  {
   "cell_type": "code",
   "execution_count": null,
   "metadata": {},
   "outputs": [],
   "source": [
    "fig = plt.figure()\n",
    "ax  = fig.add_subplot()\n",
    "\n",
    "for key,df in noise_data.items():\n",
    "\n",
    "    ax = df['Current'].plot(ax=ax)\n",
    "\n",
    "plt.show()"
   ]
  },
  {
   "cell_type": "code",
   "execution_count": null,
   "metadata": {},
   "outputs": [],
   "source": [
    "def memory_cap(x, y):\n",
    "\n",
    "    x_norm  = x - np.mean(x)\n",
    "    y_norm  = y - np.mean(y)\n",
    "    lags    = np.arange(0, len(test_x))\n",
    "    \n",
    "    np.roll(x, -lag)-np.mean(x)\n",
    "    "
   ]
  },
  {
   "cell_type": "code",
   "execution_count": null,
   "metadata": {},
   "outputs": [],
   "source": [
    "ccorr_list = []\n",
    "\n",
    "for key, df in noise_data.items():\n",
    "    \n",
    "    test_x  = df['E0'].values\n",
    "    test_y  = df['Current'].values\n",
    "    lags    = np.arange(0, len(test_x))\n",
    "    x       = test_x - np.mean(test_x)\n",
    "    y       = test_y - np.mean(test_y)\n",
    "    ccorr   = [(np.correlate(test_x, np.roll(test_y, -lag)) / (np.linalg.norm(test_x) * np.linalg.norm(test_y)))[0] for lag in lags]\n",
    "    \n",
    "    ccorr_list.append(ccorr)"
   ]
  },
  {
   "cell_type": "code",
   "execution_count": null,
   "metadata": {},
   "outputs": [],
   "source": [
    "means   = np.mean(np.array(ccorr_list).T,axis=1)\n",
    "stds    = np.std(np.array(ccorr_list).T,axis=1)\n",
    "\n",
    "with plt.style.context(['science', 'bright','notebook']):\n",
    "\n",
    "    fig = plt.figure()\n",
    "    ax  = fig.add_subplot()\n",
    "    ax.plot(time_steps*10**6, means, '-')\n",
    "    ax.fill_between(time_steps*10**6, means-stds, means+stds, alpha=0.6)\n",
    "    # ax.plot(time_steps*10**6, np.mean(np.array(ccorr_list).T,axis=1))\n",
    "    ax.set_xlabel(\"$\\\\tau$ [$\\mu s$]\")\n",
    "    ax.set_xlim(0,100)\n",
    "    ax.set_ylim(0,1)\n",
    "    plt.show()"
   ]
  },
  {
   "cell_type": "code",
   "execution_count": null,
   "metadata": {},
   "outputs": [],
   "source": [
    "with plt.style.context(['science', 'bright','notebook']):\n",
    "\n",
    "    fig = plt.figure()\n",
    "    ax  = fig.add_subplot()\n",
    "    ax.plot(np.arange(0,len(test_x)), test_x)\n",
    "    ax2 = ax.twinx()\n",
    "    ax2.plot(np.arange(len(test_x),len(test_x)*2), test_y)"
   ]
  },
  {
   "cell_type": "code",
   "execution_count": null,
   "metadata": {},
   "outputs": [],
   "source": [
    "# Sample time series data for x and y\n",
    "x = np.array([1, 2, 3, 4, 5])\n",
    "y = np.array([3, 4, 5, 6, 7])\n",
    "\n",
    "# Calculate the cross-correlation using the normalized cross-correlation formula\n",
    "cross_corr = [np.correlate(x, np.roll(y, -lag)) / (np.linalg.norm(x) * np.linalg.norm(y)) for lag in range(len(x))]\n",
    "\n",
    "# Create the lag values\n",
    "lags = range(len(x))\n",
    "\n",
    "# Plot the standardized cross-correlation as a function of τ\n",
    "plt.plot(lags, cross_corr)\n",
    "plt.xlabel('Time Lag (τ)')\n",
    "plt.ylabel('Standardized Cross-correlation')\n",
    "plt.show()"
   ]
  },
  {
   "cell_type": "code",
   "execution_count": null,
   "metadata": {},
   "outputs": [],
   "source": [
    "blue_color          = '#4477AA'\n",
    "red_color           = '#EE6677'\n",
    "\n",
    "with plt.style.context([\"science\",\"nature\",\"bright\"]):\n",
    "    \n",
    "    fig, ax1    = plt.subplots(dpi=200)\n",
    "    ax2         = ax1.twinx()\n",
    "\n",
    "    ax1.errorbar(x=time_steps[:-1]*1000 ,y=df['O'], yerr=df['sO'], c=blue_color)\n",
    "    ax2.plot(time_steps[:-1]*1000, df['I']*1000, c=red_color)\n",
    "    ax1.set_xlabel(\"Time [ms]\")\n",
    "    ax1.set_ylabel(\"Output [pA]\")\n",
    "    ax2.set_ylabel(\"Input [mV]\")\n",
    "\n",
    "    ax1.legend(['Output'], loc='lower left')\n",
    "    ax2.legend(['Input'], loc='lower right')\n",
    "\n",
    "    ax1.set_ylim(-1500,1500)\n",
    "    ax2.set_ylim(-50,50)\n",
    "\n",
    "plt.show()"
   ]
  },
  {
   "cell_type": "code",
   "execution_count": null,
   "metadata": {},
   "outputs": [],
   "source": [
    "with plt.style.context([\"science\",\"nature\",\"bright\"]):\n",
    "    \n",
    "    fig, ax1    = plt.subplots(dpi=200)\n",
    "    df          = dic[0.5]\n",
    "\n",
    "    ax1.plot(df['O'], df['I']*1000)\n",
    "    ax1.set_xlabel(\"Input [mV]\")\n",
    "    ax1.set_ylabel(\"Output [pA]\")\n",
    "    plt.show()"
   ]
  },
  {
   "attachments": {},
   "cell_type": "markdown",
   "metadata": {},
   "source": [
    "# States"
   ]
  },
  {
   "cell_type": "code",
   "execution_count": null,
   "metadata": {},
   "outputs": [],
   "source": [
    "G   = nx.DiGraph()\n",
    "G.add_nodes_from([i for i in range(49+8)])\n",
    "G.add_edges_from([eval(i) for i in pd.read_csv(f\"data/periodic/net_currents_Nx=7_Ny=7_Nz=1_Ne=8_0_0.csv\").columns])\n",
    "pos             = get_pos(7)\n",
    "node_color      = np.repeat(blue_color, 49+8)\n",
    "node_color[0:8] = None\n",
    "node_labels     = {i:'' for i in range(49+8)}\n",
    "node_labels[0]  = '$I$'\n",
    "node_labels[2]  = '$C$'\n",
    "node_labels[4]  = '$C$'\n",
    "node_labels[7]  = '$O$'\n",
    "node_labels[1]  = '$C$'\n",
    "node_labels[3]  = '$C$'\n",
    "node_labels[5]  = '$C$'\n",
    "node_labels[6]  = '$C$'"
   ]
  },
  {
   "cell_type": "code",
   "execution_count": null,
   "metadata": {},
   "outputs": [],
   "source": [
    "states = pd.read_csv(f\"data/periodic/mean_state_Nx=7_Ny=7_Nz=1_Ne=8_0_0.csv\")\n",
    "states"
   ]
  },
  {
   "cell_type": "code",
   "execution_count": null,
   "metadata": {},
   "outputs": [],
   "source": [
    "s_vals = states.abs()\n",
    "s_vals = s_vals/np.max(s_vals.max())\n",
    "s_logs = np.log(s_vals)\n",
    "s_logs = s_logs - np.min(s_logs.min())\n",
    "s_logs"
   ]
  },
  {
   "cell_type": "code",
   "execution_count": null,
   "metadata": {},
   "outputs": [],
   "source": [
    "s_flat  = states.values.flatten()\n",
    "s_flat  = (s_flat - np.min(s_flat))/(np.max(s_flat) - np.min(s_flat))\n",
    "s_flat  = s_flat.reshape(-1,49)\n",
    "s_flat"
   ]
  },
  {
   "cell_type": "code",
   "execution_count": null,
   "metadata": {},
   "outputs": [],
   "source": [
    "with plt.style.context(['science','bright']):\n",
    "    \n",
    "    fig = plt.figure()\n",
    "    ax  = fig.add_subplot()\n",
    "\n",
    "    def update(row):\n",
    "        \n",
    "        ax.clear()\n",
    "\n",
    "        sizes       = np.repeat(0,49+8)\n",
    "        s_vals      = states.iloc[row].values\n",
    "        sizes[8:]   = 500*np.abs(s_vals)\n",
    "\n",
    "        node_colors = np.repeat(blue_color, 49+8)\n",
    "        node_colors[8:][s_vals < 0] = red_color\n",
    "\n",
    "        nx.draw_networkx(G, pos=pos, node_size=sizes, ax=ax, node_color=node_colors, arrows=False, labels=node_labels, font_size=8)\n",
    "        ax.set_title(f'$t = {np.round((10**6)*time_steps[row],2)}$ $\\mu s$')\n",
    "        plt.axis('off')\n",
    "\n",
    "\n",
    "    ani = animation.FuncAnimation(fig, update, frames=len(states), interval=200, repeat_delay=1000, repeat=True)\n",
    "    ani.save(\"test.gif\")"
   ]
  },
  {
   "cell_type": "code",
   "execution_count": null,
   "metadata": {},
   "outputs": [],
   "source": [
    "raw_data    = pd.read_csv(f\"data/periodic/Nx=7_Ny=7_Nz=1_Ne=8_0_0.csv\")\n",
    "in_vals     = 1000*raw_data['E0'].values\n",
    "t_vals      = time_steps*10**6\n",
    "\n",
    "with plt.style.context(['science','bright']):\n",
    "    \n",
    "    fig = plt.figure()\n",
    "    ax  = fig.add_subplot()\n",
    "\n",
    "    def update(step):\n",
    "        ax.clear()\n",
    "        ax.plot(t_vals, in_vals)\n",
    "        ax.plot(t_vals[step], in_vals[step], 'o')\n",
    "        ax.set_xlabel('$t$ [$\\mu s$]')\n",
    "        ax.set_ylabel('Input [$mV$]')\n",
    "        ax.set_xlim(0,200)\n",
    "        ax.set_ylim(-50,50)\n",
    "        \n",
    "    ani = animation.FuncAnimation(fig, update, frames=len(states), interval=200, repeat_delay=1000, repeat=True)\n",
    "    ani.save(\"test2.gif\")\n",
    "\n",
    "plt.show()"
   ]
  },
  {
   "cell_type": "code",
   "execution_count": null,
   "metadata": {},
   "outputs": [],
   "source": [
    "raw_data    = pd.read_csv(f\"data/periodic/Nx=7_Ny=7_Nz=1_Ne=8_0_0.csv\")\n",
    "in_vals     = 1000*raw_data['E0'].values\n",
    "t_vals      = time_steps*10**6\n",
    "\n",
    "with plt.style.context(['science','bright']):\n",
    "    \n",
    "    fig = plt.figure()\n",
    "    fig.set_figwidth(2*single_col*cmeter)\n",
    "    # fig.set_figheight(single_col*cmeter)\n",
    "    ax1 = fig.add_subplot(1,2,1)\n",
    "    ax2 = fig.add_subplot(1,2,2)\n",
    "\n",
    "    def update(row):\n",
    "\n",
    "        ax1.clear()\n",
    "        ax1.plot(t_vals, in_vals)\n",
    "        ax1.plot(t_vals[row], in_vals[row], 'o')\n",
    "        ax1.set_xlabel('$t$ [$\\mu s$]')\n",
    "        ax1.set_ylabel('Input [$mV$]')\n",
    "        ax1.set_xlim(0,200)\n",
    "        ax1.set_ylim(-50,50)\n",
    "\n",
    "        ax2.clear()\n",
    "\n",
    "        sizes       = np.repeat(0,49+8)\n",
    "        s_vals      = states.iloc[row].values\n",
    "        sizes[8:]   = 500*np.abs(s_vals)\n",
    "\n",
    "        node_colors = np.repeat(blue_color, 49+8)\n",
    "        node_colors[8:][s_vals < 0] = red_color\n",
    "\n",
    "        nx.draw_networkx(G, pos=pos, node_size=sizes, ax=ax2, node_color=node_colors, arrows=False, labels=node_labels, font_size=8)\n",
    "        ax.set_title(f'$t = {np.round((10**6)*time_steps[row],2)}$ $\\mu s$')\n",
    "        plt.tight_layout()\n",
    "        # plt.axis('off')\n",
    "        \n",
    "    ani = animation.FuncAnimation(fig, update, frames=5, interval=200, repeat_delay=1000, repeat=True)\n",
    "    ani.save(\"test.gif\")\n",
    "\n",
    "plt.show()"
   ]
  }
 ],
 "metadata": {
  "kernelspec": {
   "display_name": "Python 3",
   "language": "python",
   "name": "python3"
  },
  "language_info": {
   "codemirror_mode": {
    "name": "ipython",
    "version": 3
   },
   "file_extension": ".py",
   "mimetype": "text/x-python",
   "name": "python",
   "nbconvert_exporter": "python",
   "pygments_lexer": "ipython3",
   "version": "3.10.12"
  },
  "orig_nbformat": 4
 },
 "nbformat": 4,
 "nbformat_minor": 2
}
